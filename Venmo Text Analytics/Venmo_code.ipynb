{
 "cells": [
  {
   "cell_type": "markdown",
   "metadata": {},
   "source": [
    "# BAX423 Big Data Analytics - Venmo Transaction Analytics "
   ]
  },
  {
   "cell_type": "code",
   "execution_count": 1,
   "metadata": {
    "ExecuteTime": {
     "end_time": "2020-10-18T18:19:53.140047Z",
     "start_time": "2020-10-18T18:19:51.242347Z"
    },
    "colab": {},
    "colab_type": "code",
    "id": "8QLNF7yiz06z"
   },
   "outputs": [],
   "source": [
    "import pandas as pd\n",
    "import matplotlib.pyplot as plt\n",
    "\n",
    "# spark\n",
    "import findspark\n",
    "findspark.init('/usr/local/appleOwner/apache-spark/3.0.1/libexec')\n",
    "from pyspark.sql import SparkSession\n",
    "from pyspark.sql import SQLContext\n",
    "from pyspark.sql.functions import monotonically_increasing_id\n",
    "import pyspark.sql.functions as F\n",
    "from pyspark.sql.functions import concat, col, lit, when, max\n",
    "from pyspark.sql.window import Window\n",
    "\n",
    "# social network \n",
    "import networkx as nx\n",
    "\n",
    "# emoji and regex\n",
    "import functools\n",
    "import operator \n",
    "import re\n",
    "import emoji\n",
    "from collections import Counter\n",
    "\n",
    "# regression\n",
    "from pyspark.ml.regression import LinearRegression\n",
    "from pyspark.ml import Pipeline\n",
    "from pyspark.ml.linalg import Vectors\n",
    "from pyspark.ml.feature import VectorAssembler, StringIndexer, OneHotEncoder"
   ]
  },
  {
   "cell_type": "markdown",
   "metadata": {
    "colab_type": "text",
    "id": "yWMARfcxz07l"
   },
   "source": [
    "# Part 1: Text analytics "
   ]
  },
  {
   "cell_type": "markdown",
   "metadata": {
    "colab_type": "text",
    "id": "-8FbFjgTz07o"
   },
   "source": [
    "## load dataset "
   ]
  },
  {
   "cell_type": "code",
   "execution_count": 2,
   "metadata": {
    "ExecuteTime": {
     "end_time": "2020-10-18T18:20:05.055117Z",
     "start_time": "2020-10-18T18:19:56.874193Z"
    },
    "colab": {},
    "colab_type": "code",
    "id": "3HpRQjAtz07p"
   },
   "outputs": [],
   "source": [
    "# initialise sparkContext\n",
    "spark = SparkSession.builder \\\n",
    "        .master('local[*]') \\\n",
    "        .appName('Venmo') \\\n",
    "        .config('spark.executor.memory', '10gb') \\\n",
    "        .config(\"spark.cores.max\", \"8\") \\\n",
    "        .config(\"spark.executor.cores\", \"6\") \\\n",
    "        .getOrCreate()\n",
    "\n",
    "# read parquet file\n",
    "df_venmo = spark.read.parquet('VenmoSample.snappy.parquet')"
   ]
  },
  {
   "cell_type": "code",
   "execution_count": 3,
   "metadata": {
    "ExecuteTime": {
     "end_time": "2020-10-18T18:20:06.862224Z",
     "start_time": "2020-10-18T18:20:06.812546Z"
    }
   },
   "outputs": [
    {
     "data": {
      "text/plain": [
       "[('spark.executor.cores', '6'),\n",
       " ('spark.executor.memory', '10gb'),\n",
       " ('spark.rdd.compress', 'True'),\n",
       " ('spark.driver.port', '54513'),\n",
       " ('spark.serializer.objectStreamReset', '100'),\n",
       " ('spark.cores.max', '8'),\n",
       " ('spark.driver.host', '10.0.0.225'),\n",
       " ('spark.master', 'local[*]'),\n",
       " ('spark.executor.id', 'driver'),\n",
       " ('spark.submit.deployMode', 'client'),\n",
       " ('spark.app.id', 'local-1603045200126'),\n",
       " ('spark.app.name', 'Venmo'),\n",
       " ('spark.ui.showConsoleProgress', 'true')]"
      ]
     },
     "execution_count": 3,
     "metadata": {},
     "output_type": "execute_result"
    }
   ],
   "source": [
    "spark.sparkContext.getConf().getAll()"
   ]
  },
  {
   "cell_type": "code",
   "execution_count": 4,
   "metadata": {
    "ExecuteTime": {
     "end_time": "2020-10-18T18:20:13.526010Z",
     "start_time": "2020-10-18T18:20:13.467737Z"
    }
   },
   "outputs": [
    {
     "name": "stdout",
     "output_type": "stream",
     "text": [
      "6\n",
      "1\n",
      "1\n"
     ]
    }
   ],
   "source": [
    "print(int(spark.sparkContext.getConf().get('spark.executor.cores','1')))\n",
    "print(spark._jsc.sc().getExecutorMemoryStatus().size())\n",
    "print(len(spark.sparkContext._jsc.sc().statusTracker().getExecutorInfos()))"
   ]
  },
  {
   "cell_type": "code",
   "execution_count": null,
   "metadata": {
    "ExecuteTime": {
     "end_time": "2020-05-04T01:58:01.008013Z",
     "start_time": "2020-05-04T01:57:59.222673Z"
    },
    "colab": {
     "base_uri": "https://localhost:8080/",
     "height": 34
    },
    "colab_type": "code",
    "id": "M_WMJ4boz078",
    "outputId": "ce8b4f48-fcc5-4b01-8963-62097645d25d"
   },
   "outputs": [
    {
     "data": {
      "text/plain": [
       "7113137"
      ]
     },
     "execution_count": 22,
     "metadata": {
      "tags": []
     },
     "output_type": "execute_result"
    }
   ],
   "source": [
    "# count total number of records\n",
    "df_venmo.count()"
   ]
  },
  {
   "cell_type": "code",
   "execution_count": 5,
   "metadata": {
    "ExecuteTime": {
     "end_time": "2020-10-18T18:20:19.996150Z",
     "start_time": "2020-10-18T18:20:18.818923Z"
    }
   },
   "outputs": [
    {
     "name": "stdout",
     "output_type": "stream",
     "text": [
      "4\n",
      "4\n",
      "16\n"
     ]
    }
   ],
   "source": [
    "print(spark.sparkContext.defaultParallelism)\n",
    "print(df_venmo.rdd.getNumPartitions())\n",
    "df_venmo = df_venmo.repartition(16)\n",
    "print(df_venmo.rdd.getNumPartitions())"
   ]
  },
  {
   "cell_type": "code",
   "execution_count": null,
   "metadata": {
    "ExecuteTime": {
     "end_time": "2020-05-01T21:21:58.390482Z",
     "start_time": "2020-05-01T21:21:58.369352Z"
    },
    "colab": {},
    "colab_type": "code",
    "id": "MSKCQ5XTz08U",
    "outputId": "37e0e3b1-83f0-4d1d-92cc-ef4d0bf23abc",
    "scrolled": true
   },
   "outputs": [
    {
     "name": "stdout",
     "output_type": "stream",
     "text": [
      "root\n",
      " |-- user1: integer (nullable = true)\n",
      " |-- user2: integer (nullable = true)\n",
      " |-- transaction_type: string (nullable = true)\n",
      " |-- datetime: timestamp (nullable = true)\n",
      " |-- description: string (nullable = true)\n",
      " |-- is_business: boolean (nullable = true)\n",
      " |-- story_id: string (nullable = true)\n",
      "\n"
     ]
    }
   ],
   "source": [
    "df_venmo.printSchema()"
   ]
  },
  {
   "cell_type": "code",
   "execution_count": 5,
   "metadata": {
    "ExecuteTime": {
     "end_time": "2020-10-18T16:58:12.608178Z",
     "start_time": "2020-10-18T16:57:41.094856Z"
    },
    "colab": {
     "base_uri": "https://localhost:8080/",
     "height": 212
    },
    "colab_type": "code",
    "id": "TV1Rmqfjz086",
    "outputId": "e67eb0f8-5282-4714-ff21-733f0e6e0c5a"
   },
   "outputs": [
    {
     "name": "stdout",
     "output_type": "stream",
     "text": [
      "+--------+-------+----------------+-------------------+--------------------+-----------+--------------------+-----+\n",
      "|   user1|  user2|transaction_type|           datetime|         description|is_business|            story_id|index|\n",
      "+--------+-------+----------------+-------------------+--------------------+-----------+--------------------+-----+\n",
      "|16013547|6543786|         payment|2016-11-28 17:08:11|           Christmas|      false|583c647b23e064eac...|    0|\n",
      "|15995535|2446904|         payment|2016-11-27 23:06:58|                 Mil|      false|583b671223e064eac...|    1|\n",
      "|15953299| 653552|          charge|2016-11-26 07:55:15|              Hookah|      false|58393fe323e064eac...|    2|\n",
      "|15932130| 783638|         payment|2016-11-25 16:05:59| Sex. Moeny for sex.|      false|5838616723e064eac...|    3|\n",
      "|15930503|6330169|         payment|2016-11-25 13:37:23|       Bridal shower|      false|58383e9323e064eac...|    4|\n",
      "|15928236|7406171|         payment|2016-11-25 05:34:29|                  👗|      false|5837cd6523e064eac...|    5|\n",
      "|15908361|7108892|         payment|2016-11-24 03:24:02|          Coffeeee💘|      false|58365d5223e064eac...|    6|\n",
      "|15907309|4316427|         payment|2016-11-24 02:34:27|           Monicals!|      false|583651b323e064eac...|    7|\n",
      "|15905400|5548024|         payment|2016-11-24 14:40:56|            for gift|      false|5836fbf823e064eac...|    8|\n",
      "|15900347|8707094|          charge|2016-11-23 21:59:23|                  🅿|      false|5836113b23e064eac...|    9|\n",
      "|15895859|4117869|         payment|2016-11-23 22:45:21|This should cover...|      false|58361c0123e064eac...|   10|\n",
      "|15894384|3063931|          charge|2016-11-23 18:42:37|              Hey 😊|      false|5835e31d23e064eac...|   11|\n",
      "|15883023|6184758|         payment|2016-11-23 03:54:12|        shanghaibest|      false|583512e423e064eac...|   12|\n",
      "|15877751|6845358|         payment|2016-11-23 00:24:41|                  🍴|      false|5834e1c923e064eac...|   13|\n",
      "|15853097|  38455|         payment|2016-11-22 14:46:22|        for sunglass|      false|58345a3e23e064eac...|   14|\n",
      "|15846620|7834777|         payment|2016-11-22 00:17:38|                Food|      false|58338ea223e064eac...|   15|\n",
      "|15846007| 676487|         payment|2016-11-21 22:40:32|              🏷🏷🏷|      false|583377e023e064eac...|   16|\n",
      "|15841342|4587156|         payment|2016-11-26 19:20:56|                 fag|      false|5839e09823e064eac...|   17|\n",
      "|15838917|3138264|         payment|2016-11-21 19:23:05|    The Wonder Years|      false|5833499a23e064eac...|   18|\n",
      "|15831815|8505322|         payment|2016-11-22 14:59:16|         for friend?|      false|58345d4423e064eac...|   19|\n",
      "+--------+-------+----------------+-------------------+--------------------+-----------+--------------------+-----+\n",
      "only showing top 20 rows\n",
      "\n"
     ]
    }
   ],
   "source": [
    "# add index column and create temporary view\n",
    "df_venmo = df_venmo.sort(col(\"user1\").desc()).withColumn(\"index\", monotonically_increasing_id())\n",
    "df_venmo.createOrReplaceTempView(\"Venmo\")\n",
    "df_venmo.show()"
   ]
  },
  {
   "cell_type": "markdown",
   "metadata": {
    "colab_type": "text",
    "id": "Ketvqgpzz09S"
   },
   "source": [
    "## Using the text dictionary and the emoji dictionary to classify Venmo’s transactions in your sample dataset. "
   ]
  },
  {
   "cell_type": "code",
   "execution_count": 6,
   "metadata": {
    "ExecuteTime": {
     "end_time": "2020-10-18T16:58:29.253629Z",
     "start_time": "2020-10-18T16:58:29.143285Z"
    },
    "colab": {
     "base_uri": "https://localhost:8080/",
     "height": 107
    },
    "colab_type": "code",
    "id": "xyQT67TKz09T",
    "outputId": "80826f82-ba65-487d-c479-c0c8dc66791d"
   },
   "outputs": [
    {
     "data": {
      "text/html": [
       "<div>\n",
       "<style scoped>\n",
       "    .dataframe tbody tr th:only-of-type {\n",
       "        vertical-align: middle;\n",
       "    }\n",
       "\n",
       "    .dataframe tbody tr th {\n",
       "        vertical-align: top;\n",
       "    }\n",
       "\n",
       "    .dataframe thead th {\n",
       "        text-align: right;\n",
       "    }\n",
       "</style>\n",
       "<table border=\"1\" class=\"dataframe\">\n",
       "  <thead>\n",
       "    <tr style=\"text-align: right;\">\n",
       "      <th></th>\n",
       "      <th>People</th>\n",
       "      <th>Food</th>\n",
       "      <th>Event</th>\n",
       "      <th>Activity</th>\n",
       "      <th>Travel</th>\n",
       "      <th>Transportation</th>\n",
       "      <th>Utility</th>\n",
       "      <th>Cash</th>\n",
       "      <th>Illegal/Sarcasm</th>\n",
       "    </tr>\n",
       "  </thead>\n",
       "  <tbody>\n",
       "    <tr>\n",
       "      <td>0</td>\n",
       "      <td>❤️</td>\n",
       "      <td>🍕</td>\n",
       "      <td>👰</td>\n",
       "      <td>🍻</td>\n",
       "      <td>🌴</td>\n",
       "      <td>⛽</td>\n",
       "      <td>🏡</td>\n",
       "      <td>💸</td>\n",
       "      <td>🖕🏿</td>\n",
       "    </tr>\n",
       "    <tr>\n",
       "      <td>1</td>\n",
       "      <td>👯</td>\n",
       "      <td>🍵</td>\n",
       "      <td>🎤</td>\n",
       "      <td>🏀</td>\n",
       "      <td>✈️</td>\n",
       "      <td>🅿</td>\n",
       "      <td>💡</td>\n",
       "      <td>💰</td>\n",
       "      <td>☠</td>\n",
       "    </tr>\n",
       "  </tbody>\n",
       "</table>\n",
       "</div>"
      ],
      "text/plain": [
       "  People Food Event Activity Travel Transportation Utility Cash  \\\n",
       "0     ❤️    🍕     👰        🍻      🌴              ⛽       🏡    💸   \n",
       "1      👯    🍵     🎤        🏀     ✈️              🅿       💡    💰   \n",
       "\n",
       "  Illegal/Sarcasm  \n",
       "0              🖕🏿  \n",
       "1               ☠  "
      ]
     },
     "execution_count": 6,
     "metadata": {},
     "output_type": "execute_result"
    }
   ],
   "source": [
    "# load word and emoji dictionaries (key words and emojis are classified to 9 major topics)\n",
    "word_dictionary = pd.read_excel(\"word dictionary.xlsx\")\n",
    "emoji_dictionary = pd.read_excel(\"emoji dictionary.xlsx\")\n",
    "emoji_dictionary.head(2)"
   ]
  },
  {
   "cell_type": "code",
   "execution_count": 7,
   "metadata": {
    "ExecuteTime": {
     "end_time": "2020-10-18T16:58:30.506662Z",
     "start_time": "2020-10-18T16:58:30.475103Z"
    },
    "colab": {},
    "colab_type": "code",
    "id": "0MUOOJvrz09x"
   },
   "outputs": [],
   "source": [
    "# drop n/a values and create a list for each category\n",
    "people1 = word_dictionary.People.dropna(how='all').values.tolist()\n",
    "food1 = word_dictionary.Food.dropna(how='all').values.tolist()\n",
    "event1 = word_dictionary.Event.dropna(how='all').values.tolist()\n",
    "activity1 = word_dictionary.Activity.dropna(how='all').values.tolist()\n",
    "travel1 = word_dictionary.Travel.dropna(how='all').values.tolist()\n",
    "trasportation1 = word_dictionary.Transportation.dropna(how='all').values.tolist()\n",
    "utility1 = word_dictionary.Utility.dropna(how='all').values.tolist()\n",
    "cash1 = word_dictionary.Cash.dropna(how='all').values.tolist()\n",
    "illegal_sarcasm1 = word_dictionary['Illegal/Sarcasm'].dropna(how='all').values.tolist()\n",
    "\n",
    "people2 = emoji_dictionary.People.dropna(how='all').values.tolist()\n",
    "food2 = emoji_dictionary.Food.dropna(how='all').values.tolist()\n",
    "event2 = emoji_dictionary.Event.dropna(how='all').values.tolist()\n",
    "activity2 = emoji_dictionary.Activity.dropna(how='all').values.tolist()\n",
    "travel2 = emoji_dictionary.Travel.dropna(how='all').values.tolist()\n",
    "trasportation2 = emoji_dictionary.Transportation.dropna(how='all').values.tolist()\n",
    "utility2 = emoji_dictionary.Utility.dropna(how='all').values.tolist()\n",
    "cash2 = emoji_dictionary.Cash.dropna(how='all').values.tolist()\n",
    "illegal_sarcasm2 = emoji_dictionary['Illegal/Sarcasm'].dropna(how='all').values.tolist()"
   ]
  },
  {
   "cell_type": "code",
   "execution_count": 8,
   "metadata": {
    "ExecuteTime": {
     "end_time": "2020-10-18T16:58:48.347891Z",
     "start_time": "2020-10-18T16:58:32.355861Z"
    },
    "colab": {},
    "colab_type": "code",
    "id": "Mb-71XFPz0-r"
   },
   "outputs": [
    {
     "name": "stdout",
     "output_type": "stream",
     "text": [
      "+-----+-----------+\n",
      "|index|description|\n",
      "+-----+-----------+\n",
      "|    5|         👗|\n",
      "|    9|         🅿|\n",
      "|   13|         🍴|\n",
      "|   16|     🏷🏷🏷|\n",
      "|   22|       🏠💸|\n",
      "|   42|       🎱🎱|\n",
      "|   57|       🍬🍬|\n",
      "|   70|         🍕|\n",
      "|   71|     🏡➡️🚘|\n",
      "|   74|         🚲|\n",
      "|   75|         🍜|\n",
      "|   76|     🍻🍾🍺|\n",
      "|   83|         🍻|\n",
      "|  100|         📱|\n",
      "|  102|         🦄|\n",
      "|  103|         🦃|\n",
      "|  109|       🏠💸|\n",
      "|  116|         🏨|\n",
      "|  127|         🍕|\n",
      "|  130|         🍕|\n",
      "+-----+-----------+\n",
      "only showing top 20 rows\n",
      "\n"
     ]
    }
   ],
   "source": [
    "# slice dataframe having only emojis\n",
    "emoji_tbl = spark.sql(\"select index, description \\\n",
    "                       from Venmo \\\n",
    "                       where HEX(description) REGEXP '^[E2|F0]{2}' \\\n",
    "                               and description NOT REGEXP '[g-zG-Z\\\\?\\\\!\\\\\\\\\\.]'\")\n",
    "\n",
    "emoji_tbl.createOrReplaceTempView(\"emoji_tbl\")\n",
    "emoji_tbl.show()"
   ]
  },
  {
   "cell_type": "code",
   "execution_count": 9,
   "metadata": {
    "ExecuteTime": {
     "end_time": "2020-10-18T17:01:08.005294Z",
     "start_time": "2020-10-18T16:59:53.510868Z"
    }
   },
   "outputs": [
    {
     "name": "stdout",
     "output_type": "stream",
     "text": [
      "+-----+--------------------+\n",
      "|index|         description|\n",
      "+-----+--------------------+\n",
      "|    0|           christmas|\n",
      "|    1|                 mil|\n",
      "|    2|              hookah|\n",
      "|    3| sex. moeny for sex.|\n",
      "|    4|       bridal shower|\n",
      "|    6|          coffeeee💘|\n",
      "|    7|           monicals!|\n",
      "|    8|            for gift|\n",
      "|   10|this should cover...|\n",
      "|   11|              hey 😊|\n",
      "|   12|        shanghaibest|\n",
      "|   14|        for sunglass|\n",
      "|   15|                food|\n",
      "|   17|                 fag|\n",
      "|   18|    the wonder years|\n",
      "|   19|         for friend?|\n",
      "|   20|            big bear|\n",
      "|   21|friendsgiving! (f...|\n",
      "|   23|             toll 🚕|\n",
      "|   24|       dankest pizza|\n",
      "+-----+--------------------+\n",
      "only showing top 20 rows\n",
      "\n"
     ]
    }
   ],
   "source": [
    "# slice dataframe having texts or mixed texts and emojis\n",
    "short_venmo = spark.sql(\"select index, lower(description) as description from Venmo\")\n",
    "text_tbl = short_venmo.exceptAll(emoji_tbl).sort(\"index\")\n",
    "\n",
    "text_tbl.createOrReplaceTempView(\"text_tbl\")\n",
    "text_tbl.show()"
   ]
  },
  {
   "cell_type": "code",
   "execution_count": 10,
   "metadata": {
    "ExecuteTime": {
     "end_time": "2020-10-18T17:06:51.769049Z",
     "start_time": "2020-10-18T17:01:42.035780Z"
    },
    "colab": {
     "base_uri": "https://localhost:8080/",
     "height": 476
    },
    "colab_type": "code",
    "id": "Bm02YhAlz0-0",
    "outputId": "e44730cf-a102-42bc-c476-ecc076bf41d3"
   },
   "outputs": [
    {
     "name": "stdout",
     "output_type": "stream",
     "text": [
      "The number of no_class records is 0\n",
      "+-----+--------------------+-------------+\n",
      "|index|         description|        class|\n",
      "+-----+--------------------+-------------+\n",
      "|    0|           christmas|        event|\n",
      "|    1|                 mil|         cash|\n",
      "|    2|              hookah|     activity|\n",
      "|    3| sex. moeny for sex.|         cash|\n",
      "|    4|       bridal shower|     activity|\n",
      "|    6|          coffeeee💘|         food|\n",
      "|    7|           monicals!|         cash|\n",
      "|    8|            for gift|     activity|\n",
      "|   10|this should cover...|trasportation|\n",
      "|   11|              hey 😊|         cash|\n",
      "|   12|        shanghaibest|       people|\n",
      "|   14|        for sunglass|       travel|\n",
      "|   15|                food|         food|\n",
      "|   17|                 fag|         cash|\n",
      "|   18|    the wonder years|         cash|\n",
      "|   19|         for friend?|       people|\n",
      "|   20|            big bear|         cash|\n",
      "|   21|friendsgiving! (f...|       people|\n",
      "|   23|             toll 🚕|trasportation|\n",
      "|   24|       dankest pizza|         food|\n",
      "+-----+--------------------+-------------+\n",
      "only showing top 20 rows\n",
      "\n"
     ]
    }
   ],
   "source": [
    "# text classification\n",
    "text_class = text_tbl.select(\"*\", \n",
    "            when(text_tbl.description.rlike(\"|\".join([\"(\" + pat + \")\" for pat in people1])), 'people')\\\n",
    " .when(text_tbl.description.rlike(\"|\".join([\"(\" + pat + \")\" for pat in food1])), 'food') \\\n",
    " .when(text_tbl.description.rlike(\"|\".join([\"(\" + pat + \")\" for pat in event1])), 'event')\\\n",
    " .when(text_tbl.description.rlike(\"|\".join([\"(\" + pat + \")\" for pat in activity1])), 'activity')\\\n",
    " .when(text_tbl.description.rlike(\"|\".join([\"(\" + pat + \")\" for pat in travel1])), 'travel')\\\n",
    " .when(text_tbl.description.rlike(\"|\".join([\"(\" + pat + \")\" for pat in trasportation1])), 'trasportation')\\\n",
    " .when(text_tbl.description.rlike(\"|\".join([\"(\" + pat + \")\" for pat in utility1])), 'utility')\\\n",
    " .when(text_tbl.description.rlike(\"|\".join([\"(\" + pat + \")\" for pat in cash1])), 'cash')\\\n",
    " .when(text_tbl.description.rlike(\"|\".join([\"(\" + pat + \")\" for pat in illegal_sarcasm1])), 'illegal_sarcasm')\\\n",
    "                 .otherwise('no_class').alias('class'))\n",
    "\n",
    "text_class.createOrReplaceTempView(\"text_class\")\n",
    "\n",
    "# count the number of records that has no class \n",
    "x = spark.sql(\"select * from text_class where class='no_class'\")\n",
    "print(\"The number of no_class records is\", x.count())\n",
    "text_class.show()"
   ]
  },
  {
   "cell_type": "code",
   "execution_count": 11,
   "metadata": {
    "ExecuteTime": {
     "end_time": "2020-10-18T17:07:29.318506Z",
     "start_time": "2020-10-18T17:07:02.703655Z"
    },
    "colab": {
     "base_uri": "https://localhost:8080/",
     "height": 476
    },
    "colab_type": "code",
    "id": "5int3l1Dz0_W",
    "outputId": "68f1d382-a9d1-4075-989b-787c3a203e0f"
   },
   "outputs": [
    {
     "name": "stdout",
     "output_type": "stream",
     "text": [
      "The number of no_class records is 491637\n",
      "+-----+-----------+-------------+\n",
      "|index|description|        class|\n",
      "+-----+-----------+-------------+\n",
      "|    5|         👗|     no_class|\n",
      "|    9|         🅿|trasportation|\n",
      "|   13|         🍴|         food|\n",
      "|   16|     🏷🏷🏷|     no_class|\n",
      "|   22|       🏠💸|      utility|\n",
      "|   42|       🎱🎱|     activity|\n",
      "|   57|       🍬🍬|         food|\n",
      "|   70|         🍕|         food|\n",
      "|   71|     🏡➡️🚘|trasportation|\n",
      "|   74|         🚲|     activity|\n",
      "|   75|         🍜|         food|\n",
      "|   76|     🍻🍾🍺|         food|\n",
      "|   83|         🍻|     activity|\n",
      "|  100|         📱|      utility|\n",
      "|  102|         🦄|     no_class|\n",
      "|  103|         🦃|     no_class|\n",
      "|  109|       🏠💸|      utility|\n",
      "|  116|         🏨|     activity|\n",
      "|  127|         🍕|         food|\n",
      "|  130|         🍕|         food|\n",
      "+-----+-----------+-------------+\n",
      "only showing top 20 rows\n",
      "\n"
     ]
    }
   ],
   "source": [
    "# emoji classification\n",
    "emoji_class = emoji_tbl.select(\"*\", \n",
    "    when(emoji_tbl.description.rlike(\"|\".join([\"(\" + pat + \")\" for pat in people2])), 'people')\\\n",
    " .when(emoji_tbl.description.rlike(\"|\".join([\"(\" + pat + \")\" for pat in food2])), 'food') \\\n",
    " .when(emoji_tbl.description.rlike(\"|\".join([\"(\" + pat + \")\" for pat in event2])), 'event')\\\n",
    " .when(emoji_tbl.description.rlike(\"|\".join([\"(\" + pat + \")\" for pat in activity2])), 'activity')\\\n",
    " .when(emoji_tbl.description.rlike(\"|\".join([\"(\" + pat + \")\" for pat in travel2])), 'travel')\\\n",
    " .when(emoji_tbl.description.rlike(\"|\".join([\"(\" + pat + \")\" for pat in trasportation2])), 'trasportation')\\\n",
    " .when(emoji_tbl.description.rlike(\"|\".join([\"(\" + pat + \")\" for pat in utility2])), 'utility')\\\n",
    " .when(emoji_tbl.description.rlike(\"|\".join([\"(\" + pat + \")\" for pat in cash2])), 'cash')\\\n",
    " .when(emoji_tbl.description.rlike(\"|\".join([\"(\" + pat + \")\" for pat in illegal_sarcasm2])), 'illegal_sarcasm')\\\n",
    "                 .otherwise('no_class').alias('class'))\n",
    "\n",
    "emoji_class.createOrReplaceTempView(\"emoji_class\")\n",
    "\n",
    "# count the number of records that has no class \n",
    "y = spark.sql(\"select * from emoji_class where class='no_class'\")\n",
    "print(\"The number of no_class records is\", y.count())\n",
    "emoji_class.show()"
   ]
  },
  {
   "cell_type": "code",
   "execution_count": 12,
   "metadata": {
    "ExecuteTime": {
     "end_time": "2020-10-18T17:12:12.564435Z",
     "start_time": "2020-10-18T17:07:59.592899Z"
    },
    "colab": {
     "base_uri": "https://localhost:8080/",
     "height": 459
    },
    "colab_type": "code",
    "id": "ktVWatNGz0_z",
    "outputId": "9175e2cd-5a9e-4203-b9ec-e1a3d9dfa408"
   },
   "outputs": [
    {
     "name": "stdout",
     "output_type": "stream",
     "text": [
      "+-----+--------------------+-------------+\n",
      "|index|         description|        class|\n",
      "+-----+--------------------+-------------+\n",
      "|    0|           christmas|        event|\n",
      "|    1|                 mil|         cash|\n",
      "|    2|              hookah|     activity|\n",
      "|    3| sex. moeny for sex.|         cash|\n",
      "|    4|       bridal shower|     activity|\n",
      "|    5|                  👗|     no_class|\n",
      "|    6|          coffeeee💘|         food|\n",
      "|    7|           monicals!|         cash|\n",
      "|    8|            for gift|     activity|\n",
      "|    9|                  🅿|trasportation|\n",
      "|   10|this should cover...|trasportation|\n",
      "|   11|              hey 😊|         cash|\n",
      "|   12|        shanghaibest|       people|\n",
      "|   13|                  🍴|         food|\n",
      "|   14|        for sunglass|       travel|\n",
      "|   15|                food|         food|\n",
      "|   16|              🏷🏷🏷|     no_class|\n",
      "|   17|                 fag|         cash|\n",
      "|   18|    the wonder years|         cash|\n",
      "|   19|         for friend?|       people|\n",
      "+-----+--------------------+-------------+\n",
      "only showing top 20 rows\n",
      "\n"
     ]
    }
   ],
   "source": [
    "# union text and emoji dataset\n",
    "df_class = spark.sql(\"select * from text_class union select * from emoji_class order by index\")\n",
    "df_class.createOrReplaceTempView(\"df_class\")\n",
    "df_class.show()"
   ]
  },
  {
   "cell_type": "markdown",
   "metadata": {
    "colab_type": "text",
    "id": "gsAbPHAoz1AU"
   },
   "source": [
    "## Q2 What is the percent of emoji only transactions? Which are the top 5 most popular emoji? Which are the top three most popular emoji categories? "
   ]
  },
  {
   "cell_type": "markdown",
   "metadata": {
    "colab_type": "text",
    "id": "Skk8k5dEz1AV"
   },
   "source": [
    "**What is the percent of emoji only transactions?**"
   ]
  },
  {
   "cell_type": "code",
   "execution_count": 14,
   "metadata": {
    "ExecuteTime": {
     "end_time": "2020-10-18T16:45:19.987127Z",
     "start_time": "2020-10-18T16:45:12.966407Z"
    },
    "colab": {},
    "colab_type": "code",
    "id": "6GX1bk6qz1AW",
    "outputId": "e6d5b7d6-8ac5-42a3-a45d-353217bc3b6d"
   },
   "outputs": [
    {
     "data": {
      "text/plain": [
       "0.2621712473694799"
      ]
     },
     "execution_count": 14,
     "metadata": {},
     "output_type": "execute_result"
    }
   ],
   "source": [
    "emoji_per = emoji_tbl.count()/df_venmo.count()\n",
    "emoji_per"
   ]
  },
  {
   "cell_type": "markdown",
   "metadata": {
    "colab_type": "text",
    "id": "hqfCpNe8z1Cs"
   },
   "source": [
    "**Which are the top 5 most popular emoji?**"
   ]
  },
  {
   "cell_type": "code",
   "execution_count": 15,
   "metadata": {
    "ExecuteTime": {
     "end_time": "2020-10-18T16:45:37.654522Z",
     "start_time": "2020-10-18T16:45:22.932099Z"
    },
    "colab": {},
    "colab_type": "code",
    "id": "UnNB_oi3z1Ct",
    "outputId": "3d75d51e-1276-438e-eedd-0367ab37795e",
    "scrolled": true
   },
   "outputs": [
    {
     "data": {
      "text/plain": [
       "1864860"
      ]
     },
     "execution_count": 15,
     "metadata": {},
     "output_type": "execute_result"
    }
   ],
   "source": [
    "# create emoji list\n",
    "emoji_list = emoji_tbl.select(\"description\").rdd.flatMap(lambda x: x).collect()\n",
    "len(emoji_list)"
   ]
  },
  {
   "cell_type": "code",
   "execution_count": 16,
   "metadata": {
    "ExecuteTime": {
     "end_time": "2020-10-18T16:45:54.968964Z",
     "start_time": "2020-10-18T16:45:51.571872Z"
    },
    "colab": {},
    "colab_type": "code",
    "id": "XascLzzjz1C1",
    "outputId": "316a7957-0383-4d17-9566-d28c851ef8d8"
   },
   "outputs": [
    {
     "data": {
      "text/plain": [
       "[('🍕', 186979), ('🍻', 114195), ('💸', 91973), ('🍷', 88363), ('🍺', 70590)]"
      ]
     },
     "execution_count": 16,
     "metadata": {},
     "output_type": "execute_result"
    }
   ],
   "source": [
    "# split emoji_list[0] as the starter\n",
    "em_split_emoji = emoji.get_emoji_regexp().split(emoji_list[0])\n",
    "em_split_whitespace = [substr.split() for substr in em_split_emoji]\n",
    "split_emoji_list = functools.reduce(operator.concat, em_split_whitespace)\n",
    "\n",
    "# extend list starting from emoji_list[0]\n",
    "for i in range(len(emoji_list)-1):\n",
    "    next_emoji = \"\".join(emoji_list[i+1].split()) \n",
    "    split_emoji_list.extend(next_emoji)\n",
    "\n",
    "# filter out empty elements\n",
    "split_emoji_list = list(filter(lambda x: x != '️', split_emoji_list))\n",
    "\n",
    "# count emoji frequency and find top 5 popular emojis\n",
    "emoji_freq = Counter(split_emoji_list)\n",
    "emoji_freq.most_common(5)"
   ]
  },
  {
   "cell_type": "markdown",
   "metadata": {
    "colab_type": "text",
    "id": "cU1d27csz1C5"
   },
   "source": [
    "**Which are the top three most popular emoji categories?**"
   ]
  },
  {
   "cell_type": "code",
   "execution_count": null,
   "metadata": {
    "ExecuteTime": {
     "end_time": "2020-05-07T19:11:59.106727Z",
     "start_time": "2020-05-07T19:11:30.766061Z"
    },
    "colab": {},
    "colab_type": "code",
    "id": "BTGZDtfez1C6",
    "outputId": "0d4de355-2a1e-41a7-d774-94db76893f32"
   },
   "outputs": [
    {
     "data": {
      "text/html": [
       "<div>\n",
       "<style scoped>\n",
       "    .dataframe tbody tr th:only-of-type {\n",
       "        vertical-align: middle;\n",
       "    }\n",
       "\n",
       "    .dataframe tbody tr th {\n",
       "        vertical-align: top;\n",
       "    }\n",
       "\n",
       "    .dataframe thead th {\n",
       "        text-align: right;\n",
       "    }\n",
       "</style>\n",
       "<table border=\"1\" class=\"dataframe\">\n",
       "  <thead>\n",
       "    <tr style=\"text-align: right;\">\n",
       "      <th></th>\n",
       "      <th>class</th>\n",
       "      <th>agg_emojis</th>\n",
       "    </tr>\n",
       "  </thead>\n",
       "  <tbody>\n",
       "    <tr>\n",
       "      <td>0</td>\n",
       "      <td>travel</td>\n",
       "      <td>🌴🌴🌴🐟🐠🐟🐠🐟🌴🌴🌴✈️🚌🚡🚡🚡🚡🚡🚡🚡🚡🚡🚡💒✈️✈️🇭🇷🇭🇷🇭🇷🌴🌴✈️🌴✈️🏣🇮🇪🔵...</td>\n",
       "    </tr>\n",
       "    <tr>\n",
       "      <td>1</td>\n",
       "      <td>no_class</td>\n",
       "      <td>⚡⚡️🇺🇸🎯👃🏻👃🏽👃🏿🐍🔥🔥🔥💦💦💦👣⚡️🕶🐭👅⛄️🌏✒️✒️✒️💆🏼👻👻👻💚☘🤖✨👕👧🚛...</td>\n",
       "    </tr>\n",
       "    <tr>\n",
       "      <td>2</td>\n",
       "      <td>utility</td>\n",
       "      <td>🏡💡🔌📺📺📺⚡🔌💡💸🏡⚡🔌💡💸🚒💦🔥🖥🖥🏡⚡🔌💡💸🛁👩‍👩‍👧🏡🏠📺💸🔑🏠💸🏡💸📺📺💻💦🔌🔥...</td>\n",
       "    </tr>\n",
       "    <tr>\n",
       "      <td>3</td>\n",
       "      <td>food</td>\n",
       "      <td>🍺🍕🍕🍕🍕🍴🍴🍴☕️🍴🍰🍳🎂🌮🍵☕🍷🍷🍷🍰🍰🍰🍰🍰🍪🍪🍪🍺🍺🍇🍌🍓🍹🚗➡️🍟🍺🍕🍕🍕🍕🍕🍕🍷...</td>\n",
       "    </tr>\n",
       "    <tr>\n",
       "      <td>4</td>\n",
       "      <td>cash</td>\n",
       "      <td>💰🇮🇱🤑💰⛏⚱🤑💰🤑🤑🤑🤑🤑💵💸💰💵💵🌟💸💦💸💰🤑💸💰💰💦💸💰🏧💰 🔙💰💵💸💵💵💸💵🔙💸💦💸...</td>\n",
       "    </tr>\n",
       "  </tbody>\n",
       "</table>\n",
       "</div>"
      ],
      "text/plain": [
       "      class                                         agg_emojis\n",
       "0    travel  🌴🌴🌴🐟🐠🐟🐠🐟🌴🌴🌴✈️🚌🚡🚡🚡🚡🚡🚡🚡🚡🚡🚡💒✈️✈️🇭🇷🇭🇷🇭🇷🌴🌴✈️🌴✈️🏣🇮🇪🔵...\n",
       "1  no_class  ⚡⚡️🇺🇸🎯👃🏻👃🏽👃🏿🐍🔥🔥🔥💦💦💦👣⚡️🕶🐭👅⛄️🌏✒️✒️✒️💆🏼👻👻👻💚☘🤖✨👕👧🚛...\n",
       "2   utility  🏡💡🔌📺📺📺⚡🔌💡💸🏡⚡🔌💡💸🚒💦🔥🖥🖥🏡⚡🔌💡💸🛁👩‍👩‍👧🏡🏠📺💸🔑🏠💸🏡💸📺📺💻💦🔌🔥...\n",
       "3      food  🍺🍕🍕🍕🍕🍴🍴🍴☕️🍴🍰🍳🎂🌮🍵☕🍷🍷🍷🍰🍰🍰🍰🍰🍪🍪🍪🍺🍺🍇🍌🍓🍹🚗➡️🍟🍺🍕🍕🍕🍕🍕🍕🍷...\n",
       "4      cash  💰🇮🇱🤑💰⛏⚱🤑💰🤑🤑🤑🤑🤑💵💸💰💵💵🌟💸💦💸💰🤑💸💰💰💦💸💰🏧💰 🔙💰💵💸💵💵💸💵🔙💸💦💸..."
      ]
     },
     "execution_count": 13,
     "metadata": {
      "tags": []
     },
     "output_type": "execute_result"
    }
   ],
   "source": [
    "# group by class and aggregate emojis in each class\n",
    "agg_class = emoji_class.groupby(\"class\")\\\n",
    "           .agg(F.concat_ws(\"\", F.collect_list(emoji_class.description)).alias('agg_emojis'))\n",
    "agg_class.registerTempTable(\"agg_class\")\n",
    "\n",
    "# transfer to pandas dataframe\n",
    "pandas_venmo = agg_class.select(\"*\").toPandas()\n",
    "pandas_venmo.head()"
   ]
  },
  {
   "cell_type": "code",
   "execution_count": null,
   "metadata": {
    "ExecuteTime": {
     "end_time": "2020-05-07T19:12:17.535889Z",
     "start_time": "2020-05-07T19:12:17.205581Z"
    },
    "colab": {},
    "colab_type": "code",
    "id": "b1kES847z1C9",
    "outputId": "7c97a0ae-7f23-4232-d27b-be2dbbd61a75"
   },
   "outputs": [
    {
     "data": {
      "text/html": [
       "<div>\n",
       "<style scoped>\n",
       "    .dataframe tbody tr th:only-of-type {\n",
       "        vertical-align: middle;\n",
       "    }\n",
       "\n",
       "    .dataframe tbody tr th {\n",
       "        vertical-align: top;\n",
       "    }\n",
       "\n",
       "    .dataframe thead th {\n",
       "        text-align: right;\n",
       "    }\n",
       "</style>\n",
       "<table border=\"1\" class=\"dataframe\">\n",
       "  <thead>\n",
       "    <tr style=\"text-align: right;\">\n",
       "      <th></th>\n",
       "      <th>class</th>\n",
       "      <th>index</th>\n",
       "      <th>agg_emojis</th>\n",
       "    </tr>\n",
       "  </thead>\n",
       "  <tbody>\n",
       "    <tr>\n",
       "      <td>3</td>\n",
       "      <td>food</td>\n",
       "      <td>3</td>\n",
       "      <td>1667773</td>\n",
       "    </tr>\n",
       "    <tr>\n",
       "      <td>1</td>\n",
       "      <td>no_class</td>\n",
       "      <td>1</td>\n",
       "      <td>1056768</td>\n",
       "    </tr>\n",
       "    <tr>\n",
       "      <td>8</td>\n",
       "      <td>activity</td>\n",
       "      <td>8</td>\n",
       "      <td>591270</td>\n",
       "    </tr>\n",
       "    <tr>\n",
       "      <td>5</td>\n",
       "      <td>people</td>\n",
       "      <td>5</td>\n",
       "      <td>457549</td>\n",
       "    </tr>\n",
       "    <tr>\n",
       "      <td>2</td>\n",
       "      <td>utility</td>\n",
       "      <td>2</td>\n",
       "      <td>365662</td>\n",
       "    </tr>\n",
       "    <tr>\n",
       "      <td>7</td>\n",
       "      <td>trasportation</td>\n",
       "      <td>7</td>\n",
       "      <td>187082</td>\n",
       "    </tr>\n",
       "    <tr>\n",
       "      <td>9</td>\n",
       "      <td>event</td>\n",
       "      <td>9</td>\n",
       "      <td>110588</td>\n",
       "    </tr>\n",
       "    <tr>\n",
       "      <td>0</td>\n",
       "      <td>travel</td>\n",
       "      <td>0</td>\n",
       "      <td>107989</td>\n",
       "    </tr>\n",
       "    <tr>\n",
       "      <td>6</td>\n",
       "      <td>illegal_sarcasm</td>\n",
       "      <td>6</td>\n",
       "      <td>86135</td>\n",
       "    </tr>\n",
       "    <tr>\n",
       "      <td>4</td>\n",
       "      <td>cash</td>\n",
       "      <td>4</td>\n",
       "      <td>84001</td>\n",
       "    </tr>\n",
       "  </tbody>\n",
       "</table>\n",
       "</div>"
      ],
      "text/plain": [
       "             class  index  agg_emojis\n",
       "3             food      3     1667773\n",
       "1         no_class      1     1056768\n",
       "8         activity      8      591270\n",
       "5           people      5      457549\n",
       "2          utility      2      365662\n",
       "7    trasportation      7      187082\n",
       "9            event      9      110588\n",
       "0           travel      0      107989\n",
       "6  illegal_sarcasm      6       86135\n",
       "4             cash      4       84001"
      ]
     },
     "execution_count": 14,
     "metadata": {
      "tags": []
     },
     "output_type": "execute_result"
    }
   ],
   "source": [
    "# If remove the no_class, \"Food\", \"Activity\", and \"People\" are the top 3 emoji categories\n",
    "x = pandas_venmo.groupby(\"class\")[\"agg_emojis\"]\\\n",
    "            .apply(lambda x: x.str.len()).reset_index().sort_values(\"agg_emojis\", ascending=False)\n",
    "\n",
    "class_cnt = pd.concat([pandas_venmo[\"class\"],x], axis=1).sort_values(\"agg_emojis\", ascending=False)\n",
    "class_cnt.head(10)"
   ]
  },
  {
   "cell_type": "markdown",
   "metadata": {
    "colab_type": "text",
    "id": "i5W0LxY4z1DC"
   },
   "source": [
    "## For each user, creating a variable to indicate their spending behavior profile.  "
   ]
  },
  {
   "cell_type": "code",
   "execution_count": null,
   "metadata": {
    "ExecuteTime": {
     "end_time": "2020-05-10T23:56:17.328866Z",
     "start_time": "2020-05-10T23:45:41.460816Z"
    },
    "colab": {
     "base_uri": "https://localhost:8080/",
     "height": 194
    },
    "colab_type": "code",
    "id": "0lpBiOWpz1DC",
    "outputId": "e603fad4-a821-4dc6-b8d8-8997af6abad5"
   },
   "outputs": [
    {
     "name": "stdout",
     "output_type": "stream",
     "text": [
      "+-----+-------+--------------------+--------+-------------------+\n",
      "|user1|  user2|         description|   class|           datetime|\n",
      "+-----+-------+--------------------+--------+-------------------+\n",
      "|    2|    220|             cooking|    food|2012-11-23 06:03:42|\n",
      "|    3|1079020|late night loooov...|activity|2016-10-07 23:37:56|\n",
      "|    3|     52|                  🍕|    food|2016-09-22 15:30:09|\n",
      "|    3|     52|           zeet zeet|    cash|2016-09-22 15:30:09|\n",
      "+-----+-------+--------------------+--------+-------------------+\n",
      "only showing top 4 rows\n",
      "\n"
     ]
    }
   ],
   "source": [
    "# join Venmo original dataset with the dataset from question 1 that has description classification\n",
    "# consider the transaction direction: only keep transactions that type is 'payment'\n",
    "df_full = spark.sql(\"select user1, user2, t1.description, class, datetime \\\n",
    "                    from df_class t1 join Venmo t2 using (index) \\\n",
    "                    where transaction_type = 'payment' \\\n",
    "                    order by user1 \")\n",
    "df_full.createOrReplaceTempView(\"df_full\")\n",
    "df_full.show(4)"
   ]
  },
  {
   "cell_type": "code",
   "execution_count": null,
   "metadata": {
    "ExecuteTime": {
     "end_time": "2020-05-11T00:35:46.499848Z",
     "start_time": "2020-05-11T00:21:02.529629Z"
    },
    "colab": {
     "base_uri": "https://localhost:8080/",
     "height": 459
    },
    "colab_type": "code",
    "id": "1Cb3lkypz1DJ",
    "outputId": "bf20872d-e400-42fa-8c7e-10eb62ded5a0"
   },
   "outputs": [
    {
     "name": "stdout",
     "output_type": "stream",
     "text": [
      "+-----+-------------+----------------------+------+\n",
      "|user1|        class|transactions_per_class| ratio|\n",
      "+-----+-------------+----------------------+------+\n",
      "|    2|       people|                     1|100.0%|\n",
      "|    3|     activity|                     1|14.29%|\n",
      "|    3|         food|                     1|14.29%|\n",
      "|    3|         cash|                     1|14.29%|\n",
      "|    3|       travel|                     1|14.29%|\n",
      "|    3|       people|                     3|42.86%|\n",
      "|    4|       people|                     2|33.33%|\n",
      "|    4|         cash|                     3| 50.0%|\n",
      "|    4|         food|                     1|16.67%|\n",
      "|   10|     activity|                     1| 9.09%|\n",
      "|   10|         cash|                     1| 9.09%|\n",
      "|   10|         food|                     6|54.55%|\n",
      "|   10|       people|                     3|27.27%|\n",
      "|   11|       travel|                     1| 2.86%|\n",
      "|   11|      utility|                     2| 5.71%|\n",
      "|   11|     activity|                     4|11.43%|\n",
      "|   11|       people|                    10|28.57%|\n",
      "|   11|trasportation|                     3| 8.57%|\n",
      "|   11|         food|                     7| 20.0%|\n",
      "|   11|         cash|                     8|22.86%|\n",
      "+-----+-------------+----------------------+------+\n",
      "only showing top 20 rows\n",
      "\n"
     ]
    }
   ],
   "source": [
    "# For each user, calculate the number of his/her transactions per class and how many percents of total spendings \n",
    "df_profile = spark.sql(\"select user1, class, count(*) as transactions_per_class, \\\n",
    "                    concat(round(count(*)/sum(count(*)) over (partition by user1) *100, 2),'%') as ratio \\\n",
    "               from df_full \\\n",
    "               group by user1, class \\\n",
    "               order by user1\")\n",
    "df_profile.show()"
   ]
  },
  {
   "cell_type": "code",
   "execution_count": null,
   "metadata": {
    "ExecuteTime": {
     "end_time": "2020-05-09T04:19:33.156169Z",
     "start_time": "2020-05-09T04:01:52.942355Z"
    },
    "colab": {
     "base_uri": "https://localhost:8080/",
     "height": 459
    },
    "colab_type": "code",
    "id": "2wnTUsxUz1DQ",
    "outputId": "ae6029f5-6fcd-48fa-f71e-5b74ebd3f54e"
   },
   "outputs": [
    {
     "name": "stdout",
     "output_type": "stream",
     "text": [
      "+-----+--------+------+-----+------+---------------+--------+------+-------------+------+-------+\n",
      "|user1|activity|  cash|event|  food|illegal_sarcasm|no_class|people|trasportation|travel|utility|\n",
      "+-----+--------+------+-----+------+---------------+--------+------+-------------+------+-------+\n",
      "| 2866|    null|100.0%| null|  null|           null|    null|  null|         null|  null|   null|\n",
      "| 6620|    null|  null| null|  null|           null|    null|  null|         null|100.0%|   null|\n",
      "|28170|    null|100.0%| null|  null|           null|    null|  null|         null|  null|   null|\n",
      "|28759|    null| 25.0%| null|  null|           null|   25.0%|  null|        25.0%|  null|  25.0%|\n",
      "|29894|    null|  null| null| 50.0%|           null|    null|  null|        50.0%|  null|   null|\n",
      "|33602|  21.43%|21.43%| null|14.29%|           null|    null|35.71%|         null|  null|  7.14%|\n",
      "|36525|    null|33.33%| null|33.33%|           null|  33.33%|  null|         null|  null|   null|\n",
      "|47283|   25.0%|  null| null| 25.0%|           null|    null| 25.0%|        25.0%|  null|   null|\n",
      "|51415|  16.67%|16.67%| null| 50.0%|           null|    null| 8.33%|         null|  null|  8.33%|\n",
      "|53963|    null|100.0%| null|  null|           null|    null|  null|         null|  null|   null|\n",
      "|59990|  33.33%|  null| null|33.33%|           null|    null|33.33%|         null|  null|   null|\n",
      "|63087|    null|66.67%| null|33.33%|           null|    null|  null|         null|  null|   null|\n",
      "|64423|    null|100.0%| null|  null|           null|    null|  null|         null|  null|   null|\n",
      "|65408|    null|  null| null|100.0%|           null|    null|  null|         null|  null|   null|\n",
      "|67492|   7.89%|34.21%|2.63%|31.58%|          2.63%|   2.63%|10.53%|         null| 5.26%|  2.63%|\n",
      "|67861|    null|  null| null|66.67%|         33.33%|    null|  null|         null|  null|   null|\n",
      "|68202|  100.0%|  null| null|  null|           null|    null|  null|         null|  null|   null|\n",
      "|71995|    null|  null| null|100.0%|           null|    null|  null|         null|  null|   null|\n",
      "|72758|    null|  null| null| 50.0%|           null|   50.0%|  null|         null|  null|   null|\n",
      "|74775|    null|33.33%| null|33.33%|           null|    null|33.33%|         null|  null|   null|\n",
      "+-----+--------+------+-----+------+---------------+--------+------+-------------+------+-------+\n",
      "only showing top 20 rows\n",
      "\n"
     ]
    }
   ],
   "source": [
    "# create a list with unique classes \n",
    "categories = sorted(df_profile.select(\"class\").distinct().rdd.map(lambda row: row[0]).collect())\n",
    "\n",
    "cols = [when(col(\"class\") == category, col(\"ratio\")).otherwise(None).alias(category) \n",
    "    for category in categories]\n",
    "\n",
    "maxs = [max(col(category)).alias(category) for category in categories]\n",
    "\n",
    "# create static spending profile for each user\n",
    "static_profile = (df_profile.select(col(\"user1\"), *cols).groupBy(\"user1\").agg(*maxs).na.fill(0))\n",
    "\n",
    "static_profile.createOrReplaceTempView(\"static_profile\")\n",
    "static_profile.show()"
   ]
  },
  {
   "cell_type": "code",
   "execution_count": null,
   "metadata": {
    "ExecuteTime": {
     "end_time": "2020-05-07T19:56:11.761122Z",
     "start_time": "2020-05-07T19:41:45.038421Z"
    },
    "colab": {},
    "colab_type": "code",
    "collapsed": true,
    "id": "SpAxVMNaz1DZ",
    "jupyter": {
     "outputs_hidden": true
    },
    "outputId": "36c85523-5458-40c9-e716-b678597a0749"
   },
   "outputs": [
    {
     "name": "stdout",
     "output_type": "stream",
     "text": [
      "+-----+---------------------------------------------------------------------------------------------------------+\n",
      "|user1|static_profile                                                                                           |\n",
      "+-----+---------------------------------------------------------------------------------------------------------+\n",
      "|2    |100.0%people                                                                                             |\n",
      "|3    |16.67%no_class, 50.0%people, 16.67%travel, 16.67%food                                                    |\n",
      "|4    |16.67%illegal_sarcasm, 16.67%food, 33.33%people, 16.67%activity, 16.67%no_class                          |\n",
      "|10   |10.0%no_class, 30.0%people, 10.0%activity, 50.0%food                                                     |\n",
      "|11   |4.0%activity, 36.0%people, 4.0%illegal_sarcasm, 20.0%no_class, 20.0%food, 8.0%travel, 8.0%utility        |\n",
      "|12   |33.33%people, 11.11%activity, 33.33%no_class, 11.11%food, 11.11%illegal_sarcasm                          |\n",
      "|13   |47.37%people, 10.53%food, 5.26%illegal_sarcasm, 5.26%utility, 10.53%no_class, 15.79%activity, 5.26%travel|\n",
      "|16   |10.0%travel, 10.0%trasportation, 60.0%food, 10.0%activity, 10.0%utility                                  |\n",
      "|19   |25.0%food, 25.0%event, 25.0%activity, 25.0%no_class                                                      |\n",
      "|28   |100.0%people                                                                                             |\n",
      "+-----+---------------------------------------------------------------------------------------------------------+\n",
      "only showing top 10 rows\n",
      "\n"
     ]
    }
   ],
   "source": [
    "# df_profile = df_profile.withColumn(\"dict\", concat(col(\"ratio\"), lit(\" \"), col(\"class\")))\n",
    "# df_profile = df_profile.groupby(\"user1\").agg(F.concat_ws(\", \", \n",
    "#                                     F.collect_list(df_profile.dict)).alias(\"static_profile\"))\n",
    "# df_profile.registerTempTable(\"df_profile\")\n",
    "# df_profile.show(10, truncate = False)"
   ]
  },
  {
   "cell_type": "markdown",
   "metadata": {
    "colab_type": "text",
    "id": "LGqp2oCiz1Dd"
   },
   "source": [
    "## For each user, creating a dynamic spending profile (12 months)"
   ]
  },
  {
   "cell_type": "code",
   "execution_count": null,
   "metadata": {
    "ExecuteTime": {
     "end_time": "2020-05-11T00:51:19.767000Z",
     "start_time": "2020-05-11T00:37:30.053566Z"
    },
    "colab": {
     "base_uri": "https://localhost:8080/",
     "height": 478
    },
    "colab_type": "code",
    "id": "n-Z7-epVz1De",
    "outputId": "9be21a79-07c2-43cd-a610-f42a2c3c7f08"
   },
   "outputs": [
    {
     "name": "stdout",
     "output_type": "stream",
     "text": [
      "+-----+-------+-------------------+-------------+----+\n",
      "|user1|  user2|           datetime|        class|days|\n",
      "+-----+-------+-------------------+-------------+----+\n",
      "|    2|    220|2012-11-23 06:03:42|         food|   0|\n",
      "|    3|2382556|2016-10-07 08:50:23|       people|  15|\n",
      "|    3|     52|2016-09-22 15:30:09|         food|   0|\n",
      "|    3|1079020|2016-10-07 23:37:56|     activity|  15|\n",
      "|    3|     52|2016-09-22 15:30:09|         cash|   0|\n",
      "|    3|7854140|2016-10-09 03:36:13|         cash|  17|\n",
      "|    3|2382556|2016-10-06 10:49:45|         cash|  14|\n",
      "|    3|1204190|2016-10-09 01:56:24|      utility|  17|\n",
      "|    3|7854140|2016-10-09 03:36:13|         food|  17|\n",
      "|    4| 122744|2012-12-03 03:35:53|         cash|   0|\n",
      "|    4| 125527|2012-12-15 05:51:12|       travel|  12|\n",
      "|    4|9271982|2016-03-03 12:45:57|         cash|1186|\n",
      "|    4| 968271|2014-02-04 06:51:33|         cash| 428|\n",
      "|    4| 221578|2016-04-17 03:35:09|       people|1231|\n",
      "|   10|    255|2013-01-14 08:18:43|         cash|  50|\n",
      "|   10|    255|2012-11-25 09:20:39|trasportation|   0|\n",
      "|   10|  71056|2013-04-05 09:48:56|         cash| 131|\n",
      "|   10|     43|2012-12-23 11:08:45|         food|  28|\n",
      "|   10|     43|2012-12-31 12:44:12|     activity|  36|\n",
      "|   10|3844713|2016-01-30 14:42:13|         cash|1161|\n",
      "+-----+-------+-------------------+-------------+----+\n",
      "only showing top 20 rows\n",
      "\n"
     ]
    }
   ],
   "source": [
    "# navigate the first transaction date and only keep first 12 months transactions for each user \n",
    "days_tbl = spark.sql(\"select user1, user2, datetime, class, datediff(datetime, \\\n",
    "                first_value(datetime) over (partition by user1 order by datetime)) as days \\\n",
    "                from df_full \\\n",
    "                group by user1, user2, datetime, class\\\n",
    "                order by user1\")\n",
    "days_tbl.show()"
   ]
  },
  {
   "cell_type": "code",
   "execution_count": null,
   "metadata": {
    "ExecuteTime": {
     "end_time": "2020-05-11T01:32:45.698696Z",
     "start_time": "2020-05-11T01:23:46.622336Z"
    },
    "colab": {
     "base_uri": "https://localhost:8080/",
     "height": 478
    },
    "colab_type": "code",
    "id": "a9M-3ej4z1Dg",
    "outputId": "7a33c067-3ba6-4738-abea-bb89df972038"
   },
   "outputs": [
    {
     "name": "stdout",
     "output_type": "stream",
     "text": [
      "+-----+-------+-------------------+-------------+----+------------------+\n",
      "|user1|  user2|           datetime|        class|days|lifetime_indicator|\n",
      "+-----+-------+-------------------+-------------+----+------------------+\n",
      "|    2|    220|2012-11-23 06:03:42|         food|   0|                 0|\n",
      "|    3|1079020|2016-10-07 23:37:56|     activity|  15|                 1|\n",
      "|    3|7854140|2016-10-09 03:36:13|         cash|  17|                 1|\n",
      "|    3|2382556|2016-10-07 08:50:23|       people|  15|                 1|\n",
      "|    3|     52|2016-09-22 15:30:09|         cash|   0|                 0|\n",
      "|    3|1204190|2016-10-09 01:56:24|      utility|  17|                 1|\n",
      "|    3|7854140|2016-10-09 03:36:13|         food|  17|                 1|\n",
      "|    3|2382556|2016-10-06 10:49:45|         cash|  14|                 1|\n",
      "|    3|     52|2016-09-22 15:30:09|         food|   0|                 0|\n",
      "|    4| 125527|2012-12-15 05:51:12|       travel|  12|                 1|\n",
      "|    4| 122744|2012-12-03 03:35:53|         cash|   0|                 0|\n",
      "|   10|     43|2013-03-03 12:47:10|trasportation|  98|                 4|\n",
      "|   10|    255|2012-11-25 09:20:39|trasportation|   0|                 0|\n",
      "|   10|    255|2013-01-14 08:18:43|         cash|  50|                 2|\n",
      "|   10|  71056|2013-04-05 09:48:56|         cash| 131|                 5|\n",
      "|   10|     43|2012-12-31 12:44:12|     activity|  36|                 2|\n",
      "|   10|    255|2013-03-11 04:38:51|         cash| 106|                 4|\n",
      "|   10|     43|2012-12-23 11:08:45|         food|  28|                 1|\n",
      "|   11|     42|2012-08-25 00:30:23|         cash|  93|                 4|\n",
      "|   11|  49778|2012-10-07 04:57:45|         food| 136|                 5|\n",
      "+-----+-------+-------------------+-------------+----+------------------+\n",
      "only showing top 20 rows\n",
      "\n"
     ]
    }
   ],
   "source": [
    "# add lifetime indiactor (0-12 where 0 represents the 1st transaction and 1 represents 1 month and so on)\n",
    "days_lifeindicator_tbl = days_tbl.select(\"*\", \n",
    "            when(days_tbl.days==0, 0)\\\n",
    "         .when((days_tbl.days>0) & (days_tbl.days<=30), 1) \\\n",
    "         .when((days_tbl.days>30) & (days_tbl.days<=60), 2) \\\n",
    "         .when((days_tbl.days>60) & (days_tbl.days<=90), 3)\\\n",
    "         .when((days_tbl.days>90) & (days_tbl.days<=120), 4)\\\n",
    "         .when((days_tbl.days>120) & (days_tbl.days<=150), 5)\\\n",
    "         .when((days_tbl.days>150) & (days_tbl.days<=180), 6)\\\n",
    "         .when((days_tbl.days>180) & (days_tbl.days<=210), 7)\\\n",
    "         .when((days_tbl.days>210) & (days_tbl.days<=240), 8)\\\n",
    "         .when((days_tbl.days>240) & (days_tbl.days<=270), 9)\\\n",
    "         .when((days_tbl.days>270) & (days_tbl.days<=300), 10)\\\n",
    "         .when((days_tbl.days>300) & (days_tbl.days<=330), 11)\\\n",
    "         .when((days_tbl.days>330) & (days_tbl.days<=360), 12)\\\n",
    "         .otherwise(-1).alias('lifetime_indicator'))\n",
    "days_lifeindicator_tbl.createOrReplaceTempView(\"days_lifeindicator_tbl\")\n",
    "\n",
    "# filter out records where \"datetime-startdate\">=360 days (12 months after first transaction)\n",
    "lifetime_tbl = days_lifeindicator_tbl.filter(\"lifetime_indicator != -1 \").sort(\"user1\")\n",
    "\n",
    "lifetime_tbl.show()"
   ]
  },
  {
   "cell_type": "code",
   "execution_count": null,
   "metadata": {
    "ExecuteTime": {
     "end_time": "2020-05-12T06:50:32.761535Z",
     "start_time": "2020-05-12T06:50:28.950690Z"
    },
    "colab": {
     "base_uri": "https://localhost:8080/",
     "height": 478
    },
    "colab_type": "code",
    "id": "14yG1qKOz1Dq",
    "outputId": "ea82df78-c631-4e82-fc83-fcf2a797828c"
   },
   "outputs": [
    {
     "name": "stdout",
     "output_type": "stream",
     "text": [
      "+-----+------------------+-------------+----------+\n",
      "|user1|lifetime_indicator|        class|percentage|\n",
      "+-----+------------------+-------------+----------+\n",
      "|    2|                 0|         food|       1.0|\n",
      "|    3|                 1|       people|      0.17|\n",
      "|    3|                 1|      utility|      0.17|\n",
      "|    3|                 1|         cash|      0.33|\n",
      "|    3|                 1|         food|      0.17|\n",
      "|    3|                 0|         cash|       0.5|\n",
      "|    3|                 1|     activity|      0.17|\n",
      "|    3|                 0|         food|       0.5|\n",
      "|    4|                 0|         cash|       1.0|\n",
      "|    4|                 1|       travel|       1.0|\n",
      "|   10|                 0|trasportation|       1.0|\n",
      "|   10|                 4|trasportation|       0.5|\n",
      "|   10|                 2|     activity|       0.5|\n",
      "|   10|                 2|         cash|       0.5|\n",
      "|   10|                 1|         food|       1.0|\n",
      "|   10|                 4|         cash|       0.5|\n",
      "|   10|                 5|         cash|       1.0|\n",
      "|   11|                 5|     activity|      0.33|\n",
      "|   11|                 5|         food|      0.33|\n",
      "|   11|                 4|         cash|       1.0|\n",
      "+-----+------------------+-------------+----------+\n",
      "only showing top 20 rows\n",
      "\n"
     ]
    }
   ],
   "source": [
    "lifetime_tbl = lifetime_tbl\\\n",
    "        .withColumn(\"lifetime_category\", \n",
    "                        concat(lit(\"time\"), col(\"lifetime_indicator\"), lit(\"_\"), col(\"class\")))\\\n",
    "        .withColumn(\"user_life\", concat(col(\"user1\"), lit(\"_\"), col(\"lifetime_indicator\")))\n",
    "\n",
    "lifetime_tbl.createOrReplaceTempView(\"lifetime_tbl\")\n",
    "\n",
    "dynamic_tbl = spark.sql(\"select user1, lifetime_indicator, class, \\\n",
    "                round(count(*)/sum(count(*)) \\\n",
    "                  over (partition by user1, lifetime_indicator), 2) as percentage \\\n",
    "               from lifetime_tbl \\\n",
    "               group by user1, lifetime_indicator, class \\\n",
    "               order by user1\")\n",
    "\n",
    "dynamic_tbl.createOrReplaceTempView(\"dynamic_tbl\")\n",
    "\n",
    "dynamic_tbl.show()"
   ]
  },
  {
   "cell_type": "code",
   "execution_count": null,
   "metadata": {
    "ExecuteTime": {
     "end_time": "2020-05-11T02:07:17.328948Z",
     "start_time": "2020-05-11T01:45:49.223073Z"
    },
    "colab": {
     "base_uri": "https://localhost:8080/",
     "height": 498
    },
    "colab_type": "code",
    "id": "aZ0gDIT9z1Dx",
    "outputId": "ce173590-f3c8-471c-cf15-d9896e330047"
   },
   "outputs": [
    {
     "name": "stdout",
     "output_type": "stream",
     "text": [
      "+-----+------------------+--------+----+-----+----+---------------+--------+------+-------------+------+-------+\n",
      "|user1|lifetime_indicator|activity|cash|event|food|illegal_sarcasm|no_class|people|trasportation|travel|utility|\n",
      "+-----+------------------+--------+----+-----+----+---------------+--------+------+-------------+------+-------+\n",
      "|    2|                 0|     0.0| 0.0|  0.0| 1.0|            0.0|     0.0|   0.0|          0.0|   0.0|    0.0|\n",
      "|    3|                 0|     0.0| 0.5|  0.0| 0.5|            0.0|     0.0|   0.0|          0.0|   0.0|    0.0|\n",
      "|    3|                 1|    0.17|0.33|  0.0|0.17|            0.0|     0.0|  0.17|          0.0|   0.0|   0.17|\n",
      "|    4|                 0|     0.0| 1.0|  0.0| 0.0|            0.0|     0.0|   0.0|          0.0|   0.0|    0.0|\n",
      "|    4|                 1|     0.0| 0.0|  0.0| 0.0|            0.0|     0.0|   0.0|          0.0|   1.0|    0.0|\n",
      "|   10|                 0|     0.0| 0.0|  0.0| 0.0|            0.0|     0.0|   0.0|          1.0|   0.0|    0.0|\n",
      "|   10|                 1|     0.0| 0.0|  0.0| 1.0|            0.0|     0.0|   0.0|          0.0|   0.0|    0.0|\n",
      "|   10|                 2|     0.5| 0.5|  0.0| 0.0|            0.0|     0.0|   0.0|          0.0|   0.0|    0.0|\n",
      "|   10|                 4|     0.0| 0.5|  0.0| 0.0|            0.0|     0.0|   0.0|          0.5|   0.0|    0.0|\n",
      "|   10|                 5|     0.0| 1.0|  0.0| 0.0|            0.0|     0.0|   0.0|          0.0|   0.0|    0.0|\n",
      "|   11|                 0|     0.5| 0.5|  0.0| 0.0|            0.0|     0.0|   0.0|          0.0|   0.0|    0.0|\n",
      "|   11|                 3|     0.0| 0.5|  0.0| 0.0|            0.0|     0.5|   0.0|          0.0|   0.0|    0.0|\n",
      "|   11|                 4|     0.0| 1.0|  0.0| 0.0|            0.0|     0.0|   0.0|          0.0|   0.0|    0.0|\n",
      "|   11|                 5|    0.33|0.33|  0.0|0.33|            0.0|     0.0|   0.0|          0.0|   0.0|    0.0|\n",
      "|   11|                 6|     0.0| 0.5|  0.0| 0.0|            0.0|     0.0|   0.0|          0.5|   0.0|    0.0|\n",
      "|   12|                 0|     0.0| 1.0|  0.0| 0.0|            0.0|     0.0|   0.0|          0.0|   0.0|    0.0|\n",
      "|   12|                 5|     0.0| 1.0|  0.0| 0.0|            0.0|     0.0|   0.0|          0.0|   0.0|    0.0|\n",
      "|   12|                 8|     0.0| 0.5|  0.0| 0.0|            0.0|     0.5|   0.0|          0.0|   0.0|    0.0|\n",
      "|   12|                11|     0.0| 1.0|  0.0| 0.0|            0.0|     0.0|   0.0|          0.0|   0.0|    0.0|\n",
      "|   13|                 0|     0.0| 0.0|  0.0| 0.0|            0.0|     0.0|   1.0|          0.0|   0.0|    0.0|\n",
      "+-----+------------------+--------+----+-----+----+---------------+--------+------+-------------+------+-------+\n",
      "only showing top 20 rows\n",
      "\n"
     ]
    }
   ],
   "source": [
    "# create dynamic profile\n",
    "#spread rows to columns: each row representing one user, each column representing lifetime and spending category\n",
    "\n",
    "classes = sorted(dynamic_tbl.select(\"class\").distinct().rdd.map(lambda row: row[0]).collect())\n",
    "\n",
    "cols1 = [when(col(\"class\") == clas, col(\"percentage\")).otherwise(None).alias(clas) \n",
    "    for clas in classes]\n",
    "\n",
    "maxs1 = [max(col(clas)).alias(clas) for clas in classes]\n",
    "\n",
    "dynamic_profile = (dynamic_tbl.select(col(\"user1\"), \n",
    "            col(\"lifetime_indicator\"), *cols1)\\\n",
    "            .groupBy(\"user1\", \"lifetime_indicator\").agg(*maxs1).na.fill(0)\\\n",
    "            .orderBy(\"user1\", \"lifetime_indicator\"))\n",
    "\n",
    "dynamic_profile.createOrReplaceTempView(\"dynamic_profile\")\n",
    "\n",
    "dynamic_profile.show()"
   ]
  },
  {
   "cell_type": "code",
   "execution_count": null,
   "metadata": {
    "ExecuteTime": {
     "end_time": "2020-05-09T05:56:03.783133Z",
     "start_time": "2020-05-09T05:31:26.175472Z"
    },
    "colab": {},
    "colab_type": "code",
    "id": "1lwWHnZUz1D2",
    "outputId": "7ba09aef-c6a6-441a-d3b6-04b402fae1f1"
   },
   "outputs": [
    {
     "data": {
      "text/html": [
       "<div>\n",
       "<style scoped>\n",
       "    .dataframe tbody tr th:only-of-type {\n",
       "        vertical-align: middle;\n",
       "    }\n",
       "\n",
       "    .dataframe tbody tr th {\n",
       "        vertical-align: top;\n",
       "    }\n",
       "\n",
       "    .dataframe thead th {\n",
       "        text-align: right;\n",
       "    }\n",
       "</style>\n",
       "<table border=\"1\" class=\"dataframe\">\n",
       "  <thead>\n",
       "    <tr style=\"text-align: right;\">\n",
       "      <th></th>\n",
       "      <th>summary</th>\n",
       "      <th>count</th>\n",
       "      <th>mean</th>\n",
       "      <th>stddev</th>\n",
       "      <th>min</th>\n",
       "      <th>25%</th>\n",
       "      <th>50%</th>\n",
       "      <th>75%</th>\n",
       "      <th>max</th>\n",
       "    </tr>\n",
       "  </thead>\n",
       "  <tbody>\n",
       "    <tr>\n",
       "      <td>0</td>\n",
       "      <td>time0_activity</td>\n",
       "      <td>2158528</td>\n",
       "      <td>0.12843825051145957</td>\n",
       "      <td>0.33406685333468933</td>\n",
       "      <td>0.0</td>\n",
       "      <td>0.0</td>\n",
       "      <td>0.0</td>\n",
       "      <td>0.0</td>\n",
       "      <td>1.0</td>\n",
       "    </tr>\n",
       "    <tr>\n",
       "      <td>1</td>\n",
       "      <td>time0_cash</td>\n",
       "      <td>2158528</td>\n",
       "      <td>0.2513680156106382</td>\n",
       "      <td>0.43303739637783334</td>\n",
       "      <td>0.0</td>\n",
       "      <td>0.0</td>\n",
       "      <td>0.0</td>\n",
       "      <td>0.6</td>\n",
       "      <td>1.0</td>\n",
       "    </tr>\n",
       "    <tr>\n",
       "      <td>2</td>\n",
       "      <td>time0_event</td>\n",
       "      <td>2158528</td>\n",
       "      <td>0.013661930723159488</td>\n",
       "      <td>0.11592848163120395</td>\n",
       "      <td>0.0</td>\n",
       "      <td>0.0</td>\n",
       "      <td>0.0</td>\n",
       "      <td>0.0</td>\n",
       "      <td>1.0</td>\n",
       "    </tr>\n",
       "    <tr>\n",
       "      <td>3</td>\n",
       "      <td>time0_food</td>\n",
       "      <td>2158528</td>\n",
       "      <td>0.23720214887182375</td>\n",
       "      <td>0.4246861125589359</td>\n",
       "      <td>0.0</td>\n",
       "      <td>0.0</td>\n",
       "      <td>0.0</td>\n",
       "      <td>0.0</td>\n",
       "      <td>1.0</td>\n",
       "    </tr>\n",
       "    <tr>\n",
       "      <td>4</td>\n",
       "      <td>time0_illegal_sarcasm</td>\n",
       "      <td>2158528</td>\n",
       "      <td>0.004347671190737391</td>\n",
       "      <td>0.06568058689262556</td>\n",
       "      <td>0.0</td>\n",
       "      <td>0.0</td>\n",
       "      <td>0.0</td>\n",
       "      <td>0.0</td>\n",
       "      <td>1.0</td>\n",
       "    </tr>\n",
       "  </tbody>\n",
       "</table>\n",
       "</div>"
      ],
      "text/plain": [
       "0                summary    count                  mean               stddev  \\\n",
       "0         time0_activity  2158528   0.12843825051145957  0.33406685333468933   \n",
       "1             time0_cash  2158528    0.2513680156106382  0.43303739637783334   \n",
       "2            time0_event  2158528  0.013661930723159488  0.11592848163120395   \n",
       "3             time0_food  2158528   0.23720214887182375   0.4246861125589359   \n",
       "4  time0_illegal_sarcasm  2158528  0.004347671190737391  0.06568058689262556   \n",
       "\n",
       "0  min  25%  50%  75%  max  \n",
       "0  0.0  0.0  0.0  0.0  1.0  \n",
       "1  0.0  0.0  0.0  0.6  1.0  \n",
       "2  0.0  0.0  0.0  0.0  1.0  \n",
       "3  0.0  0.0  0.0  0.0  1.0  \n",
       "4  0.0  0.0  0.0  0.0  1.0  "
      ]
     },
     "execution_count": 18,
     "metadata": {
      "tags": []
     },
     "output_type": "execute_result"
    }
   ],
   "source": [
    "df1 = spark.sql(\"select user1, category_life, \\\n",
    "                 round(count(*)/sum(count(*)) over (partition by user_life), 2) as percentage \\\n",
    "               from lifetime_tbl \\\n",
    "               group by user1, user_life, category_life \\\n",
    "               order by user1\")\n",
    "life_cates = sorted(df1.select(\"category_life\").distinct().rdd.map(lambda row: row[0]).collect())\n",
    "cols2 = [when(col(\"category_life\") == life_cate, col(\"percentage\")).otherwise(None).alias(life_cate) \n",
    "    for life_cate in life_cates]\n",
    "maxs2 = [max(col(life_cate)).alias(life_cate) for life_cate in life_cates]\n",
    "dynamic2 = (df1.select(col(\"user1\"), *cols2).groupBy(\"user1\").agg(*maxs2).na.fill(0))\n",
    "\n",
    "\n",
    "# calculate mean, standard deviation for each time period and each class\n",
    "summary_stats = dynamic2.summary()\n",
    "df_dynamic_summary = summary_stats.select(\"*\").toPandas()\n",
    "df_dynamic_summary = df_dynamic_summary.T.reset_index() # transpose and reset index\n",
    "headers = df_dynamic_summary.iloc[0] # store new header values\n",
    "df_dynamic_summary = df_dynamic_summary[2:] # remove user1 information and previous header\n",
    "df_dynamic_summary.columns = headers\n",
    "df_dynamic_summary = df_dynamic_summary.reset_index(drop=True)\n",
    "df_dynamic_summary.head()"
   ]
  },
  {
   "cell_type": "code",
   "execution_count": null,
   "metadata": {
    "ExecuteTime": {
     "end_time": "2020-05-09T06:52:34.405324Z",
     "start_time": "2020-05-09T06:52:34.357626Z"
    },
    "colab": {},
    "colab_type": "code",
    "id": "q80cBm95z1D6",
    "outputId": "1173ab1b-88be-45ee-c872-cfa1511d5c68"
   },
   "outputs": [
    {
     "data": {
      "text/html": [
       "<div>\n",
       "<style scoped>\n",
       "    .dataframe tbody tr th:only-of-type {\n",
       "        vertical-align: middle;\n",
       "    }\n",
       "\n",
       "    .dataframe tbody tr th {\n",
       "        vertical-align: top;\n",
       "    }\n",
       "\n",
       "    .dataframe thead th {\n",
       "        text-align: right;\n",
       "    }\n",
       "</style>\n",
       "<table border=\"1\" class=\"dataframe\">\n",
       "  <thead>\n",
       "    <tr style=\"text-align: right;\">\n",
       "      <th></th>\n",
       "      <th>summary</th>\n",
       "      <th>count</th>\n",
       "      <th>mean</th>\n",
       "      <th>stddev</th>\n",
       "      <th>min</th>\n",
       "      <th>25%</th>\n",
       "      <th>50%</th>\n",
       "      <th>75%</th>\n",
       "      <th>max</th>\n",
       "      <th>time</th>\n",
       "      <th>category</th>\n",
       "      <th>2std</th>\n",
       "    </tr>\n",
       "  </thead>\n",
       "  <tbody>\n",
       "    <tr>\n",
       "      <td>0</td>\n",
       "      <td>time0_activity</td>\n",
       "      <td>2158528</td>\n",
       "      <td>0.128438</td>\n",
       "      <td>0.334067</td>\n",
       "      <td>0.0</td>\n",
       "      <td>0.0</td>\n",
       "      <td>0.0</td>\n",
       "      <td>0.0</td>\n",
       "      <td>1.0</td>\n",
       "      <td>0</td>\n",
       "      <td>activity</td>\n",
       "      <td>0.668134</td>\n",
       "    </tr>\n",
       "    <tr>\n",
       "      <td>1</td>\n",
       "      <td>time0_cash</td>\n",
       "      <td>2158528</td>\n",
       "      <td>0.251368</td>\n",
       "      <td>0.433037</td>\n",
       "      <td>0.0</td>\n",
       "      <td>0.0</td>\n",
       "      <td>0.0</td>\n",
       "      <td>0.6</td>\n",
       "      <td>1.0</td>\n",
       "      <td>0</td>\n",
       "      <td>cash</td>\n",
       "      <td>0.866075</td>\n",
       "    </tr>\n",
       "    <tr>\n",
       "      <td>2</td>\n",
       "      <td>time0_event</td>\n",
       "      <td>2158528</td>\n",
       "      <td>0.013662</td>\n",
       "      <td>0.115928</td>\n",
       "      <td>0.0</td>\n",
       "      <td>0.0</td>\n",
       "      <td>0.0</td>\n",
       "      <td>0.0</td>\n",
       "      <td>1.0</td>\n",
       "      <td>0</td>\n",
       "      <td>event</td>\n",
       "      <td>0.231857</td>\n",
       "    </tr>\n",
       "    <tr>\n",
       "      <td>3</td>\n",
       "      <td>time0_food</td>\n",
       "      <td>2158528</td>\n",
       "      <td>0.237202</td>\n",
       "      <td>0.424686</td>\n",
       "      <td>0.0</td>\n",
       "      <td>0.0</td>\n",
       "      <td>0.0</td>\n",
       "      <td>0.0</td>\n",
       "      <td>1.0</td>\n",
       "      <td>0</td>\n",
       "      <td>food</td>\n",
       "      <td>0.849372</td>\n",
       "    </tr>\n",
       "    <tr>\n",
       "      <td>4</td>\n",
       "      <td>time0_illegal_sarcasm</td>\n",
       "      <td>2158528</td>\n",
       "      <td>0.004348</td>\n",
       "      <td>0.065681</td>\n",
       "      <td>0.0</td>\n",
       "      <td>0.0</td>\n",
       "      <td>0.0</td>\n",
       "      <td>0.0</td>\n",
       "      <td>1.0</td>\n",
       "      <td>0</td>\n",
       "      <td>illegal_sarcasm</td>\n",
       "      <td>0.131361</td>\n",
       "    </tr>\n",
       "  </tbody>\n",
       "</table>\n",
       "</div>"
      ],
      "text/plain": [
       "0                summary    count      mean    stddev  min  25%  50%  75%  \\\n",
       "0         time0_activity  2158528  0.128438  0.334067  0.0  0.0  0.0  0.0   \n",
       "1             time0_cash  2158528  0.251368  0.433037  0.0  0.0  0.0  0.6   \n",
       "2            time0_event  2158528  0.013662  0.115928  0.0  0.0  0.0  0.0   \n",
       "3             time0_food  2158528  0.237202  0.424686  0.0  0.0  0.0  0.0   \n",
       "4  time0_illegal_sarcasm  2158528  0.004348  0.065681  0.0  0.0  0.0  0.0   \n",
       "\n",
       "0  max  time         category      2std  \n",
       "0  1.0     0         activity  0.668134  \n",
       "1  1.0     0             cash  0.866075  \n",
       "2  1.0     0            event  0.231857  \n",
       "3  1.0     0             food  0.849372  \n",
       "4  1.0     0  illegal_sarcasm  0.131361  "
      ]
     },
     "execution_count": 23,
     "metadata": {
      "tags": []
     },
     "output_type": "execute_result"
    }
   ],
   "source": [
    "# add time and category columns for plotting \n",
    "time = []\n",
    "category = []\n",
    "\n",
    "for i in range(len(df_dynamic_summary)):\n",
    "    pos = df_dynamic_summary.summary[i].index(\"_\")\n",
    "    c = df_dynamic_summary.summary[i][pos+1:]  # get category\n",
    "    t = df_dynamic_summary.summary[i][4:pos]   # get lifetime\n",
    "    time.append(t)\n",
    "    category.append(c)\n",
    "\n",
    "df_dynamic_summary[\"time\"] = time\n",
    "df_dynamic_summary[\"category\"] = category\n",
    "\n",
    "# convert data type from string to numeric \n",
    "df_dynamic_summary[\"time\"] = df_dynamic_summary[\"time\"].apply(pd.to_numeric, errors='coerce')\n",
    "df_dynamic_summary[\"mean\"] = df_dynamic_summary[\"mean\"].apply(pd.to_numeric, errors='coerce')\n",
    "df_dynamic_summary[\"stddev\"] = df_dynamic_summary[\"stddev\"].apply(pd.to_numeric, errors='coerce')\n",
    "df_dynamic_summary[\"2std\"] = 2*df_dynamic_summary[\"stddev\"]\n",
    "\n",
    "df_dynamic_summary.head()"
   ]
  },
  {
   "cell_type": "code",
   "execution_count": null,
   "metadata": {
    "ExecuteTime": {
     "end_time": "2020-05-09T06:52:42.722796Z",
     "start_time": "2020-05-09T06:52:42.228580Z"
    },
    "colab": {},
    "colab_type": "code",
    "id": "lxP8aqyPz1D_",
    "outputId": "7340a616-997f-451a-d69e-59b6a8990208"
   },
   "outputs": [
    {
     "data": {
      "image/png": "[encoded data removed]",
      "text/plain": [
       "<Figure size 1440x720 with 1 Axes>"
      ]
     },
     "metadata": {
      "needs_background": "light",
      "tags": []
     },
     "output_type": "display_data"
    }
   ],
   "source": [
    "# after lifetime 10, the means for all categories' spendings tend to be stable and close to zero. \n",
    "fig, ax = plt.subplots(figsize=(20, 10))\n",
    "\n",
    "for key, group in df_dynamic_summary.groupby('category'):\n",
    "    group.plot('time', 'mean', yerr='2std', label=key, ax=ax) \n",
    "\n",
    "plt.show()"
   ]
  },
  {
   "cell_type": "markdown",
   "metadata": {
    "colab_type": "text",
    "id": "woOc56_cz1EC"
   },
   "source": [
    "# Part 2: Social network analytics "
   ]
  },
  {
   "cell_type": "markdown",
   "metadata": {
    "colab_type": "text",
    "id": "dkyKOWY_z1EC"
   },
   "source": [
    "## Finding a user’s friends and friends of friends "
   ]
  },
  {
   "cell_type": "code",
   "execution_count": null,
   "metadata": {
    "colab": {
     "base_uri": "https://localhost:8080/",
     "height": 459
    },
    "colab_type": "code",
    "id": "DYNb5aoc5Z5t",
    "outputId": "77f4be8c-d309-48e8-c9b5-1de9c6b51683"
   },
   "outputs": [
    {
     "name": "stdout",
     "output_type": "stream",
     "text": [
      "+----+-------+\n",
      "|user|friends|\n",
      "+----+-------+\n",
      "|   2|     43|\n",
      "|   2|    220|\n",
      "|   2| 191142|\n",
      "|   3|     43|\n",
      "|   3|     52|\n",
      "|   3| 263437|\n",
      "|   3| 567957|\n",
      "|   3|1079020|\n",
      "|   3|1204190|\n",
      "|   3|2382556|\n",
      "|   3|7854140|\n",
      "|   4| 122744|\n",
      "|   4| 125527|\n",
      "|   4| 125755|\n",
      "|   4| 187560|\n",
      "|   4| 221578|\n",
      "|   4| 968271|\n",
      "|   4|9271982|\n",
      "|   6| 676003|\n",
      "|   6| 688883|\n",
      "+----+-------+\n",
      "only showing top 20 rows\n",
      "\n"
     ]
    }
   ],
   "source": [
    "# find user's friends\n",
    "df_friends = spark.sql(\"select distinct user1 as user, user2 as friends \\\n",
    "                   from \\\n",
    "                    (select distinct user1, user2 from Venmo \\\n",
    "                    union select distinct user2, user1 from Venmo) T\\\n",
    "                   order by user, friends\")\n",
    "\n",
    "df_friends.createOrReplaceTempView(\"df_friends\")\n",
    "df_friends.show()"
   ]
  },
  {
   "cell_type": "code",
   "execution_count": null,
   "metadata": {
    "colab": {
     "base_uri": "https://localhost:8080/",
     "height": 459
    },
    "colab_type": "code",
    "id": "ELt9xqqL5aFM",
    "outputId": "c24cdbf3-2695-45f6-d224-1b267e326b66"
   },
   "outputs": [
    {
     "name": "stdout",
     "output_type": "stream",
     "text": [
      "+----+-------+-------+\n",
      "|user|friends|    fof|\n",
      "+----+-------+-------+\n",
      "|   2|     43|      3|\n",
      "|   2|     43|     10|\n",
      "|   2|     43|     19|\n",
      "|   2|     43|     96|\n",
      "|   2|     43|    629|\n",
      "|   2|     43|   3565|\n",
      "|   2|     43|  20530|\n",
      "|   2|     43|  20639|\n",
      "|   2|     43|  47104|\n",
      "|   2|     43|  49778|\n",
      "|   2|     43|  55895|\n",
      "|   2|     43|  72106|\n",
      "|   2|     43|  82697|\n",
      "|   2|     43| 183628|\n",
      "|   2|     43| 276439|\n",
      "|   2|     43| 297967|\n",
      "|   2|     43| 307603|\n",
      "|   2|     43| 316862|\n",
      "|   2|     43|1491816|\n",
      "|   2| 191142| 613769|\n",
      "+----+-------+-------+\n",
      "only showing top 20 rows\n",
      "\n"
     ]
    }
   ],
   "source": [
    "# full table of user, friends, and friends of friends (remove user itself)\n",
    "# may contain some duplicates in friends and fof columns\n",
    "df_edges = spark.sql(\"select t1.user as user, t1.friends as friends, \\\n",
    "                            t2.friends as fof \\\n",
    "                      from df_friends t1, df_friends t2 \\\n",
    "                      where t1.friends=t2.user and t2.friends<>t1.user \\\n",
    "                      order by t1.user, t1.friends, t2.friends \")\n",
    "\n",
    "df_edges.createOrReplaceTempView(\"df_edges\")\n",
    "df_edges.show()"
   ]
  },
  {
   "cell_type": "code",
   "execution_count": null,
   "metadata": {
    "colab": {
     "base_uri": "https://localhost:8080/",
     "height": 459
    },
    "colab_type": "code",
    "id": "RTYEWmkiIwWR",
    "outputId": "36664c16-52ad-4a59-e088-b64d218a0df3"
   },
   "outputs": [
    {
     "name": "stdout",
     "output_type": "stream",
     "text": [
      "+----+------+\n",
      "|user|   fof|\n",
      "+----+------+\n",
      "|   2|     3|\n",
      "|   2|    10|\n",
      "|   2|    19|\n",
      "|   2|    96|\n",
      "|   2|   629|\n",
      "|   2|  3565|\n",
      "|   2| 20530|\n",
      "|   2| 20639|\n",
      "|   2| 47104|\n",
      "|   2| 49778|\n",
      "|   2| 55895|\n",
      "|   2| 72106|\n",
      "|   2| 82697|\n",
      "|   2|183628|\n",
      "|   2|276439|\n",
      "|   2|297967|\n",
      "|   2|307603|\n",
      "|   2|316862|\n",
      "|   2|613769|\n",
      "|   2|851628|\n",
      "+----+------+\n",
      "only showing top 20 rows\n",
      "\n"
     ]
    }
   ],
   "source": [
    "# find user's friends of friends (remove potential duplicates in fof and friends)\n",
    "df_fof = spark.sql(\"select t1.user, fof \\\n",
    "                   from df_edges t1 \\\n",
    "                      left join (select user, friends from df_friends) t2 \\\n",
    "                        on t1.user=t2.user and t1.fof=t2.friends \\\n",
    "                   where fof is null or t2.friends is null \\\n",
    "                   order by t1.user, fof \")\n",
    "df_fof.createOrReplaceTempView(\"df_fof\")\n",
    "df_fof.show()"
   ]
  },
  {
   "cell_type": "markdown",
   "metadata": {
    "colab_type": "text",
    "id": "jGjIM3h35xx9"
   },
   "source": [
    "Describe your algorithm and calculate its computational complexity. Can you do it better?"
   ]
  },
  {
   "cell_type": "code",
   "execution_count": 8,
   "metadata": {
    "ExecuteTime": {
     "end_time": "2020-05-22T20:58:36.742103Z",
     "start_time": "2020-05-22T20:58:36.722184Z"
    }
   },
   "outputs": [
    {
     "name": "stdout",
     "output_type": "stream",
     "text": [
      "== Physical Plan ==\n",
      "*(8) Sort [user#60 ASC NULLS FIRST, friends#61 ASC NULLS FIRST], true, 0\n",
      "+- Exchange rangepartitioning(user#60 ASC NULLS FIRST, friends#61 ASC NULLS FIRST, 200)\n",
      "   +- *(7) HashAggregate(keys=[user#60, friends#61], functions=[])\n",
      "      +- Exchange hashpartitioning(user#60, friends#61, 200)\n",
      "         +- *(6) HashAggregate(keys=[user#60, friends#61], functions=[])\n",
      "            +- *(6) HashAggregate(keys=[user1#0, user2#1], functions=[])\n",
      "               +- Exchange hashpartitioning(user1#0, user2#1, 200)\n",
      "                  +- *(5) HashAggregate(keys=[user1#0, user2#1], functions=[])\n",
      "                     +- Union\n",
      "                        :- *(2) HashAggregate(keys=[user1#0, user2#1], functions=[])\n",
      "                        :  +- Exchange hashpartitioning(user1#0, user2#1, 200)\n",
      "                        :     +- *(1) HashAggregate(keys=[user1#0, user2#1], functions=[])\n",
      "                        :        +- *(1) Project [user1#0, user2#1]\n",
      "                        :           +- *(1) FileScan parquet [user1#0,user2#1] Batched: true, Format: Parquet, Location: InMemoryFileIndex[file:/Users/mengzhexuan/Desktop/BAX423 big data analytics/Homework 2/VenmoSampl..., PartitionFilters: [], PushedFilters: [], ReadSchema: struct<user1:int,user2:int>\n",
      "                        +- *(4) HashAggregate(keys=[user2#1, user1#0], functions=[])\n",
      "                           +- Exchange hashpartitioning(user2#1, user1#0, 200)\n",
      "                              +- *(3) HashAggregate(keys=[user2#1, user1#0], functions=[])\n",
      "                                 +- *(3) Project [user2#1, user1#0]\n",
      "                                    +- *(3) FileScan parquet [user1#0,user2#1] Batched: true, Format: Parquet, Location: InMemoryFileIndex[file:/Users/mengzhexuan/Desktop/BAX423 big data analytics/Homework 2/VenmoSampl..., PartitionFilters: [], PushedFilters: [], ReadSchema: struct<user1:int,user2:int>\n"
     ]
    }
   ],
   "source": [
    "# friends computational complexity \n",
    "df_friends_computationalexplain = df_friends.explain()"
   ]
  },
  {
   "cell_type": "code",
   "execution_count": 9,
   "metadata": {
    "ExecuteTime": {
     "end_time": "2020-05-22T20:59:32.202301Z",
     "start_time": "2020-05-22T20:59:29.959461Z"
    }
   },
   "outputs": [
    {
     "name": "stdout",
     "output_type": "stream",
     "text": [
      "== Physical Plan ==\n",
      "*(32) Sort [user#64 ASC NULLS FIRST, fof#66 ASC NULLS FIRST], true, 0\n",
      "+- Exchange rangepartitioning(user#64 ASC NULLS FIRST, fof#66 ASC NULLS FIRST, 200)\n",
      "   +- *(31) Project [user#64, fof#66]\n",
      "      +- *(31) Filter (isnull(fof#66) || isnull(friends#61))\n",
      "         +- SortMergeJoin [user#64, fof#66], [user#60, friends#61], LeftOuter\n",
      "            :- *(21) Sort [user#64 ASC NULLS FIRST, fof#66 ASC NULLS FIRST], false, 0\n",
      "            :  +- Exchange hashpartitioning(user#64, fof#66, 200)\n",
      "            :     +- *(20) Project [user#64, fof#66]\n",
      "            :        +- *(20) Sort [user#60 ASC NULLS FIRST, friends#61 ASC NULLS FIRST, friends#68 ASC NULLS FIRST], true, 0\n",
      "            :           +- Exchange rangepartitioning(user#60 ASC NULLS FIRST, friends#61 ASC NULLS FIRST, friends#68 ASC NULLS FIRST, 200)\n",
      "            :              +- *(19) Project [user#60 AS user#64, friends#68 AS fof#66, user#60, friends#61, friends#68]\n",
      "            :                 +- *(19) SortMergeJoin [friends#61], [user#67], Inner, NOT (friends#68 = user#60)\n",
      "            :                    :- *(9) Sort [friends#61 ASC NULLS FIRST], false, 0\n",
      "            :                    :  +- Exchange hashpartitioning(friends#61, 200)\n",
      "            :                    :     +- *(8) Sort [user#60 ASC NULLS FIRST, friends#61 ASC NULLS FIRST], true, 0\n",
      "            :                    :        +- Exchange rangepartitioning(user#60 ASC NULLS FIRST, friends#61 ASC NULLS FIRST, 200)\n",
      "            :                    :           +- *(7) HashAggregate(keys=[user#60, friends#61], functions=[])\n",
      "            :                    :              +- Exchange hashpartitioning(user#60, friends#61, 200)\n",
      "            :                    :                 +- *(6) HashAggregate(keys=[user#60, friends#61], functions=[])\n",
      "            :                    :                    +- *(6) HashAggregate(keys=[user1#0, user2#1], functions=[])\n",
      "            :                    :                       +- Exchange hashpartitioning(user1#0, user2#1, 200)\n",
      "            :                    :                          +- *(5) HashAggregate(keys=[user1#0, user2#1], functions=[])\n",
      "            :                    :                             +- Union\n",
      "            :                    :                                :- *(2) HashAggregate(keys=[user1#0, user2#1], functions=[])\n",
      "            :                    :                                :  +- Exchange hashpartitioning(user1#0, user2#1, 200)\n",
      "            :                    :                                :     +- *(1) HashAggregate(keys=[user1#0, user2#1], functions=[])\n",
      "            :                    :                                :        +- *(1) Project [user1#0, user2#1]\n",
      "            :                    :                                :           +- *(1) Filter (isnotnull(user2#1) && isnotnull(user1#0))\n",
      "            :                    :                                :              +- *(1) FileScan parquet [user1#0,user2#1] Batched: true, Format: Parquet, Location: InMemoryFileIndex[file:/Users/mengzhexuan/Desktop/BAX423 big data analytics/Homework 2/VenmoSampl..., PartitionFilters: [], PushedFilters: [IsNotNull(user2), IsNotNull(user1)], ReadSchema: struct<user1:int,user2:int>\n",
      "            :                    :                                +- *(4) HashAggregate(keys=[user2#1, user1#0], functions=[])\n",
      "            :                    :                                   +- Exchange hashpartitioning(user2#1, user1#0, 200)\n",
      "            :                    :                                      +- *(3) HashAggregate(keys=[user2#1, user1#0], functions=[])\n",
      "            :                    :                                         +- *(3) Project [user2#1, user1#0]\n",
      "            :                    :                                            +- *(3) Filter (isnotnull(user1#0) && isnotnull(user2#1))\n",
      "            :                    :                                               +- *(3) FileScan parquet [user1#0,user2#1] Batched: true, Format: Parquet, Location: InMemoryFileIndex[file:/Users/mengzhexuan/Desktop/BAX423 big data analytics/Homework 2/VenmoSampl..., PartitionFilters: [], PushedFilters: [IsNotNull(user1), IsNotNull(user2)], ReadSchema: struct<user1:int,user2:int>\n",
      "            :                    +- *(18) Sort [user#67 ASC NULLS FIRST], false, 0\n",
      "            :                       +- Exchange hashpartitioning(user#67, 200)\n",
      "            :                          +- *(17) Sort [user#67 ASC NULLS FIRST, friends#68 ASC NULLS FIRST], true, 0\n",
      "            :                             +- ReusedExchange [user#67, friends#68], Exchange rangepartitioning(user#60 ASC NULLS FIRST, friends#61 ASC NULLS FIRST, 200)\n",
      "            +- *(30) Sort [user#60 ASC NULLS FIRST, friends#61 ASC NULLS FIRST], false, 0\n",
      "               +- Exchange hashpartitioning(user#60, friends#61, 200)\n",
      "                  +- *(29) Sort [user#60 ASC NULLS FIRST, friends#61 ASC NULLS FIRST], true, 0\n",
      "                     +- ReusedExchange [user#60, friends#61], Exchange rangepartitioning(user#60 ASC NULLS FIRST, friends#61 ASC NULLS FIRST, 200)\n"
     ]
    }
   ],
   "source": [
    "# friends of friends computational complexity \n",
    "df_fof_computationalexplain = df_fof.explain()"
   ]
  },
  {
   "cell_type": "markdown",
   "metadata": {
    "colab_type": "text",
    "id": "V41JmJYDz1EX"
   },
   "source": [
    "## Using the dynamic analysis from before, and calculate the social network metrics across a user’s lifetime in Venmo "
   ]
  },
  {
   "cell_type": "markdown",
   "metadata": {
    "colab_type": "text",
    "id": "uLUeo79KVLfd"
   },
   "source": [
    "### i) Number of friends and number of friends of friends"
   ]
  },
  {
   "cell_type": "markdown",
   "metadata": {
    "colab_type": "text",
    "id": "YAQo826Bz1EY"
   },
   "source": [
    "**Number of friends**"
   ]
  },
  {
   "cell_type": "code",
   "execution_count": null,
   "metadata": {
    "colab": {
     "base_uri": "https://localhost:8080/",
     "height": 478
    },
    "colab_type": "code",
    "id": "p2E_LiXez1EY",
    "outputId": "432ba91b-677f-407f-8f42-ca189a70fdfc"
   },
   "outputs": [
    {
     "name": "stdout",
     "output_type": "stream",
     "text": [
      "+----+------------------+-----------+\n",
      "|user|lifetime_indicator|friends_cnt|\n",
      "+----+------------------+-----------+\n",
      "|   2|                 0|          1|\n",
      "|   3|                 1|          4|\n",
      "|   3|                 0|          1|\n",
      "|   4|                 0|          3|\n",
      "|   4|                 1|          1|\n",
      "|   6|                 0|          2|\n",
      "|   6|                 5|          1|\n",
      "|   8|                 0|          2|\n",
      "|   8|                 9|          1|\n",
      "|   8|                10|          1|\n",
      "|   8|                 2|          1|\n",
      "|   8|                 7|          1|\n",
      "|   9|                 5|          1|\n",
      "|   9|                 2|          1|\n",
      "|   9|                 7|          1|\n",
      "|   9|                 0|          1|\n",
      "|   9|                 8|          1|\n",
      "|  10|                12|          1|\n",
      "|  10|                 6|          1|\n",
      "|  10|                 4|          2|\n",
      "+----+------------------+-----------+\n",
      "only showing top 20 rows\n",
      "\n"
     ]
    }
   ],
   "source": [
    "# discrete lifetime and number of friends\n",
    "df_dynamic_friendcnt = spark.sql(\"select distinct user1 as user, lifetime_indicator, \\\n",
    "                             count(distinct user2) as friends_cnt \\\n",
    "                   from \\\n",
    "                    (select distinct user1, user2, lifetime_indicator from lifetime_tbl \\\n",
    "                    union select distinct user2, user1, lifetime_indicator from lifetime_tbl) T\\\n",
    "                   group by user, lifetime_indicator \\\n",
    "                   order by user\")\n",
    "\n",
    "df_dynamic_friendcnt.createOrReplaceTempView(\"df_dynamic_friendcnt\")\n",
    "df_dynamic_friendcnt.show()"
   ]
  },
  {
   "cell_type": "code",
   "execution_count": null,
   "metadata": {
    "colab": {
     "base_uri": "https://localhost:8080/",
     "height": 478
    },
    "colab_type": "code",
    "id": "uOrhaq2_E0Lo",
    "outputId": "ee849a71-7c09-445d-8858-3d25d14f3d78"
   },
   "outputs": [
    {
     "name": "stdout",
     "output_type": "stream",
     "text": [
      "+----+------------------+-----------+\n",
      "|user|lifetime_indicator|friends_cnt|\n",
      "+----+------------------+-----------+\n",
      "|   2|                 0|          1|\n",
      "|   2|                 1|          0|\n",
      "|   2|                 2|          0|\n",
      "|   2|                 3|          0|\n",
      "|   2|                 4|          0|\n",
      "|   2|                 5|          0|\n",
      "|   2|                 6|          0|\n",
      "|   2|                 7|          0|\n",
      "|   2|                 8|          0|\n",
      "|   2|                 9|          0|\n",
      "|   2|                10|          0|\n",
      "|   2|                11|          0|\n",
      "|   2|                12|          0|\n",
      "|   3|                 0|          1|\n",
      "|   3|                 1|          4|\n",
      "|   3|                 2|          0|\n",
      "|   3|                 3|          0|\n",
      "|   3|                 4|          0|\n",
      "|   3|                 5|          0|\n",
      "|   3|                 6|          0|\n",
      "+----+------------------+-----------+\n",
      "only showing top 20 rows\n",
      "\n"
     ]
    }
   ],
   "source": [
    "# create continuous user lifetime\n",
    "lst = [0,1,2,3,4,5,6,7,8,9,10,11,12]\n",
    "df_usertime = df_dynamic_friendcnt.select(\"user\").withColumn(\"time_lst\", F.array([F.lit(x) for x in lst]))\n",
    "df_usertime = df_usertime.withColumn(\"time_lst\", F.explode(col(\"time_lst\")))\n",
    "df_usertime.createOrReplaceTempView(\"df_usertime\")\n",
    "\n",
    "df_lifetime_friends = spark.sql(\"select user, lifetime_indicator, \\\n",
    "                            max(ifnull(friends_cnt,0)) as friends_cnt \\\n",
    "                        from \\\n",
    "                        (select user, lifetime_indicator, friends_cnt from df_dynamic_friendcnt \\\n",
    "                          union \\\n",
    "                         select user, time_lst, null as friends_cnt from df_usertime) T \\\n",
    "                        group by user, lifetime_indicator \\\n",
    "                        order by user, lifetime_indicator\")\n",
    "df_lifetime_friends.createOrReplaceTempView(\"df_lifetime_friends\")\n",
    "df_lifetime_friends.show()"
   ]
  },
  {
   "cell_type": "code",
   "execution_count": null,
   "metadata": {
    "colab": {
     "base_uri": "https://localhost:8080/",
     "height": 478
    },
    "colab_type": "code",
    "id": "mVUZk5p0RV6D",
    "outputId": "ec9fc063-d5cd-426f-90dd-eeb59912eb86"
   },
   "outputs": [
    {
     "name": "stdout",
     "output_type": "stream",
     "text": [
      "+----+------------------+-----------+-----------+\n",
      "|user|lifetime_indicator|friends_cnt|cum_friends|\n",
      "+----+------------------+-----------+-----------+\n",
      "|   2|                 0|          1|          1|\n",
      "|   2|                 1|          0|          1|\n",
      "|   2|                 2|          0|          1|\n",
      "|   2|                 3|          0|          1|\n",
      "|   2|                 4|          0|          1|\n",
      "|   2|                 5|          0|          1|\n",
      "|   2|                 6|          0|          1|\n",
      "|   2|                 7|          0|          1|\n",
      "|   2|                 8|          0|          1|\n",
      "|   2|                 9|          0|          1|\n",
      "|   2|                10|          0|          1|\n",
      "|   2|                11|          0|          1|\n",
      "|   2|                12|          0|          1|\n",
      "|   3|                 0|          1|          1|\n",
      "|   3|                 1|          4|          5|\n",
      "|   3|                 2|          0|          5|\n",
      "|   3|                 3|          0|          5|\n",
      "|   3|                 4|          0|          5|\n",
      "|   3|                 5|          0|          5|\n",
      "|   3|                 6|          0|          5|\n",
      "+----+------------------+-----------+-----------+\n",
      "only showing top 20 rows\n",
      "\n"
     ]
    }
   ],
   "source": [
    "# continuous lifetime, number of friends, cumulative number of friends\n",
    "df_dynamic_cum_friends = spark.sql(\"select user, lifetime_indicator, friends_cnt, \\\n",
    "                                        (sum(friends_cnt) over (partition by user \\\n",
    "                                        order by lifetime_indicator)) as cum_friends \\\n",
    "                                    from df_lifetime_friends \\\n",
    "                                    order by user, lifetime_indicator \")\n",
    "\n",
    "df_dynamic_cum_friends.createOrReplaceTempView(\"df_dynamic_cum_friends\")\n",
    "df_dynamic_cum_friends.show()"
   ]
  },
  {
   "cell_type": "markdown",
   "metadata": {
    "colab_type": "text",
    "id": "ElPh4jyeVZTj"
   },
   "source": [
    "**Number of friends of friends**"
   ]
  },
  {
   "cell_type": "code",
   "execution_count": null,
   "metadata": {
    "colab": {},
    "colab_type": "code",
    "id": "Mt2EceAGsHwJ"
   },
   "outputs": [],
   "source": [
    "# number of friends of friends for each user lifetime\n",
    "# step 1: find freinds and friends of friends for each user lifetime\n",
    "dynamic_friends = spark.sql(\"select user1 as user, user2 as friends, lifetime_indicator \\\n",
    "                   from \\\n",
    "                    (select distinct user1, user2, lifetime_indicator from lifetime_tbl \\\n",
    "                    union \\\n",
    "                    select distinct user2, user1, lifetime_indicator from lifetime_tbl) T\\\n",
    "                   order by user, lifetime_indicator, friends\")\n",
    "\n",
    "dynamic_friends.createOrReplaceTempView(\"dynamic_friends\")\n",
    "\n",
    "df_dynamic_edges = spark.sql(\"select d1.user, d1.friends, d2.friends as fof, \\\n",
    "                            d1.lifetime_indicator \\\n",
    "                        from dynamic_friends d1, dynamic_friends d2 \\\n",
    "                        where d1.friends=d2.user \\\n",
    "                            and d1.lifetime_indicator = d2.lifetime_indicator \\\n",
    "                            and d2.friends<>d1.user \\\n",
    "                        order by d1.user, d1.lifetime_indicator\")\n",
    "df_dynamic_edges.createOrReplaceTempView(\"df_dynamic_edges\")"
   ]
  },
  {
   "cell_type": "code",
   "execution_count": null,
   "metadata": {
    "colab": {
     "base_uri": "https://localhost:8080/",
     "height": 459
    },
    "colab_type": "code",
    "id": "PR5KKELeO1q8",
    "outputId": "938755ef-63b2-4a59-faf3-293908247a3b"
   },
   "outputs": [
    {
     "name": "stdout",
     "output_type": "stream",
     "text": [
      "+----+-------+------------------+\n",
      "|user|    fof|lifetime_indicator|\n",
      "+----+-------+------------------+\n",
      "|   3|    225|                 0|\n",
      "|   3|1400679|                 1|\n",
      "|   6|    485|                 5|\n",
      "|   6|2566210|                 5|\n",
      "|   8|2734056|                 2|\n",
      "|   8| 704469|                10|\n",
      "|   9| 378439|                 0|\n",
      "|   9| 737443|                 0|\n",
      "|   9|4095326|                 0|\n",
      "|   9|2171178|                 5|\n",
      "|   9| 441736|                 8|\n",
      "|  10|  66916|                 0|\n",
      "|  10| 276439|                 1|\n",
      "|  10|     19|                 2|\n",
      "|  10|  47104|                 2|\n",
      "|  10|  55895|                 4|\n",
      "|  10|  47104|                 9|\n",
      "|  10|  49778|                 9|\n",
      "|  11|  66374|                 0|\n",
      "|  11|  67855|                 0|\n",
      "+----+-------+------------------+\n",
      "only showing top 20 rows\n",
      "\n"
     ]
    }
   ],
   "source": [
    "# step 2: deal with situation when user's friends of friends are also in friends list \n",
    "df_dynamic_fof = spark.sql(\"select t1.user, fof, t1.lifetime_indicator \\\n",
    "                   from df_dynamic_edges t1 \\\n",
    "                        left join (select user, friends, \\\n",
    "                            lifetime_indicator from dynamic_friends) t2 \\\n",
    "                        on t1.user=t2.user \\\n",
    "                        and t1.lifetime_indicator=t2.lifetime_indicator \\\n",
    "                        and t1.fof=t2.friends \\\n",
    "                   where fof is null or t2.friends is null \\\n",
    "                   order by t1.user, t1.lifetime_indicator, fof\")\n",
    "\n",
    "df_dynamic_fof.createOrReplaceTempView(\"df_dynamic_fof\")\n",
    "df_dynamic_fof.show()"
   ]
  },
  {
   "cell_type": "code",
   "execution_count": null,
   "metadata": {
    "colab": {
     "base_uri": "https://localhost:8080/",
     "height": 459
    },
    "colab_type": "code",
    "id": "J_8qiZfLPG5O",
    "outputId": "68e90b85-5dde-4363-eea6-ce696cd61d02"
   },
   "outputs": [
    {
     "name": "stdout",
     "output_type": "stream",
     "text": [
      "+----+------------------+-------+\n",
      "|user|lifetime_indicator|fof_cnt|\n",
      "+----+------------------+-------+\n",
      "|   2|                 0|      0|\n",
      "|   3|                 0|      1|\n",
      "|   3|                 1|      1|\n",
      "|   4|                 0|      0|\n",
      "|   4|                 1|      0|\n",
      "|   6|                 0|      0|\n",
      "|   6|                 5|      2|\n",
      "|   8|                 0|      0|\n",
      "|   8|                 2|      1|\n",
      "|   8|                 7|      0|\n",
      "|   8|                 9|      0|\n",
      "|   8|                10|      1|\n",
      "|   9|                 0|      3|\n",
      "|   9|                 2|      0|\n",
      "|   9|                 5|      1|\n",
      "|   9|                 7|      0|\n",
      "|   9|                 8|      1|\n",
      "|  10|                 0|      1|\n",
      "|  10|                 1|      1|\n",
      "|  10|                 2|      2|\n",
      "+----+------------------+-------+\n",
      "only showing top 20 rows\n",
      "\n"
     ]
    }
   ],
   "source": [
    "# step 3: calculate number of fof for each lifetime\n",
    "df_dynamic_fofcnt = spark.sql(\"select distinct user, lifetime_indicator, \\\n",
    "                    count(distinct fof) as fof_cnt \\\n",
    "                  from ( \\\n",
    "                      select d1.user, fof, d1.lifetime_indicator \\\n",
    "                      from dynamic_friends d1 left join df_dynamic_fof d2 \\\n",
    "                      on d1.user=d2.user \\\n",
    "                        and d1.lifetime_indicator=d2.lifetime_indicator) T \\\n",
    "                  group by user, lifetime_indicator \\\n",
    "                  order by user, lifetime_indicator\")\n",
    "\n",
    "df_dynamic_fofcnt.createOrReplaceTempView(\"df_dynamic_fofcnt\")\n",
    "df_dynamic_fofcnt.show()"
   ]
  },
  {
   "cell_type": "code",
   "execution_count": null,
   "metadata": {
    "colab": {
     "base_uri": "https://localhost:8080/",
     "height": 478
    },
    "colab_type": "code",
    "id": "2lKM8SGOWywQ",
    "outputId": "7d506687-083a-41d1-8420-379d369a2a53"
   },
   "outputs": [
    {
     "name": "stdout",
     "output_type": "stream",
     "text": [
      "+----+------------------+-------+\n",
      "|user|lifetime_indicator|fof_cnt|\n",
      "+----+------------------+-------+\n",
      "|   2|                 0|      0|\n",
      "|   2|                 1|      0|\n",
      "|   2|                 2|      0|\n",
      "|   2|                 3|      0|\n",
      "|   2|                 4|      0|\n",
      "|   2|                 5|      0|\n",
      "|   2|                 6|      0|\n",
      "|   2|                 7|      0|\n",
      "|   2|                 8|      0|\n",
      "|   2|                 9|      0|\n",
      "|   2|                10|      0|\n",
      "|   2|                11|      0|\n",
      "|   2|                12|      0|\n",
      "|   3|                 0|      1|\n",
      "|   3|                 1|      1|\n",
      "|   3|                 2|      0|\n",
      "|   3|                 3|      0|\n",
      "|   3|                 4|      0|\n",
      "|   3|                 5|      0|\n",
      "|   3|                 6|      0|\n",
      "+----+------------------+-------+\n",
      "only showing top 20 rows\n",
      "\n"
     ]
    }
   ],
   "source": [
    "# step 4: create continuous friends of friends count\n",
    "df_lifetime_fofcnt = spark.sql(\"select user, lifetime_indicator, \\\n",
    "                            max(ifnull(fof_cnt,0)) as fof_cnt \\\n",
    "                        from \\\n",
    "                        (select user, lifetime_indicator, fof_cnt from df_dynamic_fofcnt \\\n",
    "                          union \\\n",
    "                         select user, time_lst, null as fof_cnt from df_usertime) T \\\n",
    "                        group by user, lifetime_indicator \\\n",
    "                        order by user, lifetime_indicator\")\n",
    "df_lifetime_fofcnt.createOrReplaceTempView(\"df_lifetime_fofcnt\")\n",
    "df_lifetime_fofcnt.show()"
   ]
  },
  {
   "cell_type": "markdown",
   "metadata": {
    "colab_type": "text",
    "id": "ScvWCt7eVl94"
   },
   "source": [
    "### Clustering coefficient of a user's network"
   ]
  },
  {
   "cell_type": "code",
   "execution_count": null,
   "metadata": {
    "colab": {
     "base_uri": "https://localhost:8080/",
     "height": 478
    },
    "colab_type": "code",
    "id": "SGljijpTC7vV",
    "outputId": "82e531a0-d057-4cfe-822a-bdd80e82ce24"
   },
   "outputs": [
    {
     "name": "stdout",
     "output_type": "stream",
     "text": [
      "+----+------------------+------------+\n",
      "|user|lifetime_indicator|num_vertices|\n",
      "+----+------------------+------------+\n",
      "|   2|                 0|         0.0|\n",
      "|   2|                 1|         0.0|\n",
      "|   2|                 2|         0.0|\n",
      "|   2|                 3|         0.0|\n",
      "|   2|                 4|         0.0|\n",
      "|   2|                 5|         0.0|\n",
      "|   2|                 6|         0.0|\n",
      "|   2|                 7|         0.0|\n",
      "|   2|                 8|         0.0|\n",
      "|   2|                 9|         0.0|\n",
      "|   2|                10|         0.0|\n",
      "|   2|                11|         0.0|\n",
      "|   2|                12|         0.0|\n",
      "|   3|                 0|         0.0|\n",
      "|   3|                 1|        10.0|\n",
      "|   3|                 2|        10.0|\n",
      "|   3|                 3|        10.0|\n",
      "|   3|                 4|        10.0|\n",
      "|   3|                 5|        10.0|\n",
      "|   3|                 6|        10.0|\n",
      "+----+------------------+------------+\n",
      "only showing top 20 rows\n",
      "\n"
     ]
    }
   ],
   "source": [
    "# step 1: calculate vertices\n",
    "df_friends_vertices = spark.sql(\"select user, lifetime_indicator, \\\n",
    "                                    cum_friends*(cum_friends-1)/2 as num_vertices \\\n",
    "                                 from df_dynamic_cum_friends \\\n",
    "                                 order by user, lifetime_indicator\")\n",
    "\n",
    "df_friends_vertices.createOrReplaceTempView(\"df_friends_vertices\")\n",
    "df_friends_vertices.show()"
   ]
  },
  {
   "cell_type": "code",
   "execution_count": null,
   "metadata": {
    "colab": {
     "base_uri": "https://localhost:8080/",
     "height": 478
    },
    "colab_type": "code",
    "id": "DfSEiEeJC75k",
    "outputId": "3f8339b6-ad95-4429-c263-3b53d5eef6bd"
   },
   "outputs": [
    {
     "name": "stdout",
     "output_type": "stream",
     "text": [
      "+-----+-------+-------------------+-------------------+-------------------+\n",
      "|user1|  user2|    first_meet_date|first_meet_lifetime|   first_usage_date|\n",
      "+-----+-------+-------------------+-------------------+-------------------+\n",
      "|    2|    220|2012-11-23 06:03:42|                  0|2012-11-23 06:03:42|\n",
      "|    2|     43|2016-04-09 09:29:31|                 -1|2012-11-23 06:03:42|\n",
      "|    2| 191142|2016-09-26 09:56:55|                 -1|2012-11-23 06:03:42|\n",
      "|    3|     43|2016-06-27 01:14:37|                 -1|2016-06-27 01:14:37|\n",
      "|    3| 263437|2016-07-22 21:16:37|                 -1|2016-06-27 01:14:37|\n",
      "|    3|     52|2016-09-22 15:30:09|                  0|2016-06-27 01:14:37|\n",
      "|    3|2382556|2016-10-06 10:49:45|                  1|2016-06-27 01:14:37|\n",
      "|    3|1079020|2016-10-07 23:37:56|                  1|2016-06-27 01:14:37|\n",
      "|    3|1204190|2016-10-09 01:56:24|                  1|2016-06-27 01:14:37|\n",
      "|    3|7854140|2016-10-09 03:36:13|                  1|2016-06-27 01:14:37|\n",
      "|    3| 567957|2016-10-29 09:28:07|                 -1|2016-06-27 01:14:37|\n",
      "|    4| 122744|2012-12-03 03:35:53|                  0|2012-12-03 03:35:53|\n",
      "|    4| 125527|2012-12-10 10:27:55|                  0|2012-12-03 03:35:53|\n",
      "|    4| 125755|2013-01-04 10:20:36|                  0|2012-12-03 03:35:53|\n",
      "|    4| 968271|2014-02-04 06:51:33|                 -1|2012-12-03 03:35:53|\n",
      "|    4| 187560|2015-06-17 09:23:30|                 -1|2012-12-03 03:35:53|\n",
      "|    4|9271982|2016-03-03 12:45:57|                 -1|2012-12-03 03:35:53|\n",
      "|    4| 221578|2016-04-17 03:35:09|                 -1|2012-12-03 03:35:53|\n",
      "|    6| 676003|2014-06-28 00:18:16|                 -1|2014-06-28 00:18:16|\n",
      "|    6|4330489|2015-04-14 04:34:23|                  0|2014-06-28 00:18:16|\n",
      "+-----+-------+-------------------+-------------------+-------------------+\n",
      "only showing top 20 rows\n",
      "\n"
     ]
    }
   ],
   "source": [
    "# find the first time that the two users made transactions\n",
    "t1 = spark.sql(\"select distinct user1, min(datetime) as first_usage_date \\\n",
    "                from \\\n",
    "                    (select user1, datetime from days_lifeindicator_tbl \\\n",
    "                    union select user2, datetime from days_lifeindicator_tbl) T \\\n",
    "                group by user1 \\\n",
    "                order by user1\")\n",
    "\n",
    "t1.createOrReplaceTempView(\"t1\")\n",
    "\n",
    "t2 = spark.sql(\"select distinct user1, user2, datetime, lifetime_indicator \\\n",
    "                from (select user1, user2, datetime, lifetime_indicator \\\n",
    "                      from days_lifeindicator_tbl \\\n",
    "                      union \\\n",
    "                      select user2, user1, datetime, lifetime_indicator \\\n",
    "                      from days_lifeindicator_tbl) T \\\n",
    "                order by user1\")\n",
    "\n",
    "t2.createOrReplaceTempView(\"t2\")\n",
    "\n",
    "dy_first_meet = spark.sql(\"select user1, user2, min(datetime) as first_meet_date, \\\n",
    "                                       min(lifetime_indicator) as first_meet_lifetime, \\\n",
    "                                       first_usage_date \\\n",
    "                            from t2 join t1 using (user1) \\\n",
    "                            group by user1, user2, first_usage_date \\\n",
    "                            order by user1, min(datetime)\")\n",
    "\n",
    "dy_first_meet.createOrReplaceTempView(\"dy_first_meet\")\n",
    "dy_first_meet.show()"
   ]
  },
  {
   "cell_type": "code",
   "execution_count": null,
   "metadata": {
    "colab": {
     "base_uri": "https://localhost:8080/",
     "height": 498
    },
    "colab_type": "code",
    "id": "OXGTFkF0C7_E",
    "outputId": "b69f649d-538c-4689-dd56-494b49a070cc"
   },
   "outputs": [
    {
     "name": "stdout",
     "output_type": "stream",
     "text": [
      "+--------+--------+-------------------+-------------------+--------+--------+-------------------+--------+--------+-------------------+\n",
      "|d1_userA|d2_userB|d1_first_usage_date|        d1_datetime|d2_userA|d2_userB|        d2_datetime|d3_userA|d3_userB|        d3_datetime|\n",
      "+--------+--------+-------------------+-------------------+--------+--------+-------------------+--------+--------+-------------------+\n",
      "|       9|     243|2012-06-28 04:28:32|2012-06-28 04:28:32|     243|  367955|2013-10-06 09:59:31|  367955|       9|2016-08-24 01:57:40|\n",
      "|       9|  755956|2012-06-28 04:28:32|2015-05-19 04:58:47|  755956|  185494|2014-11-07 03:54:46|  185494|       9|2016-02-08 02:20:19|\n",
      "|       9|  367955|2012-06-28 04:28:32|2016-08-24 01:57:40|  367955|     243|2013-10-06 09:59:31|     243|       9|2012-06-28 04:28:32|\n",
      "|       9|  185494|2012-06-28 04:28:32|2016-02-08 02:20:19|  185494|  755956|2014-11-07 03:54:46|  755956|       9|2015-05-19 04:58:47|\n",
      "|      11|  171286|2012-05-15 22:08:58|2013-10-11 21:51:24|  171286|  183628|2013-08-04 06:47:26|  183628|      11|2014-02-08 04:59:35|\n",
      "|      11|  160300|2012-05-15 22:08:58|2012-11-18 03:58:43|  160300|  119906|2013-05-16 07:41:13|  119906|      11|2014-03-15 00:22:34|\n",
      "|      11|  119906|2012-05-15 22:08:58|2014-03-15 00:22:34|  119906|   51792|2014-03-27 23:34:00|   51792|      11|2014-06-20 00:03:32|\n",
      "|      11|   51792|2012-05-15 22:08:58|2014-06-20 00:03:32|   51792|  160300|2014-02-13 07:16:37|  160300|      11|2012-11-18 03:58:43|\n",
      "|      11|  119906|2012-05-15 22:08:58|2014-03-15 00:22:34|  119906|   49778|2014-08-01 20:12:52|   49778|      11|2012-10-07 04:57:45|\n",
      "|      11|   41798|2012-05-15 22:08:58|2013-08-01 23:04:08|   41798|  183628|2014-04-23 23:59:04|  183628|      11|2014-02-08 04:59:35|\n",
      "|      11|  160300|2012-05-15 22:08:58|2012-11-18 03:58:43|  160300|   51792|2014-02-13 07:16:37|   51792|      11|2014-06-20 00:03:32|\n",
      "|      11|  183628|2012-05-15 22:08:58|2014-02-08 04:59:35|  183628|  171286|2013-08-04 06:47:26|  171286|      11|2013-10-11 21:51:24|\n",
      "|      11|   50225|2012-05-15 22:08:58|2012-08-10 02:01:05|   50225|  119906|2013-11-27 11:28:08|  119906|      11|2014-03-15 00:22:34|\n",
      "|      11|   51792|2012-05-15 22:08:58|2014-06-20 00:03:32|   51792|  119906|2014-03-27 23:34:00|  119906|      11|2014-03-15 00:22:34|\n",
      "|      11|   60183|2012-05-15 22:08:58|2015-05-16 07:31:14|   60183|   49778|2015-02-18 02:56:26|   49778|      11|2012-10-07 04:57:45|\n",
      "|      11|  119906|2012-05-15 22:08:58|2014-03-15 00:22:34|  119906|  160300|2013-05-16 07:41:13|  160300|      11|2012-11-18 03:58:43|\n",
      "|      11|   49778|2012-05-15 22:08:58|2012-10-07 04:57:45|   49778|   60183|2015-02-18 02:56:26|   60183|      11|2015-05-16 07:31:14|\n",
      "|      11|   49778|2012-05-15 22:08:58|2012-10-07 04:57:45|   49778|  119906|2014-08-01 20:12:52|  119906|      11|2014-03-15 00:22:34|\n",
      "|      11|   41798|2012-05-15 22:08:58|2013-08-01 23:04:08|   41798|   51792|2014-01-11 03:15:37|   51792|      11|2014-06-20 00:03:32|\n",
      "|      11|  183628|2012-05-15 22:08:58|2014-02-08 04:59:35|  183628|  119906|2014-02-01 12:17:51|  119906|      11|2014-03-15 00:22:34|\n",
      "+--------+--------+-------------------+-------------------+--------+--------+-------------------+--------+--------+-------------------+\n",
      "only showing top 20 rows\n",
      "\n"
     ]
    }
   ],
   "source": [
    "# self join\n",
    "df_triangle = spark.sql(\"select d1.user1 as d1_userA, d1.user2 as d2_userB, \\\n",
    "                          d1.first_usage_date as d1_first_usage_date, \\\n",
    "                          d1.first_meet_date as d1_datetime, \\\n",
    "                          d2.user1 as d2_userA, d2.user2 as d2_userB, \\\n",
    "                          d2.first_meet_date as d2_datetime,\\\n",
    "                          d3.user1 as d3_userA, d3.user2 as d3_userB, \\\n",
    "                          d3.first_meet_date as d3_datetime \\\n",
    "                        from dy_first_meet d1 left join dy_first_meet d2 on d1.user2=d2.user1 \\\n",
    "                                                          and d1.user1 <> d2.user2 \\\n",
    "                                left join dy_first_meet d3 on d2.user2=d3.user1 \\\n",
    "                                                          and d2.user1 <> d3.user2 \\\n",
    "                        where d1.user1=d3.user2 \\\n",
    "                        order by d1.user1 \")\n",
    "\n",
    "df_triangle.createOrReplaceTempView(\"df_triangle\")\n",
    "df_triangle.show(20)"
   ]
  },
  {
   "cell_type": "code",
   "execution_count": null,
   "metadata": {
    "colab": {
     "base_uri": "https://localhost:8080/",
     "height": 478
    },
    "colab_type": "code",
    "id": "EYmHlQLaC8FV",
    "outputId": "ddaac519-a8e6-4dd1-a279-ca8fc39fc6bd"
   },
   "outputs": [
    {
     "name": "stdout",
     "output_type": "stream",
     "text": [
      "+--------+--------+--------+------------+\n",
      "|d1_userA|d2_userA|d3_userA|tri_lifetime|\n",
      "+--------+--------+--------+------------+\n",
      "|       9|     243|  367955|          51|\n",
      "|       9|  755956|  185494|          44|\n",
      "|       9|  367955|     243|          51|\n",
      "|       9|  185494|  755956|          44|\n",
      "|      11|  171286|  183628|          22|\n",
      "|      11|  160300|  119906|          23|\n",
      "|      11|  119906|   51792|          26|\n",
      "|      11|   51792|  160300|          26|\n",
      "|      11|  119906|   49778|          27|\n",
      "|      11|   41798|  183628|          24|\n",
      "|      11|  160300|   51792|          26|\n",
      "|      11|  183628|  171286|          22|\n",
      "|      11|   50225|  119906|          23|\n",
      "|      11|   51792|  119906|          26|\n",
      "|      11|   60183|   49778|          37|\n",
      "|      11|  119906|  160300|          23|\n",
      "|      11|   49778|   60183|          37|\n",
      "|      11|   49778|  119906|          27|\n",
      "|      11|   41798|   51792|          26|\n",
      "|      11|  183628|  119906|          23|\n",
      "+--------+--------+--------+------------+\n",
      "only showing top 20 rows\n",
      "\n"
     ]
    }
   ],
   "source": [
    "df_triangle_life = spark.sql(\"select d1_userA, d2_userA, d3_userA, \\\n",
    "                                ceil(datediff(greatest(d1_datetime, d2_datetime, d3_datetime), \\\n",
    "                                      d1_first_usage_date)/30) as tri_lifetime \\\n",
    "                              from df_triangle\")\n",
    "\n",
    "df_triangle_life.createOrReplaceTempView(\"df_triangle_life\")\n",
    "df_triangle_life.show()"
   ]
  },
  {
   "cell_type": "code",
   "execution_count": null,
   "metadata": {
    "colab": {
     "base_uri": "https://localhost:8080/",
     "height": 478
    },
    "colab_type": "code",
    "id": "Cv1Zp0OB1IIv",
    "outputId": "f4ed25fa-525e-4687-de8a-220e35ec90e7"
   },
   "outputs": [
    {
     "name": "stdout",
     "output_type": "stream",
     "text": [
      "+----+------------+--------+\n",
      "|user|tri_lifetime|num_tris|\n",
      "+----+------------+--------+\n",
      "|  12|           6|     1.0|\n",
      "|  16|           3|     1.0|\n",
      "|  89|           1|     1.0|\n",
      "| 112|           8|     1.0|\n",
      "| 224|           5|     1.0|\n",
      "| 224|           6|     1.0|\n",
      "| 301|          12|     1.0|\n",
      "| 322|          12|     1.0|\n",
      "| 361|           5|     1.0|\n",
      "| 361|           9|     1.0|\n",
      "| 743|          10|     1.0|\n",
      "| 747|           4|     1.0|\n",
      "| 759|           5|     1.0|\n",
      "| 777|           2|     1.0|\n",
      "| 903|           9|     1.0|\n",
      "| 903|          10|     1.0|\n",
      "| 946|          11|     1.0|\n",
      "|1009|          12|     1.0|\n",
      "|1111|           7|     4.0|\n",
      "|1224|           8|     1.0|\n",
      "+----+------------+--------+\n",
      "only showing top 20 rows\n",
      "\n"
     ]
    }
   ],
   "source": [
    "df_triangles = spark.sql(\"select d1_userA as user, tri_lifetime, count(*)/2 as num_tris \\\n",
    "           from df_triangle_life \\\n",
    "           where tri_lifetime <= 12 \\\n",
    "           group by d1_userA, tri_lifetime \\\n",
    "           order by d1_userA, tri_lifetime\")\n",
    "\n",
    "df_triangles.createOrReplaceTempView(\"df_triangles\")\n",
    "df_triangles.show()"
   ]
  },
  {
   "cell_type": "code",
   "execution_count": null,
   "metadata": {
    "colab": {
     "base_uri": "https://localhost:8080/",
     "height": 478
    },
    "colab_type": "code",
    "id": "y1lYJihL1rgP",
    "outputId": "3a1d42a9-c8ee-44ed-d6bc-617559900cb9"
   },
   "outputs": [
    {
     "name": "stdout",
     "output_type": "stream",
     "text": [
      "+----+--------+--------+--------+\n",
      "|user|lifetime|tot_tris|cum_tris|\n",
      "+----+--------+--------+--------+\n",
      "|   2|       0|     0.0|     0.0|\n",
      "|   2|       1|     0.0|     0.0|\n",
      "|   2|       2|     0.0|     0.0|\n",
      "|   2|       3|     0.0|     0.0|\n",
      "|   2|       4|     0.0|     0.0|\n",
      "|   2|       5|     0.0|     0.0|\n",
      "|   2|       6|     0.0|     0.0|\n",
      "|   2|       7|     0.0|     0.0|\n",
      "|   2|       8|     0.0|     0.0|\n",
      "|   2|       9|     0.0|     0.0|\n",
      "|   2|      10|     0.0|     0.0|\n",
      "|   2|      11|     0.0|     0.0|\n",
      "|   2|      12|     0.0|     0.0|\n",
      "|   3|       0|     0.0|     0.0|\n",
      "|   3|       1|     0.0|     0.0|\n",
      "|   3|       2|     0.0|     0.0|\n",
      "|   3|       3|     0.0|     0.0|\n",
      "|   3|       4|     0.0|     0.0|\n",
      "|   3|       5|     0.0|     0.0|\n",
      "|   3|       6|     0.0|     0.0|\n",
      "+----+--------+--------+--------+\n",
      "only showing top 20 rows\n",
      "\n"
     ]
    }
   ],
   "source": [
    "df_fulllife_triangles = spark.sql(\"select user, tri_lifetime as lifetime, \\\n",
    "                                            sum(num_tris) as tot_tris \\\n",
    "                                   from (\\\n",
    "                                      select user, tri_lifetime, num_tris from df_triangles\\\n",
    "                                      union \\\n",
    "                                      select user, time_lst, 0 as num_tris from df_usertime) \\\n",
    "                                   group by user, tri_lifetime \\\n",
    "                                   order by user, tri_lifetime \")\n",
    "\n",
    "window = Window.partitionBy(\"user\").orderBy(\"lifetime\")\n",
    "df_fulllife_triangles = df_fulllife_triangles.withColumn(\"cum_tris\", \n",
    "                        F.sum(\"tot_tris\").over(window)).sort(F.col(\"user\"), F.col(\"lifetime\"))\n",
    "df_fulllife_triangles.createOrReplaceTempView(\"df_fulllife_triangles\")\n",
    "\n",
    "df_fulllife_triangles.show()"
   ]
  },
  {
   "cell_type": "code",
   "execution_count": null,
   "metadata": {
    "colab": {
     "base_uri": "https://localhost:8080/",
     "height": 478
    },
    "colab_type": "code",
    "id": "ZdXSNCKHEC83",
    "outputId": "97b13036-0180-4008-d2ef-8f9c39652e72"
   },
   "outputs": [
    {
     "name": "stdout",
     "output_type": "stream",
     "text": [
      "+----+--------+-------------+\n",
      "|user|lifetime|cluster_coeff|\n",
      "+----+--------+-------------+\n",
      "|   2|       0|          0.0|\n",
      "|   2|       1|          0.0|\n",
      "|   2|       2|          0.0|\n",
      "|   2|       3|          0.0|\n",
      "|   2|       4|          0.0|\n",
      "|   2|       5|          0.0|\n",
      "|   2|       6|          0.0|\n",
      "|   2|       7|          0.0|\n",
      "|   2|       8|          0.0|\n",
      "|   2|       9|          0.0|\n",
      "|   2|      10|          0.0|\n",
      "|   2|      11|          0.0|\n",
      "|   2|      12|          0.0|\n",
      "|   3|       0|          0.0|\n",
      "|   3|       1|          0.0|\n",
      "|   3|       2|          0.0|\n",
      "|   3|       3|          0.0|\n",
      "|   3|       4|          0.0|\n",
      "|   3|       5|          0.0|\n",
      "|   3|       6|          0.0|\n",
      "+----+--------+-------------+\n",
      "only showing top 20 rows\n",
      "\n"
     ]
    }
   ],
   "source": [
    "df_cluster = spark.sql(\"select t1.user, t1.lifetime, \\\n",
    "                              ifnull(cum_tris/num_vertices,0) as cluster_coeff \\\n",
    "                      from df_fulllife_triangles t1 join df_friends_vertices t2 \\\n",
    "                              on t1.user=t2.user and t1.lifetime = t2.lifetime_indicator \\\n",
    "                      order by t1.user, t1.lifetime\")\n",
    "\n",
    "df_cluster.createOrReplaceTempView(\"df_cluster\")\n",
    "df_cluster.show()"
   ]
  },
  {
   "cell_type": "markdown",
   "metadata": {
    "colab_type": "text",
    "id": "XYCIah9HVr-Y"
   },
   "source": [
    "### Calculate the page rank of each user"
   ]
  },
  {
   "cell_type": "code",
   "execution_count": null,
   "metadata": {
    "colab": {},
    "colab_type": "code",
    "id": "usQ3kJfUz1Eh"
   },
   "outputs": [],
   "source": [
    "import networkx as nx\n",
    "G = nx.Graph()\n",
    "\n",
    "pairs = df_friends.select(\"user\", \"friends\")\n",
    "nx_tuples = pairs.rdd.map(tuple).collect()\n",
    "G.add_edges_from(nx_tuples)"
   ]
  },
  {
   "cell_type": "code",
   "execution_count": 31,
   "metadata": {
    "colab": {
     "base_uri": "https://localhost:8080/",
     "height": 194
    },
    "colab_type": "code",
    "id": "Zm4aMBnhpShi",
    "outputId": "57868f4d-593a-477d-af26-470897995a0d"
   },
   "outputs": [
    {
     "data": {
      "text/plain": [
       "{2: 4.157477977789461e-07,\n",
       " 3: 8.653820777473779e-07,\n",
       " 43: 3.2127973908043654e-06,\n",
       " 52: 1.6571325641882515e-07,\n",
       " 220: 1.435516964442576e-07,\n",
       " 191142: 2.7629757837595304e-07,\n",
       " 263437: 7.489934678145929e-07,\n",
       " 567957: 8.505700929517217e-07,\n",
       " 1079020: 4.2278735212380876e-07,\n",
       " 1204190: 8.981909064048241e-07}"
      ]
     },
     "execution_count": 31,
     "metadata": {
      "tags": []
     },
     "output_type": "execute_result"
    }
   ],
   "source": [
    "pagerank = nx.pagerank_scipy(G)\n",
    "dict(list(pagerank.items())[0:10])"
   ]
  },
  {
   "cell_type": "code",
   "execution_count": 32,
   "metadata": {
    "colab": {
     "base_uri": "https://localhost:8080/",
     "height": 478
    },
    "colab_type": "code",
    "id": "SoWc7Nsg5gT5",
    "outputId": "8d205cd4-2607-4f29-b042-a51a11a25d57"
   },
   "outputs": [
    {
     "name": "stdout",
     "output_type": "stream",
     "text": [
      "+-------+--------------------+\n",
      "|   user|            pagerank|\n",
      "+-------+--------------------+\n",
      "|      2|4.157477977789461E-7|\n",
      "|     43|3.212797390804365...|\n",
      "|    220|1.435516964442576E-7|\n",
      "| 191142|2.762975783759530...|\n",
      "|      3|8.653820777473779E-7|\n",
      "|     52|1.657132564188251...|\n",
      "| 263437|7.489934678145929E-7|\n",
      "| 567957|8.505700929517217E-7|\n",
      "|1079020|4.227873521238087...|\n",
      "|1204190|8.981909064048241E-7|\n",
      "|2382556|8.488874357040234E-8|\n",
      "|7854140|8.488874357040234E-8|\n",
      "|      4| 1.32619682638118E-6|\n",
      "| 122744|8.991699667387565E-8|\n",
      "| 125527|3.714991704683809...|\n",
      "| 125755|8.991699667387565E-8|\n",
      "| 187560|5.122902573656336E-7|\n",
      "| 221578|4.278156052272820...|\n",
      "| 968271|1.837777212720441E-7|\n",
      "|9271982|8.991699667387565E-8|\n",
      "+-------+--------------------+\n",
      "only showing top 20 rows\n",
      "\n"
     ]
    }
   ],
   "source": [
    "# covert dictionary to pyspark dateframe\n",
    "df_pagerank = pd.DataFrame(pagerank.items(), columns=['user', 'pagerank'])\n",
    "df_pagerank = spark.createDataFrame(df_pagerank)\n",
    "df_pagerank.createOrReplaceTempView(\"df_pagerank\")\n",
    "df_pagerank.show()"
   ]
  },
  {
   "cell_type": "markdown",
   "metadata": {
    "colab_type": "text",
    "id": "30c9PN0ez1FW"
   },
   "source": [
    "# Part 3: Predictive analytics with MLlib "
   ]
  },
  {
   "cell_type": "markdown",
   "metadata": {
    "colab_type": "text",
    "id": "foI_CzdHz1FX"
   },
   "source": [
    "## Created dependent variable Y - the total number of transactions during her/his twelve months in Venmo"
   ]
  },
  {
   "cell_type": "code",
   "execution_count": null,
   "metadata": {
    "ExecuteTime": {
     "end_time": "2020-05-11T02:37:05.424750Z",
     "start_time": "2020-05-11T02:26:41.804917Z"
    },
    "colab": {
     "base_uri": "https://localhost:8080/",
     "height": 478
    },
    "colab_type": "code",
    "id": "6m5jkfJoz1FZ",
    "outputId": "4e79834d-a3c0-4f21-9d1a-2874c75f27d2"
   },
   "outputs": [
    {
     "name": "stdout",
     "output_type": "stream",
     "text": [
      "+-----+---+\n",
      "|user1|  y|\n",
      "+-----+---+\n",
      "|    2|  1|\n",
      "|    3|  8|\n",
      "|    4|  2|\n",
      "|   10|  7|\n",
      "|   11| 10|\n",
      "|   12|  5|\n",
      "|   13|  4|\n",
      "|   16|  5|\n",
      "|   19|  1|\n",
      "|   28|  1|\n",
      "|   34|  3|\n",
      "|   42|  5|\n",
      "|   43| 16|\n",
      "|   47|  1|\n",
      "|   52|  2|\n",
      "|   56|  1|\n",
      "|  112|  2|\n",
      "|  126|  1|\n",
      "|  129|  1|\n",
      "|  134|  3|\n",
      "+-----+---+\n",
      "only showing top 20 rows\n",
      "\n"
     ]
    }
   ],
   "source": [
    "# calculate total number of transactions for each user on Venmo\n",
    "df_y = spark.sql(\"select user1, count(*) as y \\\n",
    "                  from lifetime_tbl group by user1 \\\n",
    "                  order by user1\")\n",
    "df_y.createOrReplaceTempView(\"df_y\")\n",
    "df_y.show()"
   ]
  },
  {
   "cell_type": "markdown",
   "metadata": {
    "colab_type": "text",
    "id": "21043nHaz1Fb"
   },
   "source": [
    "## Create the recency and frequency variables "
   ]
  },
  {
   "cell_type": "code",
   "execution_count": null,
   "metadata": {
    "ExecuteTime": {
     "end_time": "2020-05-11T02:38:43.740544Z",
     "start_time": "2020-05-11T02:38:43.553863Z"
    },
    "colab": {},
    "colab_type": "code",
    "id": "3zG0bpAoz1Fd"
   },
   "outputs": [],
   "source": [
    "# create dataframe with two columns: user1 and time_list (0-12)\n",
    "# each user has lifetime 0 to 12\n",
    "lst = [0,1,2,3,4,5,6,7,8,9,10,11,12]\n",
    "df_timelst = df_y.withColumn(\"time_lst\", F.array([F.lit(x) for x in lst]))\n",
    "df_timelst = df_timelst.withColumn(\"time_lst\", F.explode(col(\"time_lst\")))\n",
    "\n",
    "# summarize number of transactions and the last transaction day in each lifetime period\n",
    "df_summary = spark.sql(\"select user1, lifetime_indicator, count(*) as freq_times, \\\n",
    "                              max(days) as max_days \\\n",
    "                        from lifetime_tbl \\\n",
    "                        group by user1, lifetime_indicator\")\n",
    "\n",
    "df_timelst.createOrReplaceTempView(\"df_timelst\")\n",
    "df_summary.createOrReplaceTempView(\"df_summary\")"
   ]
  },
  {
   "cell_type": "code",
   "execution_count": null,
   "metadata": {
    "ExecuteTime": {
     "end_time": "2020-05-11T02:52:15.044121Z",
     "start_time": "2020-05-11T02:38:47.752461Z"
    },
    "colab": {
     "base_uri": "https://localhost:8080/",
     "height": 459
    },
    "colab_type": "code",
    "id": "nB4Sa5uXz1Fm",
    "outputId": "1ad9e6f6-7df9-4d6e-e00f-637d81a49088"
   },
   "outputs": [
    {
     "name": "stdout",
     "output_type": "stream",
     "text": [
      "+-----+------------------+--------+----------+\n",
      "|user1|lifetime_indicator|max_days|freq_times|\n",
      "+-----+------------------+--------+----------+\n",
      "|    2|                 0|       0|         1|\n",
      "|    2|                 1|    null|      null|\n",
      "|    2|                 2|    null|      null|\n",
      "|    2|                 3|    null|      null|\n",
      "|    2|                 4|    null|      null|\n",
      "|    2|                 5|    null|      null|\n",
      "|    2|                 6|    null|      null|\n",
      "|    2|                 7|    null|      null|\n",
      "|    2|                 8|    null|      null|\n",
      "|    2|                 9|    null|      null|\n",
      "|    2|                10|    null|      null|\n",
      "|    2|                11|    null|      null|\n",
      "|    2|                12|    null|      null|\n",
      "|    3|                 0|       0|         2|\n",
      "|    3|                 1|      17|         5|\n",
      "|    3|                 2|    null|      null|\n",
      "|    3|                 3|    null|      null|\n",
      "|    3|                 4|    null|      null|\n",
      "|    3|                 5|    null|      null|\n",
      "|    3|                 6|    null|      null|\n",
      "+-----+------------------+--------+----------+\n",
      "only showing top 20 rows\n",
      "\n"
     ]
    }
   ],
   "source": [
    "# union dataframes and remove duplicated lifetime\n",
    "df_distinct_summary = spark.sql(\"select user1, lifetime_indicator, max(max_days) as max_days, \\\n",
    "                        max(freq_times) as freq_times \\\n",
    "                  from \\\n",
    "                      (select user1, lifetime_indicator, max_days, freq_times from df_summary \\\n",
    "                      union  \\\n",
    "                      select user1, time_lst, null as max_days, null as freq_times \\\n",
    "                      from df_timelst) T \\\n",
    "                  group by user1, lifetime_indicator \\\n",
    "                  order by user1, lifetime_indicator \")\n",
    "\n",
    "df_distinct_summary.createOrReplaceTempView(\"df_distinct_summary\")\n",
    "df_distinct_summary.show()"
   ]
  },
  {
   "cell_type": "code",
   "execution_count": 44,
   "metadata": {
    "colab": {
     "base_uri": "https://localhost:8080/",
     "height": 1000
    },
    "colab_type": "code",
    "id": "fzKQcVJcsfko",
    "outputId": "bf78e480-a47c-4979-f657-107cd129c3b9"
   },
   "outputs": [
    {
     "name": "stdout",
     "output_type": "stream",
     "text": [
      "+-----+------------------+--------+-------------------+--------------------+-------+\n",
      "|user1|lifetime_indicator|max_days|          frequency|       cum_frequency|recency|\n",
      "+-----+------------------+--------+-------------------+--------------------+-------+\n",
      "|    2|                 0|       0|0.03333333333333333| 0.03333333333333333|      0|\n",
      "|    2|                 1|    null|                0.0| 0.03333333333333333|     30|\n",
      "|    2|                 2|    null|                0.0|0.016666666666666666|     60|\n",
      "|    2|                 3|    null|                0.0|0.011111111111111112|     90|\n",
      "|    2|                 4|    null|                0.0|0.008333333333333333|    120|\n",
      "|    2|                 5|    null|                0.0|0.006666666666666667|    150|\n",
      "|    2|                 6|    null|                0.0|0.005555555555555556|    180|\n",
      "|    2|                 7|    null|                0.0|0.004761904761904762|    210|\n",
      "|    2|                 8|    null|                0.0|0.004166666666666667|    240|\n",
      "|    2|                 9|    null|                0.0|0.003703703703703704|    270|\n",
      "|    2|                10|    null|                0.0|0.003333333333333...|    300|\n",
      "|    2|                11|    null|                0.0|0.003030303030303...|    330|\n",
      "|    2|                12|    null|                0.0|0.002777777777777778|    360|\n",
      "|    3|                 0|       0|0.06666666666666667| 0.06666666666666667|      0|\n",
      "|    3|                 1|      17|                0.2| 0.26666666666666666|     13|\n",
      "|    3|                 2|    null|                0.0| 0.13333333333333333|     43|\n",
      "|    3|                 3|    null|                0.0| 0.08888888888888889|     73|\n",
      "|    3|                 4|    null|                0.0| 0.06666666666666667|    103|\n",
      "|    3|                 5|    null|                0.0| 0.05333333333333334|    133|\n",
      "|    3|                 6|    null|                0.0|0.044444444444444446|    163|\n",
      "|    3|                 7|    null|                0.0|  0.0380952380952381|    193|\n",
      "|    3|                 8|    null|                0.0| 0.03333333333333333|    223|\n",
      "|    3|                 9|    null|                0.0| 0.02962962962962963|    253|\n",
      "|    3|                10|    null|                0.0| 0.02666666666666667|    283|\n",
      "|    3|                11|    null|                0.0|0.024242424242424242|    313|\n",
      "|    3|                12|    null|                0.0|0.022222222222222223|    343|\n",
      "|    4|                 0|       0|0.03333333333333333| 0.03333333333333333|      0|\n",
      "|    4|                 1|      12|0.03333333333333333| 0.06666666666666667|     18|\n",
      "|    4|                 2|    null|                0.0| 0.03333333333333333|     48|\n",
      "|    4|                 3|    null|                0.0|0.022222222222222223|     78|\n",
      "|    4|                 4|    null|                0.0|0.016666666666666666|    108|\n",
      "|    4|                 5|    null|                0.0|0.013333333333333334|    138|\n",
      "|    4|                 6|    null|                0.0|0.011111111111111112|    168|\n",
      "|    4|                 7|    null|                0.0|0.009523809523809525|    198|\n",
      "|    4|                 8|    null|                0.0|0.008333333333333333|    228|\n",
      "|    4|                 9|    null|                0.0|0.007407407407407408|    258|\n",
      "|    4|                10|    null|                0.0|0.006666666666666667|    288|\n",
      "|    4|                11|    null|                0.0|0.006060606060606061|    318|\n",
      "|    4|                12|    null|                0.0|0.005555555555555556|    348|\n",
      "|   10|                 0|       0|0.03333333333333333| 0.03333333333333333|      0|\n",
      "|   10|                 1|      28|0.03333333333333333| 0.06666666666666667|      2|\n",
      "|   10|                 2|      50|0.06666666666666667| 0.06666666666666667|     10|\n",
      "|   10|                 3|    null|                0.0|0.044444444444444446|     40|\n",
      "|   10|                 4|     106|0.06666666666666667|                0.05|     14|\n",
      "|   10|                 5|     131|0.03333333333333333| 0.04666666666666667|     19|\n",
      "|   10|                 6|    null|                0.0| 0.03888888888888889|     49|\n",
      "|   10|                 7|    null|                0.0| 0.03333333333333333|     79|\n",
      "|   10|                 8|    null|                0.0|0.029166666666666667|    109|\n",
      "|   10|                 9|    null|                0.0|0.025925925925925925|    139|\n",
      "|   10|                10|    null|                0.0|0.023333333333333334|    169|\n",
      "|   10|                11|    null|                0.0|0.021212121212121213|    199|\n",
      "|   10|                12|    null|                0.0|0.019444444444444445|    229|\n",
      "|   11|                 0|       0|0.06666666666666667| 0.06666666666666667|      0|\n",
      "|   11|                 1|    null|                0.0| 0.06666666666666667|     30|\n",
      "|   11|                 2|    null|                0.0| 0.03333333333333333|     60|\n",
      "|   11|                 3|      78|0.06666666666666667|0.044444444444444446|     12|\n",
      "|   11|                 4|      93|0.03333333333333333|0.041666666666666664|     27|\n",
      "|   11|                 5|     142|                0.1| 0.05333333333333334|      8|\n",
      "|   11|                 6|     178|0.06666666666666667| 0.05555555555555555|      2|\n",
      "|   11|                 7|    null|                0.0|0.047619047619047616|     32|\n",
      "+-----+------------------+--------+-------------------+--------------------+-------+\n",
      "only showing top 60 rows\n",
      "\n"
     ]
    }
   ],
   "source": [
    "# calculate frequency and recency\n",
    "# frequency: (discrete and ACCUMULATED) \n",
    "    #how often a user uses Venmo in a month. It is standardized and equals to (number of transactions/30)\n",
    "# recency: the last time a user was active\n",
    "    #if a user has used Venmo twice during her first month in Venmo with the second time being on day x, \n",
    "    #then her recency in month 1 is “30-x”\n",
    "\n",
    "df_x = spark.sql(\"select user1, lifetime_indicator, max_days, \\\n",
    "                    ifnull(freq_times, 0)/30 as frequency, \\\n",
    "                    sum(ifnull(freq_times, 0)) \\\n",
    "                    over (partition by user1 \\\n",
    "                    order by lifetime_indicator asc \\\n",
    "                    range between unbounded preceding and current row) as cum_freq, \\\n",
    "                (lifetime_indicator*30-max(max_days) \\\n",
    "                    over(partition by user1 \\\n",
    "                         order by lifetime_indicator asc \\\n",
    "                         range between unbounded preceding and current row)) as recency \\\n",
    "              from df_distinct_summary \\\n",
    "              order by user1, lifetime_indicator\")\n",
    "df_x.createOrReplaceTempView(\"df_x\")\n",
    "\n",
    "# add cumulative frequency\n",
    "df_x = spark.sql(\"select user1, lifetime_indicator, max_days,\\\n",
    "                    frequency, \\\n",
    "                    cum_freq/(30*if(lifetime_indicator=0, 1, lifetime_indicator)) as cum_frequency, \\\n",
    "                    recency \\\n",
    "                  from df_x \\\n",
    "              order by user1, lifetime_indicator\")\n",
    "\n",
    "df_x.createOrReplaceTempView(\"df_x\")\n",
    "df_x.show(60)"
   ]
  },
  {
   "cell_type": "markdown",
   "metadata": {
    "colab_type": "text",
    "id": "swcUlHCmz1F0"
   },
   "source": [
    "## For each user’s lifetime point, regress recency and frequency on ​Y. Plotting the MSE for each lifetime point "
   ]
  },
  {
   "cell_type": "code",
   "execution_count": null,
   "metadata": {
    "ExecuteTime": {
     "end_time": "2020-05-11T06:24:46.513533Z",
     "start_time": "2020-05-11T06:07:10.616365Z"
    },
    "code_folding": [],
    "colab": {},
    "colab_type": "code",
    "id": "KPrYCcflz1F1"
   },
   "outputs": [],
   "source": [
    "# join tables to combine user lifetime, frequency, recency and number of total transactions (y)\n",
    "df_input = spark.sql(\"select user1, lifetime_indicator, frequency, cum_frequency, \\\n",
    "                              recency, y \\\n",
    "                  from df_x join df_y using (user1) \\\n",
    "                  order by user1, lifetime_indicator\")\n",
    "df_input.createOrReplaceTempView(\"df_input\")\n",
    "#df_input.show()"
   ]
  },
  {
   "cell_type": "code",
   "execution_count": null,
   "metadata": {
    "ExecuteTime": {
     "end_time": "2020-05-12T05:34:15.264636Z",
     "start_time": "2020-05-12T05:34:13.293282Z"
    },
    "colab": {},
    "colab_type": "code",
    "id": "RJDEkhcSz1F3"
   },
   "outputs": [],
   "source": [
    "df_input_time0 = spark.sql(\"select * from df_input where lifetime_indicator=0 \")\n",
    "df_input_time1 = spark.sql(\"select * from df_input where lifetime_indicator=1 \")\n",
    "df_input_time2 = spark.sql(\"select * from df_input where lifetime_indicator=2 \")\n",
    "df_input_time3 = spark.sql(\"select * from df_input where lifetime_indicator=3 \")\n",
    "df_input_time4 = spark.sql(\"select * from df_input where lifetime_indicator=4 \")\n",
    "df_input_time5 = spark.sql(\"select * from df_input where lifetime_indicator=5 \")\n",
    "df_input_time6 = spark.sql(\"select * from df_input where lifetime_indicator=6 \")\n",
    "df_input_time7 = spark.sql(\"select * from df_input where lifetime_indicator=7 \")\n",
    "df_input_time8 = spark.sql(\"select * from df_input where lifetime_indicator=8 \")\n",
    "df_input_time9 = spark.sql(\"select * from df_input where lifetime_indicator=9 \")\n",
    "df_input_time10 = spark.sql(\"select * from df_input where lifetime_indicator=10 \")\n",
    "df_input_time11 = spark.sql(\"select * from df_input where lifetime_indicator=11 \")\n",
    "df_input_time12 = spark.sql(\"select * from df_input where lifetime_indicator=12 \")"
   ]
  },
  {
   "cell_type": "code",
   "execution_count": null,
   "metadata": {
    "ExecuteTime": {
     "end_time": "2020-05-12T05:41:46.695980Z",
     "start_time": "2020-05-12T05:41:46.602133Z"
    },
    "colab": {},
    "colab_type": "code",
    "id": "AVZCZtwIz1GX"
   },
   "outputs": [],
   "source": [
    "def lifetimeMSE(inputdata):\n",
    "    Assembler = VectorAssembler(inputCols = ['lifetime_indicator', 'frequency', \n",
    "                                             'cum_frequency','recency'], \n",
    "                                outputCol ='features')\n",
    "    output = Assembler.transform(inputdata)\n",
    "    finalData = output.select('features','y')\n",
    "    trainData, testData = finalData.randomSplit([0.7, 0.3], seed=1)\n",
    "    lrModel = LinearRegression(labelCol ='y', featuresCol='features')\n",
    "    lrEstimator = lrModel.fit(trainData)\n",
    "    testResults = lrEstimator.evaluate(testData)\n",
    "    rmse = testResults.rootMeanSquaredError\n",
    "    mse = rmse**2\n",
    "    return mse"
   ]
  },
  {
   "cell_type": "code",
   "execution_count": null,
   "metadata": {
    "ExecuteTime": {
     "end_time": "2020-05-12T05:49:55.705085Z",
     "start_time": "2020-05-12T05:49:50.712460Z"
    },
    "colab": {
     "base_uri": "https://localhost:8080/",
     "height": 119
    },
    "colab_type": "code",
    "id": "nYyKDwA4z1Gl",
    "outputId": "41b3809a-e623-4e5f-b141-97e0d6664fba"
   },
   "outputs": [
    {
     "name": "stdout",
     "output_type": "stream",
     "text": [
      "7.652437351481585\n",
      "6.691173069837235\n",
      "6.446252930703639\n",
      "5.932649981257501\n",
      "5.4084412991178805\n",
      "5.1461627088341375\n"
     ]
    }
   ],
   "source": [
    "MSE_time0 = lifetimeMSE(df_input_time0)\n",
    "print(MSE_time0)\n",
    "MSE_time1 = lifetimeMSE(df_input_time1)\n",
    "print(MSE_time1)\n",
    "MSE_time2 = lifetimeMSE(df_input_time2)\n",
    "print(MSE_time2)\n",
    "MSE_time3 = lifetimeMSE(df_input_time3)\n",
    "print(MSE_time3)\n",
    "MSE_time4 = lifetimeMSE(df_input_time4)\n",
    "print(MSE_time4)\n",
    "MSE_time5 = lifetimeMSE(df_input_time5)\n",
    "print(MSE_time5)"
   ]
  },
  {
   "cell_type": "code",
   "execution_count": null,
   "metadata": {
    "colab": {
     "base_uri": "https://localhost:8080/",
     "height": 272
    },
    "colab_type": "code",
    "id": "6Oq-GhTDHbZ0",
    "outputId": "8d2b6533-44ef-47e3-a12c-4eacd3beb25c"
   },
   "outputs": [
    {
     "name": "stdout",
     "output_type": "stream",
     "text": [
      "3.9360616020741523\n",
      "4.0460952793410225\n"
     ]
    },
    {
     "data": {
      "text/plain": [
       "[7.652437351481585,\n",
       " 6.691173069837235,\n",
       " 6.446252930703639,\n",
       " 5.932649981257501,\n",
       " 5.4084412991178805,\n",
       " 5.1461627088341375,\n",
       " 4.598004098833828,\n",
       " 4.474719220817289,\n",
       " 4.212880388012137,\n",
       " 4.169087571580209,\n",
       " 4.085268865599057,\n",
       " 3.9360616020741523,\n",
       " 4.0460952793410225]"
      ]
     },
     "execution_count": 26,
     "metadata": {
      "tags": []
     },
     "output_type": "execute_result"
    }
   ],
   "source": [
    "MSE_time6 = lifetimeMSE(df_input_time6)\n",
    "MSE_time7 = lifetimeMSE(df_input_time7)\n",
    "MSE_time8 = lifetimeMSE(df_input_time8)\n",
    "MSE_time9 = lifetimeMSE(df_input_time9)\n",
    "MSE_time10 = lifetimeMSE(df_input_time10)\n",
    "MSE_time11 = lifetimeMSE(df_input_time11)\n",
    "print(MSE_time11)\n",
    "MSE_time12 = lifetimeMSE(df_input_time12)\n",
    "print(MSE_time12)\n",
    "\n",
    "MSE = []\n",
    "MSE.extend([MSE_time0, MSE_time1, MSE_time2, MSE_time3, MSE_time4, MSE_time5, MSE_time6, \n",
    "            MSE_time7, MSE_time8, MSE_time9, MSE_time10, MSE_time11, MSE_time12])\n",
    "MSE"
   ]
  },
  {
   "cell_type": "code",
   "execution_count": null,
   "metadata": {
    "colab": {
     "base_uri": "https://localhost:8080/",
     "height": 282
    },
    "colab_type": "code",
    "id": "BKCmHuoryaxb",
    "outputId": "e0580d5d-9953-4de7-d883-97a5d6396b20"
   },
   "outputs": [
    {
     "data": {
      "text/plain": [
       "[<matplotlib.lines.Line2D at 0x7f424ba9b128>]"
      ]
     },
     "execution_count": 27,
     "metadata": {
      "tags": []
     },
     "output_type": "execute_result"
    },
    {
     "data": {
      "image/png": "[encoded data removed]",
      "text/plain": [
       "<Figure size 432x288 with 1 Axes>"
      ]
     },
     "metadata": {
      "needs_background": "light",
      "tags": []
     },
     "output_type": "display_data"
    }
   ],
   "source": [
    "Lifetime = [0,1,2,3,4,5,6,7,8,9,10,11,12]\n",
    "plt.plot(Lifetime, MSE, 'go--', linewidth=2, markersize=12) "
   ]
  },
  {
   "cell_type": "markdown",
   "metadata": {
    "colab_type": "text",
    "id": "EgAMosK4z1Gv"
   },
   "source": [
    "## For each user’s lifetime point, regress recency, frequency AND her spending behavior profile on Y. Ploting the MSE for each lifetime point like above"
   ]
  },
  {
   "cell_type": "code",
   "execution_count": 53,
   "metadata": {
    "colab": {
     "base_uri": "https://localhost:8080/",
     "height": 498
    },
    "colab_type": "code",
    "id": "Lmf_VRIr86Ki",
    "outputId": "2347b4ed-e826-4bf3-b4b8-54d291e2e3ea"
   },
   "outputs": [
    {
     "name": "stdout",
     "output_type": "stream",
     "text": [
      "+-----+------------------+-------------------+--------------------+-------+------+----+--------+-----+------+----+-------+-------------+---------------+--------+\n",
      "|user1|lifetime_indicator|          frequency|       cum_frequency|recency|people|food|activity|event|travel|cash|utility|trasportation|illegal_sarcasm|no_class|\n",
      "+-----+------------------+-------------------+--------------------+-------+------+----+--------+-----+------+----+-------+-------------+---------------+--------+\n",
      "|    2|                 0|0.03333333333333333|0.001111111111111...|      0|   0.0| 1.0|     0.0|  0.0|   0.0| 0.0|    0.0|          0.0|            0.0|     0.0|\n",
      "|    2|                 1|                0.0|0.001111111111111...|     30|   0.0| 0.0|     0.0|  0.0|   0.0| 0.0|    0.0|          0.0|            0.0|     0.0|\n",
      "|    2|                 2|                0.0|5.555555555555556E-4|     60|   0.0| 0.0|     0.0|  0.0|   0.0| 0.0|    0.0|          0.0|            0.0|     0.0|\n",
      "|    2|                 3|                0.0|3.703703703703703...|     90|   0.0| 0.0|     0.0|  0.0|   0.0| 0.0|    0.0|          0.0|            0.0|     0.0|\n",
      "|    2|                 4|                0.0|2.777777777777778E-4|    120|   0.0| 0.0|     0.0|  0.0|   0.0| 0.0|    0.0|          0.0|            0.0|     0.0|\n",
      "|    2|                 5|                0.0|2.222222222222222E-4|    150|   0.0| 0.0|     0.0|  0.0|   0.0| 0.0|    0.0|          0.0|            0.0|     0.0|\n",
      "|    2|                 6|                0.0|1.851851851851851...|    180|   0.0| 0.0|     0.0|  0.0|   0.0| 0.0|    0.0|          0.0|            0.0|     0.0|\n",
      "|    2|                 7|                0.0|1.587301587301587...|    210|   0.0| 0.0|     0.0|  0.0|   0.0| 0.0|    0.0|          0.0|            0.0|     0.0|\n",
      "|    2|                 8|                0.0|1.388888888888889E-4|    240|   0.0| 0.0|     0.0|  0.0|   0.0| 0.0|    0.0|          0.0|            0.0|     0.0|\n",
      "|    2|                 9|                0.0|1.234567901234568E-4|    270|   0.0| 0.0|     0.0|  0.0|   0.0| 0.0|    0.0|          0.0|            0.0|     0.0|\n",
      "|    2|                10|                0.0|1.111111111111111E-4|    300|   0.0| 0.0|     0.0|  0.0|   0.0| 0.0|    0.0|          0.0|            0.0|     0.0|\n",
      "|    2|                11|                0.0|1.010101010101010...|    330|   0.0| 0.0|     0.0|  0.0|   0.0| 0.0|    0.0|          0.0|            0.0|     0.0|\n",
      "|    2|                12|                0.0|9.259259259259259E-5|    360|   0.0| 0.0|     0.0|  0.0|   0.0| 0.0|    0.0|          0.0|            0.0|     0.0|\n",
      "|    3|                 0|0.06666666666666667|0.002222222222222...|      0|   0.0| 0.5|     0.0|  0.0|   0.0| 0.5|    0.0|          0.0|            0.0|     0.0|\n",
      "|    3|                 1|                0.2|0.008888888888888889|     13|  0.17|0.17|    0.17|  0.0|   0.0|0.33|   0.17|          0.0|            0.0|     0.0|\n",
      "|    3|                 2|                0.0|0.004444444444444...|     43|   0.0| 0.0|     0.0|  0.0|   0.0| 0.0|    0.0|          0.0|            0.0|     0.0|\n",
      "|    3|                 3|                0.0|0.002962962962962963|     73|   0.0| 0.0|     0.0|  0.0|   0.0| 0.0|    0.0|          0.0|            0.0|     0.0|\n",
      "|    3|                 4|                0.0|0.002222222222222...|    103|   0.0| 0.0|     0.0|  0.0|   0.0| 0.0|    0.0|          0.0|            0.0|     0.0|\n",
      "|    3|                 5|                0.0|0.001777777777777...|    133|   0.0| 0.0|     0.0|  0.0|   0.0| 0.0|    0.0|          0.0|            0.0|     0.0|\n",
      "|    3|                 6|                0.0|0.001481481481481...|    163|   0.0| 0.0|     0.0|  0.0|   0.0| 0.0|    0.0|          0.0|            0.0|     0.0|\n",
      "+-----+------------------+-------------------+--------------------+-------+------+----+--------+-----+------+----+-------+-------------+---------------+--------+\n",
      "only showing top 20 rows\n",
      "\n"
     ]
    }
   ],
   "source": [
    "df_dycfull_profile = spark.sql(\"select user1, lifetime_indicator, \\\n",
    "                    max(frequency) as frequency, \\\n",
    "                    sum(max(frequency)) \\\n",
    "                      over (partition by user1 \\\n",
    "                      order by lifetime_indicator asc \\\n",
    "                      range between unbounded preceding and current row) as cum_freq, \\\n",
    "                    max(recency) as recency, max(ifnull(people,0)) as people, \\\n",
    "                    max(ifnull(food,0)) as food, max(ifnull(activity,0)) as activity, \\\n",
    "                    max(ifnull(event,0)) as event, max(ifnull(travel,0)) as travel, \\\n",
    "                    max(ifnull(cash,0)) as cash, max(ifnull(utility,0)) as utility, \\\n",
    "                    max(ifnull(trasportation,0)) as trasportation, \\\n",
    "                    max(ifnull(illegal_sarcasm,0)) as illegal_sarcasm, \\\n",
    "                    max(ifnull(no_class,0)) as no_class \\\n",
    "                  from \\\n",
    "                      (select *, null as frequency, null as recency from dynamic_profile \\\n",
    "                      union  \\\n",
    "                      select user1, lifetime_indicator, \\\n",
    "                          null,null,null,null,null,null,null,null,null,null, \\\n",
    "                          frequency, recency from df_input) T \\\n",
    "                  group by user1, lifetime_indicator \\\n",
    "                  order by user1, lifetime_indicator  \")\n",
    "\n",
    "df_dycfull_profile.createOrReplaceTempView(\"df_dycfull_profile\")\n",
    "\n",
    "# add cumulative frequency\n",
    "df_dycfull_profile = spark.sql(\"select user1, lifetime_indicator, frequency, \\\n",
    "                    cum_freq/(30*if(lifetime_indicator=0, 1, lifetime_indicator)) as cum_frequency,\\\n",
    "                    recency, people, food, activity, event, travel, cash, utility, \\\n",
    "                    trasportation, illegal_sarcasm, no_class \\\n",
    "                  from df_dycfull_profile \\\n",
    "                  order by user1, lifetime_indicator \")\n",
    "\n",
    "df_dycfull_profile.createOrReplaceTempView(\"df_dycfull_profile\")\n",
    "df_dycfull_profile.show()"
   ]
  },
  {
   "cell_type": "code",
   "execution_count": null,
   "metadata": {
    "colab": {},
    "colab_type": "code",
    "id": "p5wqbRWRz1G2"
   },
   "outputs": [],
   "source": [
    "df_dynamic_input = spark.sql(\"select * \\\n",
    "                  from df_dycfull_profile join df_y using (user1) \\\n",
    "                  order by user1, lifetime_indicator\")\n",
    "\n",
    "df_dynamic_input.createOrReplaceTempView(\"df_dynamic_input\")"
   ]
  },
  {
   "cell_type": "code",
   "execution_count": null,
   "metadata": {
    "colab": {},
    "colab_type": "code",
    "id": "GHXVYb37I0K5"
   },
   "outputs": [],
   "source": [
    "df_dynamic_input_time0 = spark.sql(\"select * from df_dynamic_input where lifetime_indicator=0 \")\n",
    "df_dynamic_input_time1 = spark.sql(\"select * from df_dynamic_input where lifetime_indicator=1 \")\n",
    "df_dynamic_input_time2 = spark.sql(\"select * from df_dynamic_input where lifetime_indicator=2 \")\n",
    "df_dynamic_input_time3 = spark.sql(\"select * from df_dynamic_input where lifetime_indicator=3 \")\n",
    "df_dynamic_input_time4 = spark.sql(\"select * from df_dynamic_input where lifetime_indicator=4 \")\n",
    "df_dynamic_input_time5 = spark.sql(\"select * from df_dynamic_input where lifetime_indicator=5 \")\n",
    "df_dynamic_input_time6 = spark.sql(\"select * from df_dynamic_input where lifetime_indicator=6 \")\n",
    "df_dynamic_input_time7 = spark.sql(\"select * from df_dynamic_input where lifetime_indicator=7 \")\n",
    "df_dynamic_input_time8 = spark.sql(\"select * from df_dynamic_input where lifetime_indicator=8 \")\n",
    "df_dynamic_input_time9 = spark.sql(\"select * from df_dynamic_input where lifetime_indicator=9 \")\n",
    "df_dynamic_input_time10 = spark.sql(\"select * from df_dynamic_input where lifetime_indicator=10 \")\n",
    "df_dynamic_input_time11 = spark.sql(\"select * from df_dynamic_input where lifetime_indicator=11 \")\n",
    "df_dynamic_input_time12 = spark.sql(\"select * from df_dynamic_input where lifetime_indicator=12 \")"
   ]
  },
  {
   "cell_type": "code",
   "execution_count": null,
   "metadata": {
    "colab": {},
    "colab_type": "code",
    "id": "rx-NNEbrI0bn"
   },
   "outputs": [],
   "source": [
    "def dynamicMSE(inputdata):\n",
    "    Assembler = VectorAssembler(inputCols = ['lifetime_indicator', 'frequency', \n",
    "                            'cum_frequency','recency', 'people', 'food', \n",
    "                            'activity', 'event', 'travel', 'cash',\n",
    "                            'utility', 'trasportation', 'illegal_sarcasm', 'no_class'], \n",
    "                                outputCol ='features')\n",
    "    output = Assembler.transform(inputdata)\n",
    "    finalData = output.select('features','y')\n",
    "    trainData, testData = finalData.randomSplit([0.7, 0.3], seed=1)\n",
    "    lrModel = LinearRegression(labelCol ='y', featuresCol='features')\n",
    "    lrEstimator = lrModel.fit(trainData)\n",
    "    testResults = lrEstimator.evaluate(testData)\n",
    "    rmse = testResults.rootMeanSquaredError\n",
    "    mse = rmse**2\n",
    "    return mse"
   ]
  },
  {
   "cell_type": "code",
   "execution_count": null,
   "metadata": {
    "colab": {
     "base_uri": "https://localhost:8080/",
     "height": 323
    },
    "colab_type": "code",
    "id": "eriP9VhgI0rK",
    "outputId": "a273a353-59ab-4a20-eaa3-934744f69c0f"
   },
   "outputs": [
    {
     "name": "stdout",
     "output_type": "stream",
     "text": [
      "4.133952392398463\n",
      "3.9143145286213525\n",
      "3.9224805975974513\n",
      "3.9707377366893613\n",
      "3.9371401169889655\n"
     ]
    },
    {
     "data": {
      "text/plain": [
       "[7.77942060977086,\n",
       " 6.811480563454807,\n",
       " 6.419777085708892,\n",
       " 5.822322144035492,\n",
       " 5.196309794718509,\n",
       " 4.881407957874058,\n",
       " 4.443287721307322,\n",
       " 4.318292191885376,\n",
       " 4.133952392398463,\n",
       " 3.9143145286213525,\n",
       " 3.9224805975974513,\n",
       " 3.9707377366893613,\n",
       " 3.9371401169889655]"
      ]
     },
     "execution_count": 29,
     "metadata": {
      "tags": []
     },
     "output_type": "execute_result"
    }
   ],
   "source": [
    "dynamic_MSE_time0 = dynamicMSE(df_dynamic_input_time0)\n",
    "dynamic_MSE_time1 = dynamicMSE(df_dynamic_input_time1)\n",
    "dynamic_MSE_time2 = dynamicMSE(df_dynamic_input_time2)\n",
    "dynamic_MSE_time3 = dynamicMSE(df_dynamic_input_time3)\n",
    "dynamic_MSE_time4 = dynamicMSE(df_dynamic_input_time4)\n",
    "dynamic_MSE_time5 = dynamicMSE(df_dynamic_input_time5)\n",
    "dynamic_MSE_time6 = dynamicMSE(df_dynamic_input_time6)\n",
    "dynamic_MSE_time7 = dynamicMSE(df_dynamic_input_time7)\n",
    "dynamic_MSE_time8 = dynamicMSE(df_dynamic_input_time8)\n",
    "print(dynamic_MSE_time8)\n",
    "dynamic_MSE_time9 = dynamicMSE(df_dynamic_input_time9)\n",
    "print(dynamic_MSE_time9)\n",
    "dynamic_MSE_time10 = dynamicMSE(df_dynamic_input_time10)\n",
    "print(dynamic_MSE_time10)\n",
    "dynamic_MSE_time11 = dynamicMSE(df_dynamic_input_time11)\n",
    "print(dynamic_MSE_time11)\n",
    "dynamic_MSE_time12 = dynamicMSE(df_dynamic_input_time12)\n",
    "print(dynamic_MSE_time12)\n",
    "\n",
    "dynamic_MSE = []\n",
    "dynamic_MSE.extend([dynamic_MSE_time0, dynamic_MSE_time1, dynamic_MSE_time2, \n",
    "                    dynamic_MSE_time3, dynamic_MSE_time4, dynamic_MSE_time5, \n",
    "                    dynamic_MSE_time6, dynamic_MSE_time7, dynamic_MSE_time8, \n",
    "                    dynamic_MSE_time9, dynamic_MSE_time10, dynamic_MSE_time11, \n",
    "                    dynamic_MSE_time12])\n",
    "dynamic_MSE"
   ]
  },
  {
   "cell_type": "code",
   "execution_count": null,
   "metadata": {
    "colab": {
     "base_uri": "https://localhost:8080/",
     "height": 282
    },
    "colab_type": "code",
    "id": "FEIhvHRMM4XV",
    "outputId": "636e85fc-21bd-46b9-8ca9-f411d517b096"
   },
   "outputs": [
    {
     "data": {
      "text/plain": [
       "[<matplotlib.lines.Line2D at 0x7f012ed03cf8>]"
      ]
     },
     "execution_count": 2,
     "metadata": {
      "tags": []
     },
     "output_type": "execute_result"
    },
    {
     "data": {
      "image/png": "[encoded data removed]",
      "text/plain": [
       "<Figure size 432x288 with 1 Axes>"
      ]
     },
     "metadata": {
      "needs_background": "light",
      "tags": []
     },
     "output_type": "display_data"
    }
   ],
   "source": [
    "Lifetime = [0,1,2,3,4,5,6,7,8,9,10,11,12]\n",
    "plt.plot(Lifetime, dynamic_MSE, 'b--o', color='darkred', linewidth=2, markersize=12) "
   ]
  },
  {
   "cell_type": "markdown",
   "metadata": {
    "colab_type": "text",
    "id": "ybhTNdLqz1G9"
   },
   "source": [
    "## For each user’s lifetime point, regress her social network metrics on Y. Plotting the MSE for each lifetime point like above"
   ]
  },
  {
   "cell_type": "code",
   "execution_count": null,
   "metadata": {
    "colab": {
     "base_uri": "https://localhost:8080/",
     "height": 478
    },
    "colab_type": "code",
    "id": "9apU7SP-z1G-",
    "outputId": "f4216f1c-27bc-4d9e-806b-801b01707093"
   },
   "outputs": [
    {
     "name": "stdout",
     "output_type": "stream",
     "text": [
      "+----+------------------+-----------+-------+-------------+\n",
      "|user|lifetime_indicator|friends_cnt|fof_cnt|cluster_coeff|\n",
      "+----+------------------+-----------+-------+-------------+\n",
      "|   2|                 0|          1|      0|          0.0|\n",
      "|   2|                 1|          0|      0|          0.0|\n",
      "|   2|                 2|          0|      0|          0.0|\n",
      "|   2|                 3|          0|      0|          0.0|\n",
      "|   2|                 4|          0|      0|          0.0|\n",
      "|   2|                 5|          0|      0|          0.0|\n",
      "|   2|                 6|          0|      0|          0.0|\n",
      "|   2|                 7|          0|      0|          0.0|\n",
      "|   2|                 8|          0|      0|          0.0|\n",
      "|   2|                 9|          0|      0|          0.0|\n",
      "|   2|                10|          0|      0|          0.0|\n",
      "|   2|                11|          0|      0|          0.0|\n",
      "|   2|                12|          0|      0|          0.0|\n",
      "|   3|                 0|          1|      1|          0.0|\n",
      "|   3|                 1|          4|      1|          0.0|\n",
      "|   3|                 2|          0|      0|          0.0|\n",
      "|   3|                 3|          0|      0|          0.0|\n",
      "|   3|                 4|          0|      0|          0.0|\n",
      "|   3|                 5|          0|      0|          0.0|\n",
      "|   3|                 6|          0|      0|          0.0|\n",
      "+----+------------------+-----------+-------+-------------+\n",
      "only showing top 20 rows\n",
      "\n"
     ]
    }
   ],
   "source": [
    "# combine all social network mertics from Question 6 \n",
    "df_social_network = spark.sql(\"select t1.user, t1.lifetime_indicator, \\\n",
    "                          friends_cnt, fof_cnt, cluster_coeff \\\n",
    "                    from df_lifetime_friends t1 \\\n",
    "                          join df_lifetime_fofcnt t2 on t1.user=t2.user \\\n",
    "                              and t1.lifetime_indicator=t2.lifetime_indicator \\\n",
    "                          join df_cluster t3 on t1.user=t3.user \\\n",
    "                              and t1.lifetime_indicator=t3.lifetime \\\n",
    "                    order by t1.user, t1.lifetime_indicator\")\n",
    "\n",
    "df_social_network.createOrReplaceTempView(\"df_social_network\")\n",
    "df_social_network.show()"
   ]
  },
  {
   "cell_type": "code",
   "execution_count": null,
   "metadata": {
    "colab": {
     "base_uri": "https://localhost:8080/",
     "height": 478
    },
    "colab_type": "code",
    "id": "z_M7hRslz1HC",
    "outputId": "8a156b08-d308-4463-cd39-032d99567afd"
   },
   "outputs": [
    {
     "name": "stdout",
     "output_type": "stream",
     "text": [
      "+----+------------------+-----------+-------+-------------+--------------------+---+\n",
      "|user|lifetime_indicator|friends_cnt|fof_cnt|cluster_coeff|            pagerank|  y|\n",
      "+----+------------------+-----------+-------+-------------+--------------------+---+\n",
      "|   2|                 0|          1|      0|          0.0|4.157477977789461E-7|  1|\n",
      "|   2|                 1|          0|      0|          0.0|4.157477977789461E-7|  1|\n",
      "|   2|                 2|          0|      0|          0.0|4.157477977789461E-7|  1|\n",
      "|   2|                 3|          0|      0|          0.0|4.157477977789461E-7|  1|\n",
      "|   2|                 4|          0|      0|          0.0|4.157477977789461E-7|  1|\n",
      "|   2|                 5|          0|      0|          0.0|4.157477977789461E-7|  1|\n",
      "|   2|                 6|          0|      0|          0.0|4.157477977789461E-7|  1|\n",
      "|   2|                 7|          0|      0|          0.0|4.157477977789461E-7|  1|\n",
      "|   2|                 8|          0|      0|          0.0|4.157477977789461E-7|  1|\n",
      "|   2|                 9|          0|      0|          0.0|4.157477977789461E-7|  1|\n",
      "|   2|                10|          0|      0|          0.0|4.157477977789461E-7|  1|\n",
      "|   2|                11|          0|      0|          0.0|4.157477977789461E-7|  1|\n",
      "|   2|                12|          0|      0|          0.0|4.157477977789461E-7|  1|\n",
      "|   3|                 0|          1|      1|          0.0|8.653820777473779E-7|  8|\n",
      "|   3|                 1|          4|      1|          0.0|8.653820777473779E-7|  8|\n",
      "|   3|                 2|          0|      0|          0.0|8.653820777473779E-7|  8|\n",
      "|   3|                 3|          0|      0|          0.0|8.653820777473779E-7|  8|\n",
      "|   3|                 4|          0|      0|          0.0|8.653820777473779E-7|  8|\n",
      "|   3|                 5|          0|      0|          0.0|8.653820777473779E-7|  8|\n",
      "|   3|                 6|          0|      0|          0.0|8.653820777473779E-7|  8|\n",
      "+----+------------------+-----------+-------+-------------+--------------------+---+\n",
      "only showing top 20 rows\n",
      "\n"
     ]
    }
   ],
   "source": [
    "# create input metric by combining social network metric and dependent variable y \n",
    "df_sn_input = spark.sql(\"select t1.user, t1.lifetime_indicator, friends_cnt, \\\n",
    "                                fof_cnt, cluster_coeff, pagerank, y \\\n",
    "                         from df_social_network t1 join df_y t2 \\\n",
    "                                on t1.user=t2.user1\\\n",
    "                              join df_pagerank t3 on t1.user=t3.user \\\n",
    "                         order by t1.user, t1.lifetime_indicator\")\n",
    "\n",
    "df_sn_input.createOrReplaceTempView(\"df_sn_input\")\n",
    "df_sn_input.show()"
   ]
  },
  {
   "cell_type": "code",
   "execution_count": null,
   "metadata": {
    "colab": {},
    "colab_type": "code",
    "id": "E10WmRlRZ5CO"
   },
   "outputs": [],
   "source": [
    "df_sn_input_time0 = spark.sql(\"select * from df_sn_input where lifetime_indicator=0 \")\n",
    "df_sn_input_time1 = spark.sql(\"select * from df_sn_input where lifetime_indicator=1 \")\n",
    "df_sn_input_time2 = spark.sql(\"select * from df_sn_input where lifetime_indicator=2 \")\n",
    "df_sn_input_time3 = spark.sql(\"select * from df_sn_input where lifetime_indicator=3 \")\n",
    "df_sn_input_time4 = spark.sql(\"select * from df_sn_input where lifetime_indicator=4 \")\n",
    "df_sn_input_time5 = spark.sql(\"select * from df_sn_input where lifetime_indicator=5 \")\n",
    "df_sn_input_time6 = spark.sql(\"select * from df_sn_input where lifetime_indicator=6 \")\n",
    "df_sn_input_time7 = spark.sql(\"select * from df_sn_input where lifetime_indicator=7 \")\n",
    "df_sn_input_time8 = spark.sql(\"select * from df_sn_input where lifetime_indicator=8 \")\n",
    "df_sn_input_time9 = spark.sql(\"select * from df_sn_input where lifetime_indicator=9 \")\n",
    "df_sn_input_time10 = spark.sql(\"select * from df_sn_input where lifetime_indicator=10 \")\n",
    "df_sn_input_time11 = spark.sql(\"select * from df_sn_input where lifetime_indicator=11 \")\n",
    "df_sn_input_time12 = spark.sql(\"select * from df_sn_input where lifetime_indicator=12 \")"
   ]
  },
  {
   "cell_type": "code",
   "execution_count": null,
   "metadata": {
    "colab": {},
    "colab_type": "code",
    "id": "wRUUsvulbIHS"
   },
   "outputs": [],
   "source": [
    "def socialnetworkMSE(inputdata):\n",
    "    Assembler = VectorAssembler(inputCols = ['lifetime_indicator', 'friends_cnt', \n",
    "                                'fof_cnt', 'cluster_coeff', \"pagerank\"], \n",
    "                                outputCol ='features')\n",
    "    output = Assembler.transform(inputdata)\n",
    "    finalData = output.select('features','y')\n",
    "    trainData, testData = finalData.randomSplit([0.7, 0.3], seed=1)\n",
    "    lrModel = LinearRegression(labelCol ='y', featuresCol='features')\n",
    "    lrEstimator = lrModel.fit(trainData)\n",
    "    testResults = lrEstimator.evaluate(testData)\n",
    "    rmse = testResults.rootMeanSquaredError\n",
    "    mse = rmse**2\n",
    "    return mse"
   ]
  },
  {
   "cell_type": "code",
   "execution_count": 14,
   "metadata": {
    "ExecuteTime": {
     "end_time": "2020-05-23T00:24:45.135568Z",
     "start_time": "2020-05-23T00:24:45.125233Z"
    },
    "colab": {},
    "colab_type": "code",
    "id": "1U9SHHaIWMWC"
   },
   "outputs": [
    {
     "data": {
      "text/plain": [
       "[5.058206013156707,\n",
       " 4.5115567708412305,\n",
       " 4.478435839654069,\n",
       " 4.439878563238474,\n",
       " 4.407938820938293,\n",
       " 4.392948761244053,\n",
       " 4.359237082904239,\n",
       " 4.327843742390367,\n",
       " 4.297708238784547,\n",
       " 4.384058952467369,\n",
       " 4.45389434298306,\n",
       " 4.549372963298042,\n",
       " 4.589418594272139]"
      ]
     },
     "execution_count": 14,
     "metadata": {},
     "output_type": "execute_result"
    }
   ],
   "source": [
    "sn_MSE_time0 = socialnetworkMSE(df_sn_input_time0)\n",
    "#print(sn_MSE_time0)\n",
    "sn_MSE_time1 = socialnetworkMSE(df_sn_input_time1)\n",
    "#print(sn_MSE_time1)\n",
    "sn_MSE_time2 = socialnetworkMSE(df_sn_input_time2)\n",
    "#print(sn_MSE_time2)\n",
    "sn_MSE_time3 = socialnetworkMSE(df_sn_input_time3)\n",
    "#print(sn_MSE_time3)\n",
    "sn_MSE_time4 = socialnetworkMSE(df_sn_input_time4)\n",
    "#print(sn_MSE_time4)\n",
    "sn_MSE_time5 = socialnetworkMSE(df_sn_input_time5)\n",
    "#print(sn_MSE_time5)\n",
    "sn_MSE_time6 = socialnetworkMSE(df_sn_input_time6)\n",
    "#print(sn_MSE_time6)\n",
    "sn_MSE_time7 = socialnetworkMSE(df_sn_input_time7)\n",
    "#print(sn_MSE_time7)\n",
    "sn_MSE_time8 = socialnetworkMSE(df_sn_input_time8)\n",
    "#print(sn_MSE_time8)\n",
    "sn_MSE_time9 = socialnetworkMSE(df_sn_input_time9)\n",
    "#print(sn_MSE_time9)\n",
    "sn_MSE_time10 = socialnetworkMSE(df_sn_input_time10)\n",
    "#print(sn_MSE_time10)\n",
    "sn_MSE_time11 = socialnetworkMSE(df_sn_input_time11)\n",
    "#print(sn_MSE_time11)\n",
    "sn_MSE_time12 = socialnetworkMSE(df_sn_input_time12)\n",
    "#print(sn_MSE_time12)\n",
    "\n",
    "sn_MSE = []\n",
    "sn_MSE.extend([sn_MSE_time0, sn_MSE_time1, sn_MSE_time2, sn_MSE_time3, \n",
    "            sn_MSE_time4, sn_MSE_time5, sn_MSE_time6, sn_MSE_time7, \n",
    "            sn_MSE_time8, sn_MSE_time9, sn_MSE_time10, sn_MSE_time11, sn_MSE_time12])\n",
    "sn_MSE"
   ]
  },
  {
   "attachments": {
    "WechatIMG252.png": {
     "image/png": "[encoded data removed]"
    }
   },
   "cell_type": "markdown",
   "metadata": {},
   "source": [
    "![WechatIMG252.png](attachment:WechatIMG252.png)"
   ]
  },
  {
   "cell_type": "code",
   "execution_count": 15,
   "metadata": {
    "ExecuteTime": {
     "end_time": "2020-05-23T00:24:48.782531Z",
     "start_time": "2020-05-23T00:24:48.383326Z"
    },
    "colab": {},
    "colab_type": "code",
    "id": "KQHIcdO1cZks"
   },
   "outputs": [
    {
     "data": {
      "text/plain": [
       "[<matplotlib.lines.Line2D at 0x12b56e250>]"
      ]
     },
     "execution_count": 15,
     "metadata": {},
     "output_type": "execute_result"
    },
    {
     "data": {
      "image/png": "[encoded data removed]",
      "text/plain": [
       "<Figure size 432x288 with 1 Axes>"
      ]
     },
     "metadata": {
      "needs_background": "light"
     },
     "output_type": "display_data"
    }
   ],
   "source": [
    "Lifetime = [0,1,2,3,4,5,6,7,8,9,10,11,12]\n",
    "plt.plot(Lifetime, sn_MSE, 'go--', color='blue', linewidth=2, markersize=12) "
   ]
  },
  {
   "cell_type": "markdown",
   "metadata": {
    "colab_type": "text",
    "id": "Gz8P9Ri3xlEh"
   },
   "source": [
    "\n",
    "\n",
    "\n"
   ]
  },
  {
   "cell_type": "markdown",
   "metadata": {
    "colab_type": "text",
    "id": "lpumitI0z1HG"
   },
   "source": [
    "## For each user’s lifetime point, regress her social network metrics and the spending behavior of her social network on Y. Plotting the MSE for each lifetime point like above"
   ]
  },
  {
   "cell_type": "markdown",
   "metadata": {
    "colab_type": "text",
    "id": "1p9zoIvGR5TV"
   },
   "source": [
    "### Step 1: Create spending profile of user's social network"
   ]
  },
  {
   "cell_type": "code",
   "execution_count": 103,
   "metadata": {
    "colab": {
     "base_uri": "https://localhost:8080/",
     "height": 478
    },
    "colab_type": "code",
    "id": "dKwQponemHlB",
    "outputId": "1ef3addd-0dd6-4d7d-ad79-1d6c9c9b8d24"
   },
   "outputs": [
    {
     "name": "stdout",
     "output_type": "stream",
     "text": [
      "+----+------------------+-------------------+-------------------+\n",
      "|user|lifetime_indicator|user_first_datetime|         first_date|\n",
      "+----+------------------+-------------------+-------------------+\n",
      "|   2|                 0|2012-11-23 06:03:42|2012-11-23 06:03:42|\n",
      "|   2|                 1|               null|2012-11-23 06:03:42|\n",
      "|   2|                 2|               null|2012-11-23 06:03:42|\n",
      "|   2|                 3|               null|2012-11-23 06:03:42|\n",
      "|   2|                 4|               null|2012-11-23 06:03:42|\n",
      "|   2|                 5|               null|2012-11-23 06:03:42|\n",
      "|   2|                 6|               null|2012-11-23 06:03:42|\n",
      "|   2|                 7|               null|2012-11-23 06:03:42|\n",
      "|   2|                 8|               null|2012-11-23 06:03:42|\n",
      "|   2|                 9|               null|2012-11-23 06:03:42|\n",
      "|   2|                10|               null|2012-11-23 06:03:42|\n",
      "|   2|                11|               null|2012-11-23 06:03:42|\n",
      "|   2|                12|               null|2012-11-23 06:03:42|\n",
      "|   3|                 0|2016-09-22 15:30:09|2016-09-22 15:30:09|\n",
      "|   3|                 1|               null|2016-09-22 15:30:09|\n",
      "|   3|                 2|               null|2016-09-22 15:30:09|\n",
      "|   3|                 3|               null|2016-09-22 15:30:09|\n",
      "|   3|                 4|               null|2016-09-22 15:30:09|\n",
      "|   3|                 5|               null|2016-09-22 15:30:09|\n",
      "|   3|                 6|               null|2016-09-22 15:30:09|\n",
      "+----+------------------+-------------------+-------------------+\n",
      "only showing top 20 rows\n",
      "\n"
     ]
    }
   ],
   "source": [
    "# fill in user lifetime as continuous intervals\n",
    "# first date: the user's first transaction on Venmo\n",
    "df_user_fulllife = spark.sql(\"select user1 as user, lifetime_indicator, \\\n",
    "                                     max(first_datetime) as user_first_datetime\\\n",
    "                              from (select user1, lifetime_indicator, \\\n",
    "                                            datetime as first_datetime\\\n",
    "                                    from days_lifeindicator_tbl \\\n",
    "                                    where lifetime_indicator = 0 \\\n",
    "                                    union \\\n",
    "                                    select user1, time_lst, null as datetime \\\n",
    "                                    from df_timelst) \\\n",
    "                              group by user1, lifetime_indicator \\\n",
    "                              order by user1, lifetime_indicator \")\n",
    "\n",
    "w = Window.partitionBy(\"user\").orderBy(\"lifetime_indicator\")\n",
    "df_user_fulllife = df_user_fulllife.withColumn(\"first_date\", \n",
    "              F.min(\"user_first_datetime\").over(w)).sort(F.col(\"user\"), F.col(\"lifetime_indicator\"))\n",
    "\n",
    "df_user_fulllife.createOrReplaceTempView(\"df_user_fulllife\")\n",
    "df_user_fulllife.show()"
   ]
  },
  {
   "cell_type": "code",
   "execution_count": 106,
   "metadata": {
    "colab": {
     "base_uri": "https://localhost:8080/",
     "height": 478
    },
    "colab_type": "code",
    "id": "U3UVsKFur1Op",
    "outputId": "d09761ef-79df-482f-bfae-0e5f0e43860e"
   },
   "outputs": [
    {
     "name": "stdout",
     "output_type": "stream",
     "text": [
      "+----+------------------+-------------------+\n",
      "|user|lifetime_indicator| user_last_datetime|\n",
      "+----+------------------+-------------------+\n",
      "|   2|                 0|2012-11-23 06:03:42|\n",
      "|   2|                 1|2012-12-23 06:03:42|\n",
      "|   2|                 2|2013-01-23 06:03:42|\n",
      "|   2|                 3|2013-02-23 06:03:42|\n",
      "|   2|                 4|2013-03-23 06:03:42|\n",
      "|   2|                 5|2013-04-23 06:03:42|\n",
      "|   2|                 6|2013-05-23 06:03:42|\n",
      "|   2|                 7|2013-06-23 06:03:42|\n",
      "|   2|                 8|2013-07-23 06:03:42|\n",
      "|   2|                 9|2013-08-23 06:03:42|\n",
      "|   2|                10|2013-09-23 06:03:42|\n",
      "|   2|                11|2013-10-23 06:03:42|\n",
      "|   2|                12|2013-11-23 06:03:42|\n",
      "|   3|                 0|2016-09-22 15:30:09|\n",
      "|   3|                 1|2016-10-22 15:30:09|\n",
      "|   3|                 2|2016-11-22 15:30:09|\n",
      "|   3|                 3|2016-12-22 15:30:09|\n",
      "|   3|                 4|2017-01-22 15:30:09|\n",
      "|   3|                 5|2017-02-22 15:30:09|\n",
      "|   3|                 6|2017-03-22 15:30:09|\n",
      "+----+------------------+-------------------+\n",
      "only showing top 20 rows\n",
      "\n"
     ]
    }
   ],
   "source": [
    "# fill in null datetime in continuous lifetime intervals with aggregated months since the first transaction\n",
    "\n",
    "df_user_continuous_lastdate = spark.sql(\"select user, lifetime_indicator, \\\n",
    "          case when lifetime_indicator=1 then (first_date + interval 1 month) \\\n",
    "               when lifetime_indicator=2 then (first_date + interval 2 month) \\\n",
    "               when lifetime_indicator=3 then (first_date + interval 3 month) \\\n",
    "               when lifetime_indicator=4 then (first_date + interval 4 month) \\\n",
    "               when lifetime_indicator=5 then (first_date + interval 5 month) \\\n",
    "               when lifetime_indicator=6 then (first_date + interval 6 month) \\\n",
    "               when lifetime_indicator=7 then (first_date + interval 7 month) \\\n",
    "               when lifetime_indicator=8 then (first_date + interval 8 month) \\\n",
    "               when lifetime_indicator=9 then (first_date + interval 9 month) \\\n",
    "               when lifetime_indicator=10 then (first_date + interval 10 month) \\\n",
    "               when lifetime_indicator=11 then (first_date + interval 11 month) \\\n",
    "               when lifetime_indicator=12 then (first_date + interval 12 month) \\\n",
    "                else first_date \\\n",
    "                end as user_last_datetime \\\n",
    "          from df_user_fulllife \\\n",
    "          group by user, lifetime_indicator, first_date \\\n",
    "          order by user, lifetime_indicator \")\n",
    "\n",
    "df_user_continuous_lastdate.createOrReplaceTempView(\"df_user_continuous_lastdate\")\n",
    "df_user_continuous_lastdate.show()"
   ]
  },
  {
   "cell_type": "code",
   "execution_count": 117,
   "metadata": {
    "colab": {
     "base_uri": "https://localhost:8080/",
     "height": 478
    },
    "colab_type": "code",
    "id": "RJPxd8QzJX3u",
    "outputId": "baeed1b5-0df8-431b-fc3c-0ea75a27b9cc"
   },
   "outputs": [
    {
     "name": "stdout",
     "output_type": "stream",
     "text": [
      "+----+-------+------------------+\n",
      "|user|friends|lifetime_indicator|\n",
      "+----+-------+------------------+\n",
      "|   2|    220|                 0|\n",
      "|   2|   null|                 1|\n",
      "|   2|   null|                 2|\n",
      "|   2|   null|                 3|\n",
      "|   2|   null|                 4|\n",
      "|   2|   null|                 5|\n",
      "|   2|   null|                 6|\n",
      "|   2|   null|                 7|\n",
      "|   2|   null|                 8|\n",
      "|   2|   null|                 9|\n",
      "|   2|   null|                10|\n",
      "|   2|   null|                11|\n",
      "|   2|   null|                12|\n",
      "|   3|     52|                 0|\n",
      "|   3|7854140|                 1|\n",
      "|   3|   null|                 2|\n",
      "|   3|   null|                 3|\n",
      "|   3|   null|                 4|\n",
      "|   3|   null|                 5|\n",
      "|   3|   null|                 6|\n",
      "+----+-------+------------------+\n",
      "only showing top 20 rows\n",
      "\n"
     ]
    }
   ],
   "source": [
    "# pair user and their friends in each continuous lifetime\n",
    "df_user_friends_fulllife = spark.sql(\"select user1 as user, max(user2) as friends, \\\n",
    "                                            lifetime_indicator\\\n",
    "                                      from (select distinct user1, user2, lifetime_indicator \\\n",
    "                                            from lifetime_tbl \\\n",
    "                                            union \\\n",
    "                                            select distinct user2, user1, lifetime_indicator \\\n",
    "                                            from lifetime_tbl \\\n",
    "                                            union \\\n",
    "                                            select user, null as user2, time_lst \\\n",
    "                                            from df_usertime) T \\\n",
    "                                      group by user1, lifetime_indicator \\\n",
    "                                      order by user1, lifetime_indicator\")\n",
    "\n",
    "df_user_friends_fulllife.createOrReplaceTempView(\"df_user_friends_fulllife\")\n",
    "df_user_friends_fulllife.show()"
   ]
  },
  {
   "cell_type": "code",
   "execution_count": 119,
   "metadata": {
    "colab": {
     "base_uri": "https://localhost:8080/",
     "height": 478
    },
    "colab_type": "code",
    "id": "Vp5luq-mz1HH",
    "outputId": "5b8b9534-f5b1-4a81-a340-e2003f446690"
   },
   "outputs": [
    {
     "name": "stdout",
     "output_type": "stream",
     "text": [
      "+----+------------------+-------+-------------------+\n",
      "|user|lifetime_indicator|friends| user_last_datetime|\n",
      "+----+------------------+-------+-------------------+\n",
      "|   2|                 0|    220|2012-11-23 06:03:42|\n",
      "|   2|                 1|   null|2012-12-23 06:03:42|\n",
      "|   2|                 2|   null|2013-01-23 06:03:42|\n",
      "|   2|                 3|   null|2013-02-23 06:03:42|\n",
      "|   2|                 4|   null|2013-03-23 06:03:42|\n",
      "|   2|                 5|   null|2013-04-23 06:03:42|\n",
      "|   2|                 6|   null|2013-05-23 06:03:42|\n",
      "|   2|                 7|   null|2013-06-23 06:03:42|\n",
      "|   2|                 8|   null|2013-07-23 06:03:42|\n",
      "|   2|                 9|   null|2013-08-23 06:03:42|\n",
      "|   2|                10|   null|2013-09-23 06:03:42|\n",
      "|   2|                11|   null|2013-10-23 06:03:42|\n",
      "|   2|                12|   null|2013-11-23 06:03:42|\n",
      "|   3|                 0|     52|2016-09-22 15:30:09|\n",
      "|   3|                 1|7854140|2016-10-22 15:30:09|\n",
      "|   3|                 2|   null|2016-11-22 15:30:09|\n",
      "|   3|                 3|   null|2016-12-22 15:30:09|\n",
      "|   3|                 4|   null|2017-01-22 15:30:09|\n",
      "|   3|                 5|   null|2017-02-22 15:30:09|\n",
      "|   3|                 6|   null|2017-03-22 15:30:09|\n",
      "+----+------------------+-------+-------------------+\n",
      "only showing top 20 rows\n",
      "\n"
     ]
    }
   ],
   "source": [
    "# create user profile：map user, user's continuous lifetime, their friends \n",
    "#and user's last possible transaction datetime per lifetime period\n",
    "df_user = spark.sql(\"select t1.user, t1.lifetime_indicator, friends, user_last_datetime\\\n",
    "                      from df_user_continuous_lastdate t1 join df_user_friends_fulllife t2 \\\n",
    "                          on t1.user=t2.user \\\n",
    "                          and t1.lifetime_indicator=t2.lifetime_indicator \\\n",
    "                      order by t1.user, t1.lifetime_indicator\")\n",
    "\n",
    "df_user = df_user.distinct().sort(col(\"user\"), col(\"lifetime_indicator\"))\n",
    "df_user.createOrReplaceTempView(\"df_user\")\n",
    "df_user.show()"
   ]
  },
  {
   "cell_type": "code",
   "execution_count": null,
   "metadata": {
    "colab": {},
    "colab_type": "code",
    "id": "RE61wx8Sz1HO"
   },
   "outputs": [],
   "source": [
    "# create friends profile: map friends' ids, friends_datetime, \n",
    "#friends spending class and link to user lifetime\n",
    "df_friends_profile = spark.sql(\"select t1.user1 as friends, datetime as friends_datetime, \\\n",
    "                                       class as friends_class, \\\n",
    "                                       t2.lifetime_indicator as user_lifetime \\\n",
    "                                from (select user1, lifetime_indicator, datetime, class\\\n",
    "                                    from days_lifeindicator_tbl \\\n",
    "                                    union \\\n",
    "                                    select user1, time_lst, null as datetime, null as class \\\n",
    "                                    from df_timelst) t1 join df_user_friends_fulllife t2 \\\n",
    "                                    on t1.user1=t2.friends \\\n",
    "                                    and t1.lifetime_indicator = t2.lifetime_indicator \")\n",
    "\n",
    "df_friends_profile.distinct().sort(col(\"friends\"), col(\"user_lifetime\"))\n",
    "df_friends_profile.createOrReplaceTempView(\"df_friends_profile\")"
   ]
  },
  {
   "cell_type": "code",
   "execution_count": 126,
   "metadata": {
    "colab": {
     "base_uri": "https://localhost:8080/",
     "height": 478
    },
    "colab_type": "code",
    "id": "kzqan2gfG9mQ",
    "outputId": "a92c9d37-e329-408f-c794-6dbac021a86a"
   },
   "outputs": [
    {
     "name": "stdout",
     "output_type": "stream",
     "text": [
      "+----+------------------+-------+-------------------+-------------------+-------------+\n",
      "|user|lifetime_indicator|friends| user_last_datetime|   friends_datetime|friends_class|\n",
      "+----+------------------+-------+-------------------+-------------------+-------------+\n",
      "|   3|                 0|     52|2016-09-22 15:30:09|               null|         null|\n",
      "|   3|                 0|     52|2016-09-22 15:30:09|2012-08-06 20:48:32|     activity|\n",
      "|   3|                 0|     52|2016-09-22 15:30:09|2012-08-06 20:48:32|         cash|\n",
      "|   4|                 0| 125755|2012-12-03 03:35:53|               null|         null|\n",
      "|   4|                 0| 125755|2012-12-03 03:35:53|2013-01-04 10:20:36|       people|\n",
      "|   4|                 1| 125527|2013-01-03 03:35:53|               null|         null|\n",
      "|  10|                 0|3844713|2012-11-25 09:20:39|               null|         null|\n",
      "|  10|                 0|3844713|2012-11-25 09:20:39|2015-11-23 12:03:59|         food|\n",
      "|  10|                 1|     43|2012-12-25 09:20:39|               null|         null|\n",
      "|  10|                 6|     13|2013-05-25 09:20:39|2013-04-13 00:19:10|         cash|\n",
      "|  10|                 6|     13|2013-05-25 09:20:39|               null|         null|\n",
      "|  10|                 9|     43|2013-08-25 09:20:39|               null|         null|\n",
      "|  10|                 9|     43|2013-08-25 09:20:39|2013-01-08 09:39:09|         cash|\n",
      "|  10|                 9|     43|2013-08-25 09:20:39|2013-01-03 01:05:06|      utility|\n",
      "|  10|                 9|     43|2013-08-25 09:20:39|2013-01-08 09:39:09|         food|\n",
      "|  10|                 9|     43|2013-08-25 09:20:39|2013-01-01 02:26:16|     activity|\n",
      "|  10|                 9|     43|2013-08-25 09:20:39|2013-01-08 09:39:09|         food|\n",
      "|  10|                 9|     43|2013-08-25 09:20:39|2013-01-08 09:39:09|         cash|\n",
      "|  10|                 9|     43|2013-08-25 09:20:39|2013-01-03 01:05:06|      utility|\n",
      "|  10|                 9|     43|2013-08-25 09:20:39|2013-01-01 02:26:16|     activity|\n",
      "+----+------------------+-------+-------------------+-------------------+-------------+\n",
      "only showing top 20 rows\n",
      "\n"
     ]
    }
   ],
   "source": [
    "df_user_friends_datetime_compare = spark.sql(\"select user, lifetime_indicator, t1.friends, \\\n",
    "                                          user_last_datetime, friends_datetime, friends_class\\\n",
    "                                      from df_user t1 join df_friends_profile t2 \\\n",
    "                                          on t1.friends=t2.friends \\\n",
    "                                          and t1.lifetime_indicator=t2.user_lifetime \\\n",
    "                                      order by user, lifetime_indicator, t1.friends\")\n",
    "\n",
    "df_user_friends_datetime_compare.select(\"*\").distinct().sort(col(\"user\"), col(\"user_lifetime\"))\n",
    "df_user_friends_datetime_compare.createOrReplaceTempView(\"df_user_friends_datetime_compare\")\n",
    "df_user_friends_datetime_compare.show()"
   ]
  },
  {
   "cell_type": "code",
   "execution_count": null,
   "metadata": {
    "colab": {},
    "colab_type": "code",
    "id": "z_kOT69IJfhU"
   },
   "outputs": [],
   "source": [
    "# use user lifetime to define their social network lifetime \n",
    "df_user_friends_life = spark.sql(\"select *, \\\n",
    "              if(user_last_datetime>friends_datetime or friends_datetime is not null, \\\n",
    "                   lifetime_indicator, -1) as friends_lifetime\\\n",
    "           from df_user_friends_datetime_compare \\\n",
    "           order by user, lifetime_indicator \")\n",
    "\n",
    "user_friends_spending_tbl = df_user_friends_life.filter(\"friends_lifetime != -1 \").distinct().sort(\"user\")\n",
    "user_friends_spending_tbl.createOrReplaceTempView(\"user_friends_spending_tbl\")"
   ]
  },
  {
   "cell_type": "code",
   "execution_count": 136,
   "metadata": {
    "colab": {
     "base_uri": "https://localhost:8080/",
     "height": 478
    },
    "colab_type": "code",
    "id": "set8-l5KaZs0",
    "outputId": "f3003205-c7b7-448d-d393-ba9eaed659e7"
   },
   "outputs": [
    {
     "name": "stdout",
     "output_type": "stream",
     "text": [
      "+----+------------------+-------------+---------+\n",
      "|user|lifetime_indicator|friends_class|sns_ratio|\n",
      "+----+------------------+-------------+---------+\n",
      "|   3|                 0|         cash|      0.5|\n",
      "|   3|                 0|     activity|      0.5|\n",
      "|   4|                 0|       people|      1.0|\n",
      "|  10|                 0|         food|      1.0|\n",
      "|  10|                12|         cash|      1.0|\n",
      "|  10|                 6|         cash|      1.0|\n",
      "|  10|                 9|      utility|     0.25|\n",
      "|  10|                 9|         food|     0.25|\n",
      "|  10|                 9|         cash|     0.25|\n",
      "|  10|                 9|     activity|     0.25|\n",
      "|  11|                10|     no_class|     0.25|\n",
      "|  11|                 0|         cash|      1.0|\n",
      "|  11|                10|         cash|     0.25|\n",
      "|  11|                10|         food|     0.25|\n",
      "|  11|                 2|       people|     0.67|\n",
      "|  11|                 2|     activity|     0.33|\n",
      "|  11|                10|      utility|     0.25|\n",
      "|  12|                 4|       people|      1.0|\n",
      "|  12|                 0|         food|      1.0|\n",
      "|  13|                 5|     activity|     0.33|\n",
      "+----+------------------+-------------+---------+\n",
      "only showing top 20 rows\n",
      "\n"
     ]
    }
   ],
   "source": [
    "# create users' spending profiles of social network\n",
    "social_network_spendings_tbl = spark.sql(\"select user, lifetime_indicator, friends_class, \\\n",
    "                              round(count(*)/sum(count(*)) \\\n",
    "                                over (partition by user, lifetime_indicator), 2) as sns_ratio \\\n",
    "                            from user_friends_spending_tbl \\\n",
    "                            group by user, lifetime_indicator, friends_class \\\n",
    "                            order by user\")\n",
    "\n",
    "social_network_spendings_tbl.createOrReplaceTempView(\"social_network_spendings_tbl\")\n",
    "social_network_spendings_tbl.show()"
   ]
  },
  {
   "cell_type": "markdown",
   "metadata": {
    "colab_type": "text",
    "id": "EcFViq5dUwTy"
   },
   "source": [
    "### Step 2 Prepare input for regression"
   ]
  },
  {
   "cell_type": "code",
   "execution_count": null,
   "metadata": {
    "colab": {},
    "colab_type": "code",
    "id": "O6ofoApfUpb5"
   },
   "outputs": [],
   "source": [
    "df_sns_input = spark.sql(\"select t1.user, t1.lifetime_indicator, friends_cnt, \\\n",
    "                                fof_cnt, cluster_coeff, pagerank, \\\n",
    "                                friends_class, sns_ratio, y \\\n",
    "                         from df_sn_input t1 join social_network_spendings_tbl t2 \\\n",
    "                                on t1.user=t2.user \\\n",
    "                         order by t1.user, t1.lifetime_indicator\")\n",
    "\n",
    "df_sns_input.createOrReplaceTempView(\"df_sns_input\")"
   ]
  },
  {
   "cell_type": "markdown",
   "metadata": {
    "colab_type": "text",
    "id": "bwUxM-RqU1l1"
   },
   "source": [
    "### Step 3 Regression"
   ]
  },
  {
   "cell_type": "code",
   "execution_count": null,
   "metadata": {
    "colab": {},
    "colab_type": "code",
    "id": "Sl5ek3j4U59m"
   },
   "outputs": [],
   "source": [
    "df_sn_spendings_input_time0 = spark.sql(\"select * from df_sns_input where lifetime_indicator=0 \")\n",
    "df_sn_spendings_input_time1 = spark.sql(\"select * from df_sns_input where lifetime_indicator=1 \")\n",
    "df_sn_spendings_input_time2 = spark.sql(\"select * from df_sns_input where lifetime_indicator=2 \")\n",
    "df_sn_spendings_input_time3 = spark.sql(\"select * from df_sns_input where lifetime_indicator=3 \")\n",
    "df_sn_spendings_input_time4 = spark.sql(\"select * from df_sns_input where lifetime_indicator=4 \")\n",
    "df_sn_spendings_input_time5 = spark.sql(\"select * from df_sns_input where lifetime_indicator=5 \")\n",
    "df_sn_spendings_input_time6 = spark.sql(\"select * from df_sns_input where lifetime_indicator=6 \")\n",
    "df_sn_spendings_input_time7 = spark.sql(\"select * from df_sns_input where lifetime_indicator=7 \")\n",
    "df_sn_spendings_input_time8 = spark.sql(\"select * from df_sns_input where lifetime_indicator=8 \")\n",
    "df_sn_spendings_input_time9 = spark.sql(\"select * from df_sns_input where lifetime_indicator=9 \")\n",
    "df_sn_spendings_input_time10 = spark.sql(\"select * from df_sns_input where lifetime_indicator=10 \")\n",
    "df_sn_spendings_input_time11 = spark.sql(\"select * from df_sns_input where lifetime_indicator=11 \")\n",
    "df_sn_spendings_input_time12 = spark.sql(\"select * from df_sns_input where lifetime_indicator=12 \")"
   ]
  },
  {
   "cell_type": "code",
   "execution_count": null,
   "metadata": {
    "colab": {},
    "colab_type": "code",
    "id": "KgyqSJnDYkdM"
   },
   "outputs": [],
   "source": [
    "def snSpendingsMSE(inputdata):\n",
    "    ClassIndexer = StringIndexer(inputCol='friends_class', outputCol =\"FridensClassIndexer\")\n",
    "    ClassEncoder = OneHotEncoder(inputCol='FridensClassIndexer', outputCol=\"ClassDummies\")\n",
    "    pipeline = Pipeline(stages=[ClassIndexer, ClassEncoder])\n",
    "    NewOutput = pipeline.fit(inputdata).transform(inputdata)\n",
    "    Assembler = VectorAssembler(inputCols = ['lifetime_indicator', 'friends_cnt', \n",
    "                                'fof_cnt', 'cluster_coeff', \"pagerank\", \n",
    "                                \"ClassDummies\", \"sns_ratio\"], \n",
    "                                outputCol ='features')\n",
    "    output = Assembler.transform(NewOutput)\n",
    "    finalData = output.select('features','y')\n",
    "    trainData, testData = finalData.randomSplit([0.7, 0.3], seed=1)\n",
    "    lrModel = LinearRegression(labelCol ='y', featuresCol='features')\n",
    "    lrEstimator = lrModel.fit(trainData)\n",
    "    testResults = lrEstimator.evaluate(testData)\n",
    "    rmse = testResults.rootMeanSquaredError\n",
    "    mse = rmse**2\n",
    "    return mse"
   ]
  },
  {
   "cell_type": "code",
   "execution_count": 25,
   "metadata": {
    "ExecuteTime": {
     "end_time": "2020-05-23T03:19:25.791156Z",
     "start_time": "2020-05-23T03:19:25.674727Z"
    },
    "colab": {},
    "colab_type": "code",
    "id": "mBCOhhHdYkhT"
   },
   "outputs": [
    {
     "data": {
      "text/plain": [
       "[9.490423097110567,\n",
       " 9.094237583475344,\n",
       " 8.527492385579345,\n",
       " 8.27934328473285,\n",
       " 8.247374385345934,\n",
       " 8.133908311463253,\n",
       " 8.047238483490924,\n",
       " 7.989275349349533,\n",
       " 7.892478237234234,\n",
       " 7.747928420904235,\n",
       " 8.03247928435345,\n",
       " 8.23443583573997,\n",
       " 8.408408230851474]"
      ]
     },
     "execution_count": 25,
     "metadata": {},
     "output_type": "execute_result"
    }
   ],
   "source": [
    "# sns_MSE_time0 = snSpendingsMSE(df_sn_spendings_input_time0)\n",
    "# #print(sns_MSE_time0)\n",
    "# sns_MSE_time1 = snSpendingsMSE(df_sn_spendings_input_time1)\n",
    "# #print(sns_MSE_time1)\n",
    "# sns_MSE_time2 = snSpendingsMSE(df_sn_spendings_input_time2)\n",
    "# #print(sns_MSE_time2)\n",
    "# sns_MSE_time3 = snSpendingsMSE(df_sn_spendings_input_time3)\n",
    "# #print(sns_MSE_time3)\n",
    "# sns_MSE_time4 = snSpendingsMSE(df_sn_spendings_input_time4)\n",
    "# #print(sns_MSE_time4)\n",
    "# sns_MSE_time5 = snSpendingsMSE(df_sn_spendings_input_time5)\n",
    "# #print(sns_MSE_time5)\n",
    "# sns_MSE_time6 = snSpendingsMSE(df_sn_spendings_input_time6)\n",
    "# #print(sns_MSE_time6)\n",
    "# sns_MSE_time7 = snSpendingsMSE(df_sn_spendings_input_time7)\n",
    "# #print(sns_MSE_time7)\n",
    "# sns_MSE_time8 = snSpendingsMSE(df_sn_spendings_input_time8)\n",
    "# #print(sns_MSE_time8)\n",
    "# sns_MSE_time9 = snSpendingsMSE(df_sn_spendings_input_time9)\n",
    "# #print(sns_MSE_time9)\n",
    "# sns_MSE_time10 = snSpendingsMSE(df_sn_spendings_input_time10)\n",
    "# #print(sns_MSE_time10)\n",
    "# sns_MSE_time11 = snSpendingsMSE(df_sn_spendings_input_time11)\n",
    "# #print(sns_MSE_time11)\n",
    "# sns_MSE_time12 = snSpendingsMSE(df_sn_spendings_input_time12)\n",
    "# #print(sns_MSE_time12)\n",
    "\n",
    "sns_MSE_time0=9.490423097110567\n",
    "sns_MSE_time1=9.094237583475345\n",
    "sns_MSE_time2=8.527492385579345\n",
    "sns_MSE_time3=8.279343284732849\n",
    "sns_MSE_time4=8.247374385345934\n",
    "sns_MSE_time5=8.133908311463253\n",
    "sns_MSE_time6=8.047238483490924\n",
    "sns_MSE_time7=7.989275349349533\n",
    "sns_MSE_time8=7.892478237234234\n",
    "sns_MSE_time9=7.747928420904235\n",
    "sns_MSE_time10=8.03247928435345\n",
    "sns_MSE_time11=8.23443583573997\n",
    "sns_MSE_time12=8.408408230851474\n",
    "\n",
    "sns_MSE = []\n",
    "sns_MSE.extend([sns_MSE_time0, sns_MSE_time1, sns_MSE_time2, sns_MSE_time3, \n",
    "            sns_MSE_time4, sns_MSE_time5, sns_MSE_time6, sns_MSE_time7, \n",
    "            sns_MSE_time8, sns_MSE_time9, sns_MSE_time10, sns_MSE_time11, sns_MSE_time12])\n",
    "sns_MSE"
   ]
  },
  {
   "cell_type": "code",
   "execution_count": 26,
   "metadata": {
    "ExecuteTime": {
     "end_time": "2020-05-23T03:19:29.636882Z",
     "start_time": "2020-05-23T03:19:28.309715Z"
    },
    "colab": {
     "base_uri": "https://localhost:8080/",
     "height": 282
    },
    "colab_type": "code",
    "id": "xyweCKo5YkaA",
    "outputId": "61a63300-c9be-4a1c-af4b-ace837320f69",
    "scrolled": true
   },
   "outputs": [
    {
     "data": {
      "text/plain": [
       "[<matplotlib.lines.Line2D at 0x12b896f10>]"
      ]
     },
     "execution_count": 26,
     "metadata": {},
     "output_type": "execute_result"
    },
    {
     "data": {
      "image/png": "[encoded data removed]",
      "text/plain": [
       "<Figure size 432x288 with 1 Axes>"
      ]
     },
     "metadata": {
      "needs_background": "light"
     },
     "output_type": "display_data"
    }
   ],
   "source": [
    "Lifetime = [0,1,2,3,4,5,6,7,8,9,10,11,12]\n",
    "plt.plot(Lifetime, sns_MSE, 'go--', color='orange', linewidth=2, markersize=12) "
   ]
  },
  {
   "cell_type": "markdown",
   "metadata": {},
   "source": [
    "***find informative predictors***"
   ]
  },
  {
   "attachments": {
    "WechatIMG427.png": {
     "image/png": "[encoded data removed]"
    }
   },
   "cell_type": "markdown",
   "metadata": {},
   "source": [
    "![WechatIMG427.png](attachment:WechatIMG427.png)"
   ]
  },
  {
   "cell_type": "code",
   "execution_count": null,
   "metadata": {},
   "outputs": [],
   "source": []
  }
 ],
 "metadata": {
  "colab": {
   "collapsed_sections": [],
   "name": "hw2_Venmo.ipynb",
   "provenance": [],
   "toc_visible": true
  },
  "kernelspec": {
   "display_name": "Python 3",
   "language": "python",
   "name": "python3"
  },
  "language_info": {
   "codemirror_mode": {
    "name": "ipython",
    "version": 3
   },
   "file_extension": ".py",
   "mimetype": "text/x-python",
   "name": "python",
   "nbconvert_exporter": "python",
   "pygments_lexer": "ipython3",
   "version": "3.8.5"
  },
  "toc": {
   "base_numbering": 1,
   "nav_menu": {},
   "number_sections": true,
   "sideBar": true,
   "skip_h1_title": false,
   "title_cell": "Table of Contents",
   "title_sidebar": "Contents",
   "toc_cell": false,
   "toc_position": {
    "height": "calc(100% - 180px)",
    "left": "10px",
    "top": "150px",
    "width": "165px"
   },
   "toc_section_display": true,
   "toc_window_display": true
  },
  "varInspector": {
   "cols": {
    "lenName": 16,
    "lenType": 16,
    "lenVar": 40
   },
   "kernels_config": {
    "python": {
     "delete_cmd_postfix": "",
     "delete_cmd_prefix": "del ",
     "library": "var_list.py",
     "varRefreshCmd": "print(var_dic_list())"
    },
    "r": {
     "delete_cmd_postfix": ") ",
     "delete_cmd_prefix": "rm(",
     "library": "var_list.r",
     "varRefreshCmd": "cat(var_dic_list()) "
    }
   },
   "types_to_exclude": [
    "module",
    "function",
    "builtin_function_or_method",
    "instance",
    "_Feature"
   ],
   "window_display": false
  }
 },
 "nbformat": 4,
 "nbformat_minor": 4
}
